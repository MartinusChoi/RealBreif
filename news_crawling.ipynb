{
 "cells": [
  {
   "cell_type": "markdown",
   "id": "634ab080",
   "metadata": {},
   "source": [
    "# New Crawling Function\n",
    "---\n",
    "\n",
    "## 크롤링 방안\n",
    "\n",
    "| 구분 | 장점 | 단점 |\n",
    "| :-: | :-: | :-: |\n",
    "| naver 뉴스 API 활용 | 쉬운 사용 방법, 낮은 구현 난이도 | 수집 뉴스 수량 제한 (1일 최대 25000회 / 1회 최대 100개) |\n",
    "| 각 언론사 별 뉴스 홈페이지 직접 크롤링 | 뉴스 크롤링 직접 구현 필요 | 수집량 제한 없음 (과도한 요청 지양 필요) |\n",
    "\n",
    "## 언론사 리스트\n",
    "\n",
    "- 국민일보\n",
    "- The JoongAng\n",
    "- 뉴데일리\n",
    "- 데일리안\n",
    "- 한국경제TV\n",
    "- KBS NEWS\n",
    "- 아이뉴스24\n",
    "- 문화일보\n",
    "- Jtbc\n",
    "- 시사IN\n",
    "- ChannelA\n",
    "- 서울신문\n",
    "- YTN\n",
    "- 한겨레\n",
    "- MBN NEWS\n",
    "- SBS NEWS\n",
    "- 해럴드경제\n",
    "- 매일경제\n",
    "- 경향신문\n",
    "- ChosunBiz\n",
    "- 조선일보"
   ]
  },
  {
   "cell_type": "markdown",
   "id": "ca36f13e",
   "metadata": {},
   "source": [
    "## Import"
   ]
  },
  {
   "cell_type": "code",
   "execution_count": 19,
   "id": "1fec09a1",
   "metadata": {},
   "outputs": [],
   "source": [
    "# selenium framework\n",
    "from selenium import webdriver\n",
    "from selenium.webdriver.common.by import By\n",
    "from selenium.webdriver.common.keys import Keys\n",
    "from selenium.webdriver.support.ui import WebDriverWait\n",
    "from selenium.webdriver.support import expected_conditions as EC\n",
    "\n",
    "# Set Chrome Driver\n",
    "from selenium.webdriver.chrome.service import Service\n",
    "from webdriver_manager.chrome import ChromeDriverManager # chrome web driver manager\n",
    "\n",
    "# parse html\n",
    "from bs4 import BeautifulSoup\n",
    "\n",
    "# utils\n",
    "import time\n",
    "import pandas as pd"
   ]
  },
  {
   "cell_type": "code",
   "execution_count": null,
   "id": "7335216b",
   "metadata": {},
   "outputs": [],
   "source": [
    "driver = webdriver.Chrome(service=Service(ChromeDriverManager().install())) # get web driver\n",
    "driver.get(\"https://www.kmib.co.kr/\") # get into website url\n",
    "\n",
    "# 검색 버튼 클릭\n",
    "search_btn = WebDriverWait(driver, 10).until(\n",
    "    EC.element_to_be_clickable((By.XPATH, '/html/body/div/header/div[1]/nav/div[3]/ul/li[1]/button'))\n",
    ")\n",
    "search_btn.click()\n",
    "\n",
    "# 키워드 검색\n",
    "search_input_element = driver.find_element(By.XPATH, '/html/body/div/header/div[2]/div/div/div/input')\n",
    "search_btn = WebDriverWait(driver, 10).until(\n",
    "    EC.element_to_be_clickable((By.XPATH, '/html/body/div/header/div[2]/div/div/div/button'))\n",
    ")\n",
    "search_input_element.send_keys(\"삼성전자\")\n",
    "search_btn.click()\n",
    "time.sleep(3)\n",
    "\n",
    "articles = []\n",
    "\n",
    "# 뉴스 검색 결과 순환 (페이지 내 순환 -> 페이지 순환)\n",
    "for _ in range(3):\n",
    "    for page_idx in range(3,7):\n",
    "        news_entities = driver.find_elements(By.CLASS_NAME, \"card_body\") # 페이지 내 뉴스 수 파악\n",
    "        for idx in range(1, len(news_entities)+1):\n",
    "            # news 접근\n",
    "            news_entity = driver.find_element(By.XPATH, f\"/html/body/div[1]/div/div/section/div[2]/div[{idx}]/div/div[1]/a\")\n",
    "            news_entity.click()\n",
    "            time.sleep(2)\n",
    "            \n",
    "            # 제목 수집\n",
    "            header = driver.find_element(By.XPATH, \"/html/body/div[1]/div/section/article/header/h1\").text\n",
    "            # 게시/수정일 수집\n",
    "            post_date = driver.find_element(By.XPATH, \"/html/body/div[1]/div/section/article/header/div[2]/div[1]/div[1]/span\").text\n",
    "            try: modified_date = driver.find_element(By.XPATH, \"/html/body/div[1]/div/section/article/header/div[2]/div[1]/div[2]/span\").text\n",
    "            except: modified_date = None\n",
    "            # 기사 본문 수집\n",
    "            article_body = driver.find_element(By.XPATH, \"/html/body/div[1]/div/section/article/div[1]/div[1]\").text\n",
    "\n",
    "            # 수집 결과 정리\n",
    "            articles.append(\n",
    "                {\n",
    "                    \"header\" : header,\n",
    "                    \"meta_data\" : {\n",
    "                        \"post_date\" : post_date,\n",
    "                        \"modified_date\" : modified_date\n",
    "                    },\n",
    "                    \"content\" : article_body\n",
    "                }\n",
    "            )\n",
    "\n",
    "            # 목록으로 복귀\n",
    "            driver.back()\n",
    "            time.sleep(1)\n",
    "        \n",
    "        # 다음 페이지 이동\n",
    "        next_page_btn = WebDriverWait(driver, 10).until(\n",
    "            EC.element_to_be_clickable((By.XPATH, f\"/html/body/div[1]/div/div/section/div[3]/ul/li[{page_idx}]/a\"))\n",
    "        )\n",
    "        next_page_btn.click()\n",
    "        time.sleep(1.5)\n",
    "    \n",
    "    # 다음 페이지 목록으로 이동\n",
    "    next_page_nums_btn = WebDriverWait(driver, 10).until(\n",
    "        EC.element_to_be_clickable((By.XPATH, \"/html/body/div[1]/div/div/section/div[3]/ul/li[7]/a\"))\n",
    "    )\n",
    "    next_page_nums_btn.click()\n",
    "    time.sleep(1.5)"
   ]
  },
  {
   "cell_type": "code",
   "execution_count": 16,
   "id": "48129a2a",
   "metadata": {},
   "outputs": [
    {
     "data": {
      "text/plain": [
       "120"
      ]
     },
     "execution_count": 16,
     "metadata": {},
     "output_type": "execute_result"
    }
   ],
   "source": [
    "len(articles)"
   ]
  },
  {
   "cell_type": "code",
   "execution_count": 22,
   "id": "e45efcf7",
   "metadata": {},
   "outputs": [],
   "source": [
    "pd.DataFrame(articles).to_csv(\"./data/news_crawling_results.csv\", index=False)"
   ]
  },
  {
   "cell_type": "code",
   "execution_count": null,
   "id": "9464e306",
   "metadata": {},
   "outputs": [],
   "source": []
  }
 ],
 "metadata": {
  "kernelspec": {
   "display_name": "company_breif_pjt",
   "language": "python",
   "name": "python3"
  },
  "language_info": {
   "codemirror_mode": {
    "name": "ipython",
    "version": 3
   },
   "file_extension": ".py",
   "mimetype": "text/x-python",
   "name": "python",
   "nbconvert_exporter": "python",
   "pygments_lexer": "ipython3",
   "version": "3.10.13"
  }
 },
 "nbformat": 4,
 "nbformat_minor": 5
}
