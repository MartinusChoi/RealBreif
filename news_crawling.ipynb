{
 "cells": [
  {
   "cell_type": "markdown",
   "id": "634ab080",
   "metadata": {},
   "source": [
    "# New Crawling Function\n",
    "---\n",
    "\n",
    "## 크롤링 방안\n",
    "\n",
    "| 구분 | 장점 | 단점 |\n",
    "| :-: | :-: | :-: |\n",
    "| naver 뉴스 API 활용 | 쉬운 사용 방법, 낮은 구현 난이도 | 수집 뉴스 수량 제한 (1일 최대 25000회 / 1회 최대 100개) |\n",
    "| 각 언론사 별 뉴스 홈페이지 직접 크롤링 | 뉴스 크롤링 직접 구현 필요 | 수집량 제한 없음 (과도한 요청 지양 필요) |\n",
    "\n",
    "## 언론사 리스트\n",
    "\n",
    "- 국민일보\n",
    "- The JoongAng\n",
    "- 뉴데일리\n",
    "- 데일리안\n",
    "- 한국경제TV\n",
    "- KBS NEWS\n",
    "- 아이뉴스24\n",
    "- 문화일보\n",
    "- Jtbc\n",
    "- 시사IN\n",
    "- ChannelA\n",
    "- 서울신문\n",
    "- YTN\n",
    "- 한겨레\n",
    "- MBN NEWS\n",
    "- SBS NEWS\n",
    "- 해럴드경제\n",
    "- 매일경제\n",
    "- 경향신문\n",
    "- ChosunBiz\n",
    "- 조선일보"
   ]
  },
  {
   "cell_type": "markdown",
   "id": "ca36f13e",
   "metadata": {},
   "source": [
    "## Import"
   ]
  },
  {
   "cell_type": "code",
   "execution_count": 13,
   "id": "1fec09a1",
   "metadata": {},
   "outputs": [],
   "source": [
    "# selenium framework\n",
    "from selenium import webdriver\n",
    "from selenium.webdriver.common.by import By\n",
    "from selenium.webdriver.common.keys import Keys\n",
    "from selenium.webdriver.support.ui import WebDriverWait\n",
    "from selenium.webdriver.support import expected_conditions as EC\n",
    "\n",
    "# Set Chrome Driver\n",
    "from selenium.webdriver.chrome.service import Service\n",
    "from webdriver_manager.chrome import ChromeDriverManager # chrome web driver manager\n",
    "\n",
    "# parse html\n",
    "from bs4 import BeautifulSoup\n",
    "\n",
    "# utils\n",
    "import time"
   ]
  },
  {
   "cell_type": "code",
   "execution_count": 20,
   "id": "7335216b",
   "metadata": {},
   "outputs": [],
   "source": [
    "driver = webdriver.Chrome(service=Service(ChromeDriverManager().install())) # get web driver\n",
    "driver.get(\"https://www.kmib.co.kr/\") # get into website url\n",
    "\n",
    "search_btn = WebDriverWait(driver, 10).until(\n",
    "    EC.element_to_be_clickable((By.XPATH, '/html/body/div/header/div[1]/nav/div[3]/ul/li[1]/button'))\n",
    ")\n",
    "search_btn.click()\n",
    "\n",
    "search_input_element = driver.find_element(By.XPATH, '/html/body/div/header/div[2]/div/div/div/input')\n",
    "search_btn = WebDriverWait(driver, 10).until(\n",
    "    EC.element_to_be_clickable((By.XPATH, '/html/body/div/header/div[2]/div/div/div/button'))\n",
    ")\n",
    "search_input_element.send_keys(\"삼성전자\")\n",
    "search_btn.click()"
   ]
  },
  {
   "cell_type": "code",
   "execution_count": null,
   "id": "a5ad70f3",
   "metadata": {},
   "outputs": [],
   "source": []
  }
 ],
 "metadata": {
  "kernelspec": {
   "display_name": "company_breif_pjt",
   "language": "python",
   "name": "python3"
  },
  "language_info": {
   "codemirror_mode": {
    "name": "ipython",
    "version": 3
   },
   "file_extension": ".py",
   "mimetype": "text/x-python",
   "name": "python",
   "nbconvert_exporter": "python",
   "pygments_lexer": "ipython3",
   "version": "3.10.13"
  }
 },
 "nbformat": 4,
 "nbformat_minor": 5
}
