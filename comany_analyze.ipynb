{
 "cells": [
  {
   "cell_type": "markdown",
   "id": "a4cf514a",
   "metadata": {},
   "source": [
    "# 기업 주요 분석 과제 구현"
   ]
  },
  {
   "cell_type": "markdown",
   "id": "e8eeab59",
   "metadata": {},
   "source": [
    "## 0. Import"
   ]
  },
  {
   "cell_type": "code",
   "execution_count": null,
   "id": "b37b44f2",
   "metadata": {},
   "outputs": [],
   "source": [
    "import os\n",
    "from dotenv import load_dotenv\n",
    "import datetime\n",
    "\n",
    "import pandas as pd\n",
    "import numpy as np\n",
    "\n",
    "import plotly.graph_objects as go\n",
    "\n",
    "from selenium import webdriver\n",
    "from selenium.webdriver.common.by import By\n",
    "\n",
    "from typing import Annotated, List\n",
    "from typing_extensions import TypedDict\n",
    "\n",
    "import datetime\n",
    "\n",
    "from langchain_community.tools.tavily_search import TavilySearchResults\n",
    "from langchain_openai import ChatOpenAI\n",
    "from langchain_core.tools import tool\n",
    "from langchain_core.messages import SystemMessage\n",
    "\n",
    "from langgraph.graph import START, END, StateGraph\n",
    "from langgraph.graph.message import add_messages\n",
    "from langgraph.prebuilt import create_react_agent"
   ]
  },
  {
   "cell_type": "code",
   "execution_count": 2,
   "id": "a1a50946",
   "metadata": {},
   "outputs": [
    {
     "data": {
      "text/plain": [
       "True"
      ]
     },
     "execution_count": 2,
     "metadata": {},
     "output_type": "execute_result"
    }
   ],
   "source": [
    "load_dotenv()"
   ]
  },
  {
   "cell_type": "markdown",
   "id": "ae7f4bbb",
   "metadata": {},
   "source": [
    "## 1. 경쟁 기업 개요/현황"
   ]
  },
  {
   "cell_type": "markdown",
   "id": "9c599c60",
   "metadata": {},
   "source": [
    "### 1-1. 기본 정보/규모\n",
    "\n",
    "> 설립 연도, 위치, 조직 규모, 대표 이사, 주 사업 분야 등"
   ]
  },
  {
   "cell_type": "markdown",
   "id": "8864ce94",
   "metadata": {},
   "source": [
    "- 잡코리아"
   ]
  },
  {
   "cell_type": "code",
   "execution_count": 111,
   "id": "8c23fcd6",
   "metadata": {},
   "outputs": [],
   "source": [
    "class BaseInfoLoader:\n",
    "    def __init__(self, url):\n",
    "        self.url = url\n",
    "        self.contents = []\n",
    "    \n",
    "    def load(self, in_pandas=False):\n",
    "        # search url\n",
    "        driver = webdriver.Chrome()\n",
    "        driver.get(self.url)\n",
    "\n",
    "        # find element with xpath\n",
    "        elements = driver.find_elements(By.XPATH, '//*[@id=\"company-body\"]/div[1]/div[1]/div/table')\n",
    "        for element in elements:\n",
    "            self.contents.append(element.text)\n",
    "        \n",
    "        # create base info dict\n",
    "        keys = []\n",
    "        values = []        \n",
    "        for idx, text in enumerate(self.contents[0].split('\\n')[1:]):\n",
    "            keys.append(text) if idx%2==0 else values.append(text)\n",
    "        self.info_dict = {\n",
    "            key : value\n",
    "            for key, value in zip(keys, values)\n",
    "        }\n",
    "\n",
    "        if in_pandas:\n",
    "            info_df = pd.DataFrame([self.info_dict])\n",
    "            return info_df\n",
    "        else:\n",
    "            return self.info_dict\n"
   ]
  },
  {
   "cell_type": "code",
   "execution_count": 112,
   "id": "30db97e0",
   "metadata": {},
   "outputs": [],
   "source": [
    "url = \"https://www.jobkorea.co.kr/Company/1696583\"\n",
    "\n",
    "loader = BaseInfoLoader(url)"
   ]
  },
  {
   "cell_type": "code",
   "execution_count": null,
   "id": "67ea176a",
   "metadata": {},
   "outputs": [],
   "source": [
    "info_df = loader.load(in_pandas=True)\n",
    "\n",
    "info_df"
   ]
  },
  {
   "cell_type": "code",
   "execution_count": null,
   "id": "b1788448",
   "metadata": {},
   "outputs": [
    {
     "data": {
      "text/plain": [
       "{'산업': '이동전화기 제조업',\n",
       " '사원수': '129,095명 (2024.12.31)',\n",
       " '기업구분': '대기업',\n",
       " '설립일': '1969.12.01 (57년차)',\n",
       " '자본금': '8,975억 1천만원 (2024.12.31)',\n",
       " '매출액': '209조 5백억원 (2024.12.31)',\n",
       " '대표자': '전영현',\n",
       " '대졸초임': '5,163만원 상세보기',\n",
       " '주요사업': '휴대폰,컴퓨터,네트워크시스템,핵심칩,반도체부품,디스플레이패널,가전제품,의료기기,프린터 제조',\n",
       " '4대보험': '국민연금, 건강보험, 고용보험, 산재보험',\n",
       " '홈페이지': 'http://www.samsung.com/sec',\n",
       " '주소': '경기 수원시 영통구 삼성로 129 (매탄동, 삼성전자)',\n",
       " '계열사': '삼성그룹 스테코(주) 삼성전자판매(주) 삼성벤처투자(주) 삼성전자로지텍(주) (주)시큐아이 (주)씨브이네트 (주)멀티캠퍼스 삼성생명서비스손해사정(주) (주)미라콤아이앤씨 세메스(주) 에스디플렉스(주) 삼성중공업(주) 삼성SDI(주) 삼성전기(주) 삼성메디슨(주) (주)하만인터내셔널코리아 더보기'}"
      ]
     },
     "execution_count": 108,
     "metadata": {},
     "output_type": "execute_result"
    }
   ],
   "source": [
    "loader.info_dict"
   ]
  },
  {
   "cell_type": "markdown",
   "id": "a782b64e",
   "metadata": {},
   "source": [
    "### 1-2. 비즈니스 모델\n",
    "\n",
    "\n",
    "비즈니스 모델의 핵심 구성 요소:\n",
    "\n",
    "- 고객 관계: 지속적인 관계를 조성하고 시간이 지남에 따라 고객 충성도를 구축하는 방법에 중점\n",
    "- 가치 제안: 제품 또는 서비스를 독특하고 매력적이며 고객에게 가치 있는 것으로 만드는 요소를 정의\n",
    "- 목표 고객: 이상적인 고객과 그들의 가장 시급한 니즈를 파악\n",
    "- 수익 흐름: 비즈니스가 어떻게 수입을 창출하는지 설명\n",
    "- 비용 구조: 비즈니스를 이끄는 주요 운영 비용을 강조\n",
    "- 핵심 리소스: 성공에 중요한 물리적, 인적, 재정적 또는 지적 재산과 같은 필수 자산에 대해 설명\n",
    "- 배포 채널: 제품 또는 서비스를 고객과 연결하고 고객에게 제공하는 방법을 설명\n",
    "\n",
    "> 이후 분석 과제에서 '고객층', '차별화 요소' 에 대한 분석이 이루어지므로,\n",
    "\n",
    "> '수익 흐름', '비용 구조' 를 중심으로 시각화 하는 것이 좋을 듯\n",
    ">> 이를 위해서는 '재무제표'활용 필요"
   ]
  },
  {
   "cell_type": "code",
   "execution_count": null,
   "id": "73a031a4",
   "metadata": {},
   "outputs": [
    {
     "data": {
      "application/vnd.plotly.v1+json": {
       "config": {
        "plotlyServerURL": "https://plot.ly"
       },
       "data": [
        {
         "link": {
          "source": [
           0,
           1,
           2,
           3,
           4,
           5,
           5,
           6,
           6,
           8,
           8,
           9,
           9
          ],
          "target": [
           5,
           5,
           5,
           5,
           5,
           6,
           7,
           8,
           9,
           10,
           11,
           12,
           13
          ],
          "value": [
           1748877,
           1110660,
           291578,
           142749,
           285155,
           1143086,
           1865622,
           327259,
           815826,
           815826,
           327259
          ]
         },
         "node": {
          "label": [
           "DX부문 매출",
           "DS부문 매출",
           "SDC",
           "Harman",
           "기타",
           "총 매출",
           "매출총이익",
           "매출원가",
           "영업이익",
           "영업비용",
           "순이익",
           "법인세",
           "판매비와관리비",
           "기타비용"
          ],
          "line": {
           "color": "black",
           "width": 0.5
          },
          "pad": 15,
          "thickness": 20
         },
         "type": "sankey"
        }
       ],
       "layout": {
        "font": {
         "size": 10
        },
        "template": {
         "data": {
          "bar": [
           {
            "error_x": {
             "color": "#2a3f5f"
            },
            "error_y": {
             "color": "#2a3f5f"
            },
            "marker": {
             "line": {
              "color": "#E5ECF6",
              "width": 0.5
             },
             "pattern": {
              "fillmode": "overlay",
              "size": 10,
              "solidity": 0.2
             }
            },
            "type": "bar"
           }
          ],
          "barpolar": [
           {
            "marker": {
             "line": {
              "color": "#E5ECF6",
              "width": 0.5
             },
             "pattern": {
              "fillmode": "overlay",
              "size": 10,
              "solidity": 0.2
             }
            },
            "type": "barpolar"
           }
          ],
          "carpet": [
           {
            "aaxis": {
             "endlinecolor": "#2a3f5f",
             "gridcolor": "white",
             "linecolor": "white",
             "minorgridcolor": "white",
             "startlinecolor": "#2a3f5f"
            },
            "baxis": {
             "endlinecolor": "#2a3f5f",
             "gridcolor": "white",
             "linecolor": "white",
             "minorgridcolor": "white",
             "startlinecolor": "#2a3f5f"
            },
            "type": "carpet"
           }
          ],
          "choropleth": [
           {
            "colorbar": {
             "outlinewidth": 0,
             "ticks": ""
            },
            "type": "choropleth"
           }
          ],
          "contour": [
           {
            "colorbar": {
             "outlinewidth": 0,
             "ticks": ""
            },
            "colorscale": [
             [
              0,
              "#0d0887"
             ],
             [
              0.1111111111111111,
              "#46039f"
             ],
             [
              0.2222222222222222,
              "#7201a8"
             ],
             [
              0.3333333333333333,
              "#9c179e"
             ],
             [
              0.4444444444444444,
              "#bd3786"
             ],
             [
              0.5555555555555556,
              "#d8576b"
             ],
             [
              0.6666666666666666,
              "#ed7953"
             ],
             [
              0.7777777777777778,
              "#fb9f3a"
             ],
             [
              0.8888888888888888,
              "#fdca26"
             ],
             [
              1,
              "#f0f921"
             ]
            ],
            "type": "contour"
           }
          ],
          "contourcarpet": [
           {
            "colorbar": {
             "outlinewidth": 0,
             "ticks": ""
            },
            "type": "contourcarpet"
           }
          ],
          "heatmap": [
           {
            "colorbar": {
             "outlinewidth": 0,
             "ticks": ""
            },
            "colorscale": [
             [
              0,
              "#0d0887"
             ],
             [
              0.1111111111111111,
              "#46039f"
             ],
             [
              0.2222222222222222,
              "#7201a8"
             ],
             [
              0.3333333333333333,
              "#9c179e"
             ],
             [
              0.4444444444444444,
              "#bd3786"
             ],
             [
              0.5555555555555556,
              "#d8576b"
             ],
             [
              0.6666666666666666,
              "#ed7953"
             ],
             [
              0.7777777777777778,
              "#fb9f3a"
             ],
             [
              0.8888888888888888,
              "#fdca26"
             ],
             [
              1,
              "#f0f921"
             ]
            ],
            "type": "heatmap"
           }
          ],
          "histogram": [
           {
            "marker": {
             "pattern": {
              "fillmode": "overlay",
              "size": 10,
              "solidity": 0.2
             }
            },
            "type": "histogram"
           }
          ],
          "histogram2d": [
           {
            "colorbar": {
             "outlinewidth": 0,
             "ticks": ""
            },
            "colorscale": [
             [
              0,
              "#0d0887"
             ],
             [
              0.1111111111111111,
              "#46039f"
             ],
             [
              0.2222222222222222,
              "#7201a8"
             ],
             [
              0.3333333333333333,
              "#9c179e"
             ],
             [
              0.4444444444444444,
              "#bd3786"
             ],
             [
              0.5555555555555556,
              "#d8576b"
             ],
             [
              0.6666666666666666,
              "#ed7953"
             ],
             [
              0.7777777777777778,
              "#fb9f3a"
             ],
             [
              0.8888888888888888,
              "#fdca26"
             ],
             [
              1,
              "#f0f921"
             ]
            ],
            "type": "histogram2d"
           }
          ],
          "histogram2dcontour": [
           {
            "colorbar": {
             "outlinewidth": 0,
             "ticks": ""
            },
            "colorscale": [
             [
              0,
              "#0d0887"
             ],
             [
              0.1111111111111111,
              "#46039f"
             ],
             [
              0.2222222222222222,
              "#7201a8"
             ],
             [
              0.3333333333333333,
              "#9c179e"
             ],
             [
              0.4444444444444444,
              "#bd3786"
             ],
             [
              0.5555555555555556,
              "#d8576b"
             ],
             [
              0.6666666666666666,
              "#ed7953"
             ],
             [
              0.7777777777777778,
              "#fb9f3a"
             ],
             [
              0.8888888888888888,
              "#fdca26"
             ],
             [
              1,
              "#f0f921"
             ]
            ],
            "type": "histogram2dcontour"
           }
          ],
          "mesh3d": [
           {
            "colorbar": {
             "outlinewidth": 0,
             "ticks": ""
            },
            "type": "mesh3d"
           }
          ],
          "parcoords": [
           {
            "line": {
             "colorbar": {
              "outlinewidth": 0,
              "ticks": ""
             }
            },
            "type": "parcoords"
           }
          ],
          "pie": [
           {
            "automargin": true,
            "type": "pie"
           }
          ],
          "scatter": [
           {
            "fillpattern": {
             "fillmode": "overlay",
             "size": 10,
             "solidity": 0.2
            },
            "type": "scatter"
           }
          ],
          "scatter3d": [
           {
            "line": {
             "colorbar": {
              "outlinewidth": 0,
              "ticks": ""
             }
            },
            "marker": {
             "colorbar": {
              "outlinewidth": 0,
              "ticks": ""
             }
            },
            "type": "scatter3d"
           }
          ],
          "scattercarpet": [
           {
            "marker": {
             "colorbar": {
              "outlinewidth": 0,
              "ticks": ""
             }
            },
            "type": "scattercarpet"
           }
          ],
          "scattergeo": [
           {
            "marker": {
             "colorbar": {
              "outlinewidth": 0,
              "ticks": ""
             }
            },
            "type": "scattergeo"
           }
          ],
          "scattergl": [
           {
            "marker": {
             "colorbar": {
              "outlinewidth": 0,
              "ticks": ""
             }
            },
            "type": "scattergl"
           }
          ],
          "scattermap": [
           {
            "marker": {
             "colorbar": {
              "outlinewidth": 0,
              "ticks": ""
             }
            },
            "type": "scattermap"
           }
          ],
          "scattermapbox": [
           {
            "marker": {
             "colorbar": {
              "outlinewidth": 0,
              "ticks": ""
             }
            },
            "type": "scattermapbox"
           }
          ],
          "scatterpolar": [
           {
            "marker": {
             "colorbar": {
              "outlinewidth": 0,
              "ticks": ""
             }
            },
            "type": "scatterpolar"
           }
          ],
          "scatterpolargl": [
           {
            "marker": {
             "colorbar": {
              "outlinewidth": 0,
              "ticks": ""
             }
            },
            "type": "scatterpolargl"
           }
          ],
          "scatterternary": [
           {
            "marker": {
             "colorbar": {
              "outlinewidth": 0,
              "ticks": ""
             }
            },
            "type": "scatterternary"
           }
          ],
          "surface": [
           {
            "colorbar": {
             "outlinewidth": 0,
             "ticks": ""
            },
            "colorscale": [
             [
              0,
              "#0d0887"
             ],
             [
              0.1111111111111111,
              "#46039f"
             ],
             [
              0.2222222222222222,
              "#7201a8"
             ],
             [
              0.3333333333333333,
              "#9c179e"
             ],
             [
              0.4444444444444444,
              "#bd3786"
             ],
             [
              0.5555555555555556,
              "#d8576b"
             ],
             [
              0.6666666666666666,
              "#ed7953"
             ],
             [
              0.7777777777777778,
              "#fb9f3a"
             ],
             [
              0.8888888888888888,
              "#fdca26"
             ],
             [
              1,
              "#f0f921"
             ]
            ],
            "type": "surface"
           }
          ],
          "table": [
           {
            "cells": {
             "fill": {
              "color": "#EBF0F8"
             },
             "line": {
              "color": "white"
             }
            },
            "header": {
             "fill": {
              "color": "#C8D4E3"
             },
             "line": {
              "color": "white"
             }
            },
            "type": "table"
           }
          ]
         },
         "layout": {
          "annotationdefaults": {
           "arrowcolor": "#2a3f5f",
           "arrowhead": 0,
           "arrowwidth": 1
          },
          "autotypenumbers": "strict",
          "coloraxis": {
           "colorbar": {
            "outlinewidth": 0,
            "ticks": ""
           }
          },
          "colorscale": {
           "diverging": [
            [
             0,
             "#8e0152"
            ],
            [
             0.1,
             "#c51b7d"
            ],
            [
             0.2,
             "#de77ae"
            ],
            [
             0.3,
             "#f1b6da"
            ],
            [
             0.4,
             "#fde0ef"
            ],
            [
             0.5,
             "#f7f7f7"
            ],
            [
             0.6,
             "#e6f5d0"
            ],
            [
             0.7,
             "#b8e186"
            ],
            [
             0.8,
             "#7fbc41"
            ],
            [
             0.9,
             "#4d9221"
            ],
            [
             1,
             "#276419"
            ]
           ],
           "sequential": [
            [
             0,
             "#0d0887"
            ],
            [
             0.1111111111111111,
             "#46039f"
            ],
            [
             0.2222222222222222,
             "#7201a8"
            ],
            [
             0.3333333333333333,
             "#9c179e"
            ],
            [
             0.4444444444444444,
             "#bd3786"
            ],
            [
             0.5555555555555556,
             "#d8576b"
            ],
            [
             0.6666666666666666,
             "#ed7953"
            ],
            [
             0.7777777777777778,
             "#fb9f3a"
            ],
            [
             0.8888888888888888,
             "#fdca26"
            ],
            [
             1,
             "#f0f921"
            ]
           ],
           "sequentialminus": [
            [
             0,
             "#0d0887"
            ],
            [
             0.1111111111111111,
             "#46039f"
            ],
            [
             0.2222222222222222,
             "#7201a8"
            ],
            [
             0.3333333333333333,
             "#9c179e"
            ],
            [
             0.4444444444444444,
             "#bd3786"
            ],
            [
             0.5555555555555556,
             "#d8576b"
            ],
            [
             0.6666666666666666,
             "#ed7953"
            ],
            [
             0.7777777777777778,
             "#fb9f3a"
            ],
            [
             0.8888888888888888,
             "#fdca26"
            ],
            [
             1,
             "#f0f921"
            ]
           ]
          },
          "colorway": [
           "#636efa",
           "#EF553B",
           "#00cc96",
           "#ab63fa",
           "#FFA15A",
           "#19d3f3",
           "#FF6692",
           "#B6E880",
           "#FF97FF",
           "#FECB52"
          ],
          "font": {
           "color": "#2a3f5f"
          },
          "geo": {
           "bgcolor": "white",
           "lakecolor": "white",
           "landcolor": "#E5ECF6",
           "showlakes": true,
           "showland": true,
           "subunitcolor": "white"
          },
          "hoverlabel": {
           "align": "left"
          },
          "hovermode": "closest",
          "mapbox": {
           "style": "light"
          },
          "paper_bgcolor": "white",
          "plot_bgcolor": "#E5ECF6",
          "polar": {
           "angularaxis": {
            "gridcolor": "white",
            "linecolor": "white",
            "ticks": ""
           },
           "bgcolor": "#E5ECF6",
           "radialaxis": {
            "gridcolor": "white",
            "linecolor": "white",
            "ticks": ""
           }
          },
          "scene": {
           "xaxis": {
            "backgroundcolor": "#E5ECF6",
            "gridcolor": "white",
            "gridwidth": 2,
            "linecolor": "white",
            "showbackground": true,
            "ticks": "",
            "zerolinecolor": "white"
           },
           "yaxis": {
            "backgroundcolor": "#E5ECF6",
            "gridcolor": "white",
            "gridwidth": 2,
            "linecolor": "white",
            "showbackground": true,
            "ticks": "",
            "zerolinecolor": "white"
           },
           "zaxis": {
            "backgroundcolor": "#E5ECF6",
            "gridcolor": "white",
            "gridwidth": 2,
            "linecolor": "white",
            "showbackground": true,
            "ticks": "",
            "zerolinecolor": "white"
           }
          },
          "shapedefaults": {
           "line": {
            "color": "#2a3f5f"
           }
          },
          "ternary": {
           "aaxis": {
            "gridcolor": "white",
            "linecolor": "white",
            "ticks": ""
           },
           "baxis": {
            "gridcolor": "white",
            "linecolor": "white",
            "ticks": ""
           },
           "bgcolor": "#E5ECF6",
           "caxis": {
            "gridcolor": "white",
            "linecolor": "white",
            "ticks": ""
           }
          },
          "title": {
           "x": 0.05
          },
          "xaxis": {
           "automargin": true,
           "gridcolor": "white",
           "linecolor": "white",
           "ticks": "",
           "title": {
            "standoff": 15
           },
           "zerolinecolor": "white",
           "zerolinewidth": 2
          },
          "yaxis": {
           "automargin": true,
           "gridcolor": "white",
           "linecolor": "white",
           "ticks": "",
           "title": {
            "standoff": 15
           },
           "zerolinecolor": "white",
           "zerolinewidth": 2
          }
         }
        },
        "title": {
         "text": "삼성전자 수익구조"
        }
       }
      }
     },
     "metadata": {},
     "output_type": "display_data"
    }
   ],
   "source": [
    "labels = [\n",
    "    \"DX부문 매출\", \"DS부문 매출\", \"SDC\", \"Harman\", \"기타\", # 1단계\n",
    "    \"총 매출\",                                         # 2단계\n",
    "    \"매출총이익\", \"매출원가\",                             # 3단계 \n",
    "    \"영업이익\", \"판매비와관리비\",                              # 4단계\n",
    "    \"순이익\", \"법인세\", \"판매비와관리비\", \"기타비용\"           # 5단계\n",
    "]\n",
    "\n",
    "# 단계별로 source와 target을 연결\n",
    "source = [0, 1, 2, 3, 4, 5, 5, 6, 6, 8, 8, 9, 9]\n",
    "target = [5, 5, 5, 5, 5, 6, 7, 8, 9, 10, 11, 12, 13]\n",
    "values = [1748877, 1110660, 291578, 142749, 285155, \n",
    "          1143086, 1865622, \n",
    "          327259, 815826, \n",
    "          815826, 327259]\n",
    "\n",
    "fig = go.Figure(go.Sankey(\n",
    "    node=dict(\n",
    "        pad=15, thickness=20,\n",
    "        line=dict(color=\"black\", width=0.5),\n",
    "        label=labels,\n",
    "    ),\n",
    "    link=dict(\n",
    "        source=source,\n",
    "        target=target,\n",
    "        value=values\n",
    "    )\n",
    "))\n",
    "\n",
    "fig.update_layout(title_text=\"삼성전자 수익구조\", font_size=10)"
   ]
  },
  {
   "cell_type": "markdown",
   "id": "db7eacb6",
   "metadata": {},
   "source": [
    "### 1-3. 기업 평가/인식 분석\n",
    "\n",
    "> 뉴스, 보도자료, 리뷰 등 인터넷 자료 수집 및 분석\n",
    ">> 워드클라우드, 긍/부정, 네트워크분석 등 ...\n",
    "\n",
    "- 기업 평가 및 인식\n",
    "    1. 기업 브랜드 인식\n",
    "    2. 제품 인식"
   ]
  },
  {
   "cell_type": "code",
   "execution_count": 28,
   "id": "3d6d593d",
   "metadata": {},
   "outputs": [],
   "source": [
    "\"\"\"\n",
    "> tavily search result schema\n",
    "\n",
    "{\n",
    "    'title' : ,\n",
    "    'url' : ,\n",
    "    'content' : ,\n",
    "    'score' : ,\n",
    "}\n",
    "\"\"\"\n",
    "\n",
    "tavily_search_tool = TavilySearchResults(\n",
    "    max_results=5,\n",
    "    search_depth=\"advanced\"\n",
    ")\n",
    "\n",
    "llm = ChatOpenAI(\n",
    "    temperature=0,\n",
    "    model='gpt-4o'\n",
    ")"
   ]
  },
  {
   "cell_type": "code",
   "execution_count": 29,
   "id": "ed189aeb",
   "metadata": {},
   "outputs": [],
   "source": [
    "@tool\n",
    "def web_search_tavily(query):\n",
    "    \"\"\"\n",
    "    Web search tool using TavliySearchResult class.\n",
    "\n",
    "    Attributes:\n",
    "        query : search query\n",
    "    \n",
    "    Returns:\n",
    "        web_search_results (List[dict]) : list of search results\n",
    "        urls : source urls of search results\n",
    "    \"\"\"\n",
    "    # get web search result\n",
    "    search_results = tavily_search_tool.invoke(query)\n",
    "\n",
    "    # get url list\n",
    "    urls = []\n",
    "    for search_result in search_results:\n",
    "        urls.append(search_result['url'])\n",
    "    urls = list(np.unique(urls))\n",
    "\n",
    "    return {\n",
    "        \"web_search_results\" : search_results,\n",
    "        \"urls\" : urls\n",
    "    }"
   ]
  },
  {
   "cell_type": "code",
   "execution_count": 87,
   "id": "ee55d6f5",
   "metadata": {},
   "outputs": [],
   "source": [
    "def search_agent_node(state):\n",
    "    company = state['company']\n",
    "\n",
    "    today = datetime.datetime.today()\n",
    "    search_prompt = SystemMessage(\n",
    "        content=f\"\"\"당신은 전문적인 기업 인식 조사관입니다. 오늘은 {today} 입니다.\n",
    "    당신의 임무는 특정 기업 및 기업의 제품에 대한 최근 대중의 반응과 인식에 대해 검색하고 그 결과를 수집하는 것입니다.\n",
    "    당신이 수집할 기업: {company}\n",
    "\n",
    "    다음의 지침에 따라 사용자가 원하는 기업에 대한 인식/반응 자료 수집 결과를 반환하세요.\n",
    "    <지침>\n",
    "        1. '뉴스 및 기사', '제품 리뷰', 'SNS 반응', '관련 영상'의 분류에 입각하여 대중의 반응과 인식을 수집할 것.\n",
    "        2. 기업의 이슈를 정리하는 것이 아닌, 대중의 반응을 확인할 수 있는 자료를 수집할 것.\n",
    "        3. 검색 결과를 확인하여 기업에 대한 반응/인식을 명확히 알 수 없을 경우 해당 자료를 제외하고 다시 검색을 수행할 것.\n",
    "        4. 수집한 자료를 목록화 하여 제공하되, 각 자료 별 '출처'/'내용'/'대중의 반응' 을 정리해서 제공할 것. 반드시 해당 자료의 출처를 함꼐 명시할 것.\n",
    "        5. 수집된 대중의 반응을 요약하여 함께 제공할 것.\n",
    "        6. 긍정적인 반응과 부정적인 반응 모두 포함할 것.\n",
    "    </지침>\n",
    "    \"\"\"\n",
    "    )\n",
    "\n",
    "    search_agent = create_react_agent(\n",
    "        model=llm,\n",
    "        tools=[web_search_tavily],\n",
    "        prompt=search_prompt\n",
    "    )\n",
    "\n",
    "    response = search_agent.invoke(state)\n",
    "\n",
    "    state[\"response\"] = response\n",
    "\n",
    "    return state"
   ]
  },
  {
   "cell_type": "code",
   "execution_count": 88,
   "id": "d2a59f69",
   "metadata": {},
   "outputs": [],
   "source": [
    "class State(TypedDict):\n",
    "    company: str\n",
    "    messages: Annotated[list, add_messages]\n",
    "    response: str\n",
    "    urls: List[str]"
   ]
  },
  {
   "cell_type": "code",
   "execution_count": 89,
   "id": "7e05767a",
   "metadata": {},
   "outputs": [],
   "source": [
    "workflow = StateGraph(State)\n",
    "\n",
    "workflow.add_node(\"search_agent_node\", search_agent_node)\n",
    "\n",
    "workflow.add_edge(START, \"search_agent_node\")\n",
    "workflow.add_edge(\"search_agent_node\", END)\n",
    "\n",
    "app = workflow.compile()"
   ]
  },
  {
   "cell_type": "code",
   "execution_count": 90,
   "id": "59a97e64",
   "metadata": {},
   "outputs": [],
   "source": [
    "config = {\n",
    "    \"recursion_limit\" : 50\n",
    "}\n",
    "\n",
    "input = {\n",
    "    \"company\" : \"삼성전자\",\n",
    "    \"response\" : \"\",\n",
    "    \"urls\" : []\n",
    "}\n",
    "\n",
    "response = app.invoke(\n",
    "    input=input,\n",
    "    config=config\n",
    ")"
   ]
  },
  {
   "cell_type": "code",
   "execution_count": 91,
   "id": "9eca6937",
   "metadata": {},
   "outputs": [
    {
     "name": "stdout",
     "output_type": "stream",
     "text": [
      "다음은 삼성전자에 대한 최근 대중의 반응과 인식을 수집한 결과입니다.\n",
      "\n",
      "### 뉴스 및 기사\n",
      "1. **출처**: [삼성전자, 2025년 1분기 실적 발표](https://news.samsungsemiconductor.com/kr/%EC%82%BC%EC%84%B1%EC%A0%84%EC%9E%90-2025%EB%85%84-1%EB%B6%84%EA%B8%B0-%EC%8B%A4%EC%A0%81-%EB%B0%9C%ED%91%9C/)\n",
      "   - **내용**: 삼성전자는 2025년 1분기 매출 79.14조원, 영업이익 6.7조원을 기록하며 전분기 대비 매출이 4% 증가했다고 발표했습니다.\n",
      "   - **대중의 반응**: 대체로 긍정적이며, 삼성전자의 지속적인 성장과 기술 혁신에 대한 기대가 높습니다.\n",
      "\n",
      "2. **출처**: [CES 2025 - Samsung Newsroom](https://news.samsung.com/kr/ces-2025)\n",
      "   - **내용**: 삼성전자는 CES 2025에서 다양한 혁신 제품을 선보이며 주목을 받았습니다.\n",
      "   - **대중의 반응**: 혁신적인 제품에 대한 긍정적인 반응이 많으며, 특히 AI 기술에 대한 관심이 높습니다.\n",
      "\n",
      "### 제품 리뷰\n",
      "1. **출처**: [TV 추천 : 삼성전자 TOP 6 리뷰&비교 (2025년) - 노서치](https://nosearch.com/recommendation/pick/living/tv)\n",
      "   - **내용**: 삼성전자의 QLED TV가 뛰어난 화질과 합리적인 가격으로 추천되었습니다.\n",
      "   - **대중의 반응**: 긍정적이며, 특히 화질과 가격 대비 성능에 대한 만족도가 높습니다.\n",
      "\n",
      "2. **출처**: [2025년 삼성 가전 신제품 총정리 – 혁신과 스마트함이 살아있는 ...](https://morningstar7.tistory.com/467)\n",
      "   - **내용**: 삼성전자의 신제품들이 친환경적이고 스마트한 기능을 강조하고 있습니다.\n",
      "   - **대중의 반응**: 긍정적이며, 환경 친화적인 제품에 대한 호응이 큽니다.\n",
      "\n",
      "### SNS 반응\n",
      "1. **출처**: [SNS 실행 마케팅뉴스](https://www.npergrowth.net/tips/?bmode=view&idx=163796611)\n",
      "   - **내용**: 삼성전자의 갤럭시 S25 엣지 스마트폰이 공개되었습니다.\n",
      "   - **대중의 반응**: 긍정적이며, 특히 AI 기능과 디자인에 대한 기대가 큽니다.\n",
      "\n",
      "2. **출처**: [Instagram](https://www.instagram.com/p/DJlaL9yR_s-/)\n",
      "   - **내용**: 삼성전자의 공식 SNS에서 새로운 캠페인 영상이 공개되었습니다.\n",
      "   - **대중의 반응**: 긍정적이며, 많은 팬들이 뜨거운 반응을 보이고 있습니다.\n",
      "\n",
      "### 관련 영상\n",
      "1. **출처**: [CES 2025 삼성전자 전시관 - YouTube](https://www.youtube.com/watch?v=yxQAruOdOGw)\n",
      "   - **내용**: 삼성전자의 CES 2025 전시관을 소개하는 영상입니다.\n",
      "   - **대중의 반응**: 긍정적이며, 혁신적인 제품에 대한 관심이 높습니다.\n",
      "\n",
      "2. **출처**: [삼성전자 뉴스룸 - YouTube](https://www.youtube.com/channel/UC2C-970d2o-YGLPqsG6FcWQ)\n",
      "   - **내용**: 삼성전자의 다양한 제품과 기술을 소개하는 영상입니다.\n",
      "   - **대중의 반응**: 긍정적이며, 특히 AI와 스마트 기술에 대한 기대가 큽니다.\n",
      "\n",
      "### 요약\n",
      "삼성전자는 2025년에도 지속적인 성장과 혁신을 통해 대중의 긍정적인 반응을 얻고 있습니다. 특히 AI 기술과 친환경 제품에 대한 관심이 높으며, CES 2025에서의 혁신적인 제품 발표가 주목받고 있습니다. 제품 리뷰에서도 삼성전자의 TV와 가전제품이 높은 평가를 받고 있으며, SNS와 관련 영상에서도 긍정적인 반응이 이어지고 있습니다.\n"
     ]
    }
   ],
   "source": [
    "print(response[\"response\"][\"messages\"][-1].content)"
   ]
  },
  {
   "cell_type": "markdown",
   "id": "8fb8ae01",
   "metadata": {},
   "source": [
    "- 수집된 링크를 크롤링하여 인식/반응 데이터셋 제작\n",
    "    - 이를 기반으로 감정 분석, 워드 클라우드, 네트워크 분석 등 시행 가능"
   ]
  },
  {
   "cell_type": "markdown",
   "id": "ade4488a",
   "metadata": {},
   "source": [
    "## 2. 시장 분석"
   ]
  },
  {
   "cell_type": "markdown",
   "id": "1c024269",
   "metadata": {},
   "source": [
    "### 2-1. 시장 현황"
   ]
  },
  {
   "cell_type": "code",
   "execution_count": null,
   "id": "2f55ab1f",
   "metadata": {},
   "outputs": [],
   "source": []
  }
 ],
 "metadata": {
  "kernelspec": {
   "display_name": "company_breif_pjt",
   "language": "python",
   "name": "python3"
  },
  "language_info": {
   "codemirror_mode": {
    "name": "ipython",
    "version": 3
   },
   "file_extension": ".py",
   "mimetype": "text/x-python",
   "name": "python",
   "nbconvert_exporter": "python",
   "pygments_lexer": "ipython3",
   "version": "3.10.13"
  }
 },
 "nbformat": 4,
 "nbformat_minor": 5
}
