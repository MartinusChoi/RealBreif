{
 "cells": [
  {
   "cell_type": "markdown",
   "id": "a4cf514a",
   "metadata": {},
   "source": [
    "# 기업 주요 분석 과제 구현"
   ]
  },
  {
   "cell_type": "markdown",
   "id": "e8eeab59",
   "metadata": {},
   "source": [
    "## 0. Import"
   ]
  },
  {
   "cell_type": "code",
   "execution_count": null,
   "id": "b37b44f2",
   "metadata": {},
   "outputs": [
    {
     "name": "stderr",
     "output_type": "stream",
     "text": [
      "/opt/anaconda3/envs/company_breif_pjt/lib/python3.10/site-packages/requests/__init__.py:86: RequestsDependencyWarning: Unable to find acceptable character detection dependency (chardet or charset_normalizer).\n",
      "  warnings.warn(\n"
     ]
    }
   ],
   "source": [
    "import os\n",
    "from dotenv import load_dotenv\n",
    "import datetime\n",
    "\n",
    "from tqdm import tqdm\n",
    "\n",
    "import pandas as pd\n",
    "import numpy as np\n",
    "\n",
    "import plotly.graph_objects as go\n",
    "\n",
    "from selenium import webdriver\n",
    "from selenium.webdriver.common.by import By\n",
    "\n",
    "from typing import Annotated, List\n",
    "from typing_extensions import TypedDict\n",
    "\n",
    "from pydantic import BaseModel\n",
    "\n",
    "from langchain_core.prompts import ChatPromptTemplate\n",
    "from langchain_core.messages import HumanMessage\n",
    "from langchain_community.tools.tavily_search import TavilySearchResults\n",
    "from langchain_openai import ChatOpenAI\n",
    "\n",
    "from langgraph.prebuilt import create_react_agent"
   ]
  },
  {
   "cell_type": "code",
   "execution_count": 2,
   "id": "a1a50946",
   "metadata": {},
   "outputs": [
    {
     "data": {
      "text/plain": [
       "True"
      ]
     },
     "execution_count": 2,
     "metadata": {},
     "output_type": "execute_result"
    }
   ],
   "source": [
    "load_dotenv()"
   ]
  },
  {
   "cell_type": "markdown",
   "id": "ae7f4bbb",
   "metadata": {},
   "source": [
    "## 1. 경쟁 기업 개요/현황"
   ]
  },
  {
   "cell_type": "markdown",
   "id": "9c599c60",
   "metadata": {},
   "source": [
    "### 1-1. 기본 정보/규모\n",
    "\n",
    "> 설립 연도, 위치, 조직 규모, 대표 이사, 주 사업 분야 등"
   ]
  },
  {
   "cell_type": "markdown",
   "id": "8864ce94",
   "metadata": {},
   "source": [
    "- 잡코리아"
   ]
  },
  {
   "cell_type": "code",
   "execution_count": 111,
   "id": "8c23fcd6",
   "metadata": {},
   "outputs": [],
   "source": [
    "class BaseInfoLoader:\n",
    "    def __init__(self, url):\n",
    "        self.url = url\n",
    "        self.contents = []\n",
    "    \n",
    "    def load(self, in_pandas=False):\n",
    "        # search url\n",
    "        driver = webdriver.Chrome()\n",
    "        driver.get(self.url)\n",
    "\n",
    "        # find element with xpath\n",
    "        elements = driver.find_elements(By.XPATH, '//*[@id=\"company-body\"]/div[1]/div[1]/div/table')\n",
    "        for element in elements:\n",
    "            self.contents.append(element.text)\n",
    "        \n",
    "        # create base info dict\n",
    "        keys = []\n",
    "        values = []        \n",
    "        for idx, text in enumerate(self.contents[0].split('\\n')[1:]):\n",
    "            keys.append(text) if idx%2==0 else values.append(text)\n",
    "        self.info_dict = {\n",
    "            key : value\n",
    "            for key, value in zip(keys, values)\n",
    "        }\n",
    "\n",
    "        if in_pandas:\n",
    "            info_df = pd.DataFrame([self.info_dict])\n",
    "            return info_df\n",
    "        else:\n",
    "            return self.info_dict\n"
   ]
  },
  {
   "cell_type": "code",
   "execution_count": 112,
   "id": "30db97e0",
   "metadata": {},
   "outputs": [],
   "source": [
    "url = \"https://www.jobkorea.co.kr/Company/1696583\"\n",
    "\n",
    "loader = BaseInfoLoader(url)"
   ]
  },
  {
   "cell_type": "code",
   "execution_count": null,
   "id": "67ea176a",
   "metadata": {},
   "outputs": [],
   "source": [
    "info_df = loader.load(in_pandas=True)\n",
    "\n",
    "info_df"
   ]
  },
  {
   "cell_type": "code",
   "execution_count": null,
   "id": "b1788448",
   "metadata": {},
   "outputs": [
    {
     "data": {
      "text/plain": [
       "{'산업': '이동전화기 제조업',\n",
       " '사원수': '129,095명 (2024.12.31)',\n",
       " '기업구분': '대기업',\n",
       " '설립일': '1969.12.01 (57년차)',\n",
       " '자본금': '8,975억 1천만원 (2024.12.31)',\n",
       " '매출액': '209조 5백억원 (2024.12.31)',\n",
       " '대표자': '전영현',\n",
       " '대졸초임': '5,163만원 상세보기',\n",
       " '주요사업': '휴대폰,컴퓨터,네트워크시스템,핵심칩,반도체부품,디스플레이패널,가전제품,의료기기,프린터 제조',\n",
       " '4대보험': '국민연금, 건강보험, 고용보험, 산재보험',\n",
       " '홈페이지': 'http://www.samsung.com/sec',\n",
       " '주소': '경기 수원시 영통구 삼성로 129 (매탄동, 삼성전자)',\n",
       " '계열사': '삼성그룹 스테코(주) 삼성전자판매(주) 삼성벤처투자(주) 삼성전자로지텍(주) (주)시큐아이 (주)씨브이네트 (주)멀티캠퍼스 삼성생명서비스손해사정(주) (주)미라콤아이앤씨 세메스(주) 에스디플렉스(주) 삼성중공업(주) 삼성SDI(주) 삼성전기(주) 삼성메디슨(주) (주)하만인터내셔널코리아 더보기'}"
      ]
     },
     "execution_count": 108,
     "metadata": {},
     "output_type": "execute_result"
    }
   ],
   "source": [
    "loader.info_dict"
   ]
  },
  {
   "cell_type": "markdown",
   "id": "a782b64e",
   "metadata": {},
   "source": [
    "### 1-2. 비즈니스 모델\n",
    "\n",
    "\n",
    "비즈니스 모델의 핵심 구성 요소:\n",
    "\n",
    "- 고객 관계: 지속적인 관계를 조성하고 시간이 지남에 따라 고객 충성도를 구축하는 방법에 중점\n",
    "- 가치 제안: 제품 또는 서비스를 독특하고 매력적이며 고객에게 가치 있는 것으로 만드는 요소를 정의\n",
    "- 목표 고객: 이상적인 고객과 그들의 가장 시급한 니즈를 파악\n",
    "- 수익 흐름: 비즈니스가 어떻게 수입을 창출하는지 설명\n",
    "- 비용 구조: 비즈니스를 이끄는 주요 운영 비용을 강조\n",
    "- 핵심 리소스: 성공에 중요한 물리적, 인적, 재정적 또는 지적 재산과 같은 필수 자산에 대해 설명\n",
    "- 배포 채널: 제품 또는 서비스를 고객과 연결하고 고객에게 제공하는 방법을 설명\n",
    "\n",
    "> 이후 분석 과제에서 '고객층', '차별화 요소' 에 대한 분석이 이루어지므로,\n",
    "\n",
    "> '수익 흐름', '비용 구조' 를 중심으로 시각화 하는 것이 좋을 듯\n",
    ">> 이를 위해서는 '재무제표'활용 필요"
   ]
  },
  {
   "cell_type": "code",
   "execution_count": null,
   "id": "73a031a4",
   "metadata": {},
   "outputs": [
    {
     "data": {
      "application/vnd.plotly.v1+json": {
       "config": {
        "plotlyServerURL": "https://plot.ly"
       },
       "data": [
        {
         "link": {
          "source": [
           0,
           1,
           2,
           3,
           4,
           5,
           5,
           6,
           6,
           8,
           8,
           9,
           9
          ],
          "target": [
           5,
           5,
           5,
           5,
           5,
           6,
           7,
           8,
           9,
           10,
           11,
           12,
           13
          ],
          "value": [
           1748877,
           1110660,
           291578,
           142749,
           285155,
           1143086,
           1865622,
           327259,
           815826,
           815826,
           327259
          ]
         },
         "node": {
          "label": [
           "DX부문 매출",
           "DS부문 매출",
           "SDC",
           "Harman",
           "기타",
           "총 매출",
           "매출총이익",
           "매출원가",
           "영업이익",
           "영업비용",
           "순이익",
           "법인세",
           "판매비와관리비",
           "기타비용"
          ],
          "line": {
           "color": "black",
           "width": 0.5
          },
          "pad": 15,
          "thickness": 20
         },
         "type": "sankey"
        }
       ],
       "layout": {
        "font": {
         "size": 10
        },
        "template": {
         "data": {
          "bar": [
           {
            "error_x": {
             "color": "#2a3f5f"
            },
            "error_y": {
             "color": "#2a3f5f"
            },
            "marker": {
             "line": {
              "color": "#E5ECF6",
              "width": 0.5
             },
             "pattern": {
              "fillmode": "overlay",
              "size": 10,
              "solidity": 0.2
             }
            },
            "type": "bar"
           }
          ],
          "barpolar": [
           {
            "marker": {
             "line": {
              "color": "#E5ECF6",
              "width": 0.5
             },
             "pattern": {
              "fillmode": "overlay",
              "size": 10,
              "solidity": 0.2
             }
            },
            "type": "barpolar"
           }
          ],
          "carpet": [
           {
            "aaxis": {
             "endlinecolor": "#2a3f5f",
             "gridcolor": "white",
             "linecolor": "white",
             "minorgridcolor": "white",
             "startlinecolor": "#2a3f5f"
            },
            "baxis": {
             "endlinecolor": "#2a3f5f",
             "gridcolor": "white",
             "linecolor": "white",
             "minorgridcolor": "white",
             "startlinecolor": "#2a3f5f"
            },
            "type": "carpet"
           }
          ],
          "choropleth": [
           {
            "colorbar": {
             "outlinewidth": 0,
             "ticks": ""
            },
            "type": "choropleth"
           }
          ],
          "contour": [
           {
            "colorbar": {
             "outlinewidth": 0,
             "ticks": ""
            },
            "colorscale": [
             [
              0,
              "#0d0887"
             ],
             [
              0.1111111111111111,
              "#46039f"
             ],
             [
              0.2222222222222222,
              "#7201a8"
             ],
             [
              0.3333333333333333,
              "#9c179e"
             ],
             [
              0.4444444444444444,
              "#bd3786"
             ],
             [
              0.5555555555555556,
              "#d8576b"
             ],
             [
              0.6666666666666666,
              "#ed7953"
             ],
             [
              0.7777777777777778,
              "#fb9f3a"
             ],
             [
              0.8888888888888888,
              "#fdca26"
             ],
             [
              1,
              "#f0f921"
             ]
            ],
            "type": "contour"
           }
          ],
          "contourcarpet": [
           {
            "colorbar": {
             "outlinewidth": 0,
             "ticks": ""
            },
            "type": "contourcarpet"
           }
          ],
          "heatmap": [
           {
            "colorbar": {
             "outlinewidth": 0,
             "ticks": ""
            },
            "colorscale": [
             [
              0,
              "#0d0887"
             ],
             [
              0.1111111111111111,
              "#46039f"
             ],
             [
              0.2222222222222222,
              "#7201a8"
             ],
             [
              0.3333333333333333,
              "#9c179e"
             ],
             [
              0.4444444444444444,
              "#bd3786"
             ],
             [
              0.5555555555555556,
              "#d8576b"
             ],
             [
              0.6666666666666666,
              "#ed7953"
             ],
             [
              0.7777777777777778,
              "#fb9f3a"
             ],
             [
              0.8888888888888888,
              "#fdca26"
             ],
             [
              1,
              "#f0f921"
             ]
            ],
            "type": "heatmap"
           }
          ],
          "histogram": [
           {
            "marker": {
             "pattern": {
              "fillmode": "overlay",
              "size": 10,
              "solidity": 0.2
             }
            },
            "type": "histogram"
           }
          ],
          "histogram2d": [
           {
            "colorbar": {
             "outlinewidth": 0,
             "ticks": ""
            },
            "colorscale": [
             [
              0,
              "#0d0887"
             ],
             [
              0.1111111111111111,
              "#46039f"
             ],
             [
              0.2222222222222222,
              "#7201a8"
             ],
             [
              0.3333333333333333,
              "#9c179e"
             ],
             [
              0.4444444444444444,
              "#bd3786"
             ],
             [
              0.5555555555555556,
              "#d8576b"
             ],
             [
              0.6666666666666666,
              "#ed7953"
             ],
             [
              0.7777777777777778,
              "#fb9f3a"
             ],
             [
              0.8888888888888888,
              "#fdca26"
             ],
             [
              1,
              "#f0f921"
             ]
            ],
            "type": "histogram2d"
           }
          ],
          "histogram2dcontour": [
           {
            "colorbar": {
             "outlinewidth": 0,
             "ticks": ""
            },
            "colorscale": [
             [
              0,
              "#0d0887"
             ],
             [
              0.1111111111111111,
              "#46039f"
             ],
             [
              0.2222222222222222,
              "#7201a8"
             ],
             [
              0.3333333333333333,
              "#9c179e"
             ],
             [
              0.4444444444444444,
              "#bd3786"
             ],
             [
              0.5555555555555556,
              "#d8576b"
             ],
             [
              0.6666666666666666,
              "#ed7953"
             ],
             [
              0.7777777777777778,
              "#fb9f3a"
             ],
             [
              0.8888888888888888,
              "#fdca26"
             ],
             [
              1,
              "#f0f921"
             ]
            ],
            "type": "histogram2dcontour"
           }
          ],
          "mesh3d": [
           {
            "colorbar": {
             "outlinewidth": 0,
             "ticks": ""
            },
            "type": "mesh3d"
           }
          ],
          "parcoords": [
           {
            "line": {
             "colorbar": {
              "outlinewidth": 0,
              "ticks": ""
             }
            },
            "type": "parcoords"
           }
          ],
          "pie": [
           {
            "automargin": true,
            "type": "pie"
           }
          ],
          "scatter": [
           {
            "fillpattern": {
             "fillmode": "overlay",
             "size": 10,
             "solidity": 0.2
            },
            "type": "scatter"
           }
          ],
          "scatter3d": [
           {
            "line": {
             "colorbar": {
              "outlinewidth": 0,
              "ticks": ""
             }
            },
            "marker": {
             "colorbar": {
              "outlinewidth": 0,
              "ticks": ""
             }
            },
            "type": "scatter3d"
           }
          ],
          "scattercarpet": [
           {
            "marker": {
             "colorbar": {
              "outlinewidth": 0,
              "ticks": ""
             }
            },
            "type": "scattercarpet"
           }
          ],
          "scattergeo": [
           {
            "marker": {
             "colorbar": {
              "outlinewidth": 0,
              "ticks": ""
             }
            },
            "type": "scattergeo"
           }
          ],
          "scattergl": [
           {
            "marker": {
             "colorbar": {
              "outlinewidth": 0,
              "ticks": ""
             }
            },
            "type": "scattergl"
           }
          ],
          "scattermap": [
           {
            "marker": {
             "colorbar": {
              "outlinewidth": 0,
              "ticks": ""
             }
            },
            "type": "scattermap"
           }
          ],
          "scattermapbox": [
           {
            "marker": {
             "colorbar": {
              "outlinewidth": 0,
              "ticks": ""
             }
            },
            "type": "scattermapbox"
           }
          ],
          "scatterpolar": [
           {
            "marker": {
             "colorbar": {
              "outlinewidth": 0,
              "ticks": ""
             }
            },
            "type": "scatterpolar"
           }
          ],
          "scatterpolargl": [
           {
            "marker": {
             "colorbar": {
              "outlinewidth": 0,
              "ticks": ""
             }
            },
            "type": "scatterpolargl"
           }
          ],
          "scatterternary": [
           {
            "marker": {
             "colorbar": {
              "outlinewidth": 0,
              "ticks": ""
             }
            },
            "type": "scatterternary"
           }
          ],
          "surface": [
           {
            "colorbar": {
             "outlinewidth": 0,
             "ticks": ""
            },
            "colorscale": [
             [
              0,
              "#0d0887"
             ],
             [
              0.1111111111111111,
              "#46039f"
             ],
             [
              0.2222222222222222,
              "#7201a8"
             ],
             [
              0.3333333333333333,
              "#9c179e"
             ],
             [
              0.4444444444444444,
              "#bd3786"
             ],
             [
              0.5555555555555556,
              "#d8576b"
             ],
             [
              0.6666666666666666,
              "#ed7953"
             ],
             [
              0.7777777777777778,
              "#fb9f3a"
             ],
             [
              0.8888888888888888,
              "#fdca26"
             ],
             [
              1,
              "#f0f921"
             ]
            ],
            "type": "surface"
           }
          ],
          "table": [
           {
            "cells": {
             "fill": {
              "color": "#EBF0F8"
             },
             "line": {
              "color": "white"
             }
            },
            "header": {
             "fill": {
              "color": "#C8D4E3"
             },
             "line": {
              "color": "white"
             }
            },
            "type": "table"
           }
          ]
         },
         "layout": {
          "annotationdefaults": {
           "arrowcolor": "#2a3f5f",
           "arrowhead": 0,
           "arrowwidth": 1
          },
          "autotypenumbers": "strict",
          "coloraxis": {
           "colorbar": {
            "outlinewidth": 0,
            "ticks": ""
           }
          },
          "colorscale": {
           "diverging": [
            [
             0,
             "#8e0152"
            ],
            [
             0.1,
             "#c51b7d"
            ],
            [
             0.2,
             "#de77ae"
            ],
            [
             0.3,
             "#f1b6da"
            ],
            [
             0.4,
             "#fde0ef"
            ],
            [
             0.5,
             "#f7f7f7"
            ],
            [
             0.6,
             "#e6f5d0"
            ],
            [
             0.7,
             "#b8e186"
            ],
            [
             0.8,
             "#7fbc41"
            ],
            [
             0.9,
             "#4d9221"
            ],
            [
             1,
             "#276419"
            ]
           ],
           "sequential": [
            [
             0,
             "#0d0887"
            ],
            [
             0.1111111111111111,
             "#46039f"
            ],
            [
             0.2222222222222222,
             "#7201a8"
            ],
            [
             0.3333333333333333,
             "#9c179e"
            ],
            [
             0.4444444444444444,
             "#bd3786"
            ],
            [
             0.5555555555555556,
             "#d8576b"
            ],
            [
             0.6666666666666666,
             "#ed7953"
            ],
            [
             0.7777777777777778,
             "#fb9f3a"
            ],
            [
             0.8888888888888888,
             "#fdca26"
            ],
            [
             1,
             "#f0f921"
            ]
           ],
           "sequentialminus": [
            [
             0,
             "#0d0887"
            ],
            [
             0.1111111111111111,
             "#46039f"
            ],
            [
             0.2222222222222222,
             "#7201a8"
            ],
            [
             0.3333333333333333,
             "#9c179e"
            ],
            [
             0.4444444444444444,
             "#bd3786"
            ],
            [
             0.5555555555555556,
             "#d8576b"
            ],
            [
             0.6666666666666666,
             "#ed7953"
            ],
            [
             0.7777777777777778,
             "#fb9f3a"
            ],
            [
             0.8888888888888888,
             "#fdca26"
            ],
            [
             1,
             "#f0f921"
            ]
           ]
          },
          "colorway": [
           "#636efa",
           "#EF553B",
           "#00cc96",
           "#ab63fa",
           "#FFA15A",
           "#19d3f3",
           "#FF6692",
           "#B6E880",
           "#FF97FF",
           "#FECB52"
          ],
          "font": {
           "color": "#2a3f5f"
          },
          "geo": {
           "bgcolor": "white",
           "lakecolor": "white",
           "landcolor": "#E5ECF6",
           "showlakes": true,
           "showland": true,
           "subunitcolor": "white"
          },
          "hoverlabel": {
           "align": "left"
          },
          "hovermode": "closest",
          "mapbox": {
           "style": "light"
          },
          "paper_bgcolor": "white",
          "plot_bgcolor": "#E5ECF6",
          "polar": {
           "angularaxis": {
            "gridcolor": "white",
            "linecolor": "white",
            "ticks": ""
           },
           "bgcolor": "#E5ECF6",
           "radialaxis": {
            "gridcolor": "white",
            "linecolor": "white",
            "ticks": ""
           }
          },
          "scene": {
           "xaxis": {
            "backgroundcolor": "#E5ECF6",
            "gridcolor": "white",
            "gridwidth": 2,
            "linecolor": "white",
            "showbackground": true,
            "ticks": "",
            "zerolinecolor": "white"
           },
           "yaxis": {
            "backgroundcolor": "#E5ECF6",
            "gridcolor": "white",
            "gridwidth": 2,
            "linecolor": "white",
            "showbackground": true,
            "ticks": "",
            "zerolinecolor": "white"
           },
           "zaxis": {
            "backgroundcolor": "#E5ECF6",
            "gridcolor": "white",
            "gridwidth": 2,
            "linecolor": "white",
            "showbackground": true,
            "ticks": "",
            "zerolinecolor": "white"
           }
          },
          "shapedefaults": {
           "line": {
            "color": "#2a3f5f"
           }
          },
          "ternary": {
           "aaxis": {
            "gridcolor": "white",
            "linecolor": "white",
            "ticks": ""
           },
           "baxis": {
            "gridcolor": "white",
            "linecolor": "white",
            "ticks": ""
           },
           "bgcolor": "#E5ECF6",
           "caxis": {
            "gridcolor": "white",
            "linecolor": "white",
            "ticks": ""
           }
          },
          "title": {
           "x": 0.05
          },
          "xaxis": {
           "automargin": true,
           "gridcolor": "white",
           "linecolor": "white",
           "ticks": "",
           "title": {
            "standoff": 15
           },
           "zerolinecolor": "white",
           "zerolinewidth": 2
          },
          "yaxis": {
           "automargin": true,
           "gridcolor": "white",
           "linecolor": "white",
           "ticks": "",
           "title": {
            "standoff": 15
           },
           "zerolinecolor": "white",
           "zerolinewidth": 2
          }
         }
        },
        "title": {
         "text": "삼성전자 수익구조"
        }
       }
      }
     },
     "metadata": {},
     "output_type": "display_data"
    }
   ],
   "source": [
    "labels = [\n",
    "    \"DX부문 매출\", \"DS부문 매출\", \"SDC\", \"Harman\", \"기타\", # 1단계\n",
    "    \"총 매출\",                                         # 2단계\n",
    "    \"매출총이익\", \"매출원가\",                             # 3단계 \n",
    "    \"영업이익\", \"판매비와관리비\",                              # 4단계\n",
    "    \"순이익\", \"법인세\", \"판매비와관리비\", \"기타비용\"           # 5단계\n",
    "]\n",
    "\n",
    "# 단계별로 source와 target을 연결\n",
    "source = [0, 1, 2, 3, 4, 5, 5, 6, 6, 8, 8, 9, 9]\n",
    "target = [5, 5, 5, 5, 5, 6, 7, 8, 9, 10, 11, 12, 13]\n",
    "values = [1748877, 1110660, 291578, 142749, 285155, \n",
    "          1143086, 1865622, \n",
    "          327259, 815826, \n",
    "          815826, 327259]\n",
    "\n",
    "fig = go.Figure(go.Sankey(\n",
    "    node=dict(\n",
    "        pad=15, thickness=20,\n",
    "        line=dict(color=\"black\", width=0.5),\n",
    "        label=labels,\n",
    "    ),\n",
    "    link=dict(\n",
    "        source=source,\n",
    "        target=target,\n",
    "        value=values\n",
    "    )\n",
    "))\n",
    "\n",
    "fig.update_layout(title_text=\"삼성전자 수익구조\", font_size=10)"
   ]
  },
  {
   "cell_type": "markdown",
   "id": "db7eacb6",
   "metadata": {},
   "source": [
    "### 1-3. 기업 평가/인식 분석\n",
    "\n",
    "> 뉴스, 보도자료, 리뷰 등 인터넷 자료 수집 및 분석\n",
    ">> 워드클라우드, 긍/부정, 네트워크분석 등 ...\n",
    "\n",
    "- 기업 평가 및 인식\n",
    "    1. 기업 브랜드 인식\n",
    "    2. 제품 인식"
   ]
  },
  {
   "cell_type": "markdown",
   "id": "a7e03366",
   "metadata": {},
   "source": [
    "`TavliySearchResult`\n",
    "\n",
    "Parameter\n",
    "- max_depth : 검색 결과 수\n",
    "- search_depth : 검색의 깊이 ('basic' or 'advanced')\n",
    "- include_domain : 검색 결과에 포함시킬 도메인 (default='None'(=all domain))\n",
    "- exclude_domain : 검색 결과에 제외시킬 도메일 (default='None'(=모두 포함))\n",
    "- include_answer : 최초 query에 대한 짧은 답변을 검색 결과에 포함시킬지 여부 (default=False)\n",
    "- include_raw_content : 검색한 사이트의 원본 HTML을 포함시킬지 여부 (정제/파싱된 HTML, default=False)\n",
    "- include_image : query와 연관되어 검색된 이미지의 리스트를 검색 결과에 포함시킬지 여부 (default=False)\n",
    "\n",
    "```\n",
    "> tavily search result schema\n",
    "\n",
    "{\n",
    "    'title' : ,\n",
    "    'url' : ,\n",
    "    'content' : ,\n",
    "    'score' : ,\n",
    "}\n",
    "```"
   ]
  },
  {
   "cell_type": "code",
   "execution_count": 75,
   "id": "c04f5074",
   "metadata": {},
   "outputs": [],
   "source": [
    "tavily_search_tool = TavilySearchResults(\n",
    "    max_results=5\n",
    ")\n",
    "\n",
    "llm = ChatOpenAI(\n",
    "    temperature=0.5,\n",
    "    model=\"gpt-4o\"\n",
    ")"
   ]
  },
  {
   "cell_type": "code",
   "execution_count": 76,
   "id": "21011646",
   "metadata": {},
   "outputs": [],
   "source": [
    "class TavilyQueryListModel(BaseModel):\n",
    "    query_list: Annotated[List[str], \"list of query that should invoke with tavliy search tool\"]"
   ]
  },
  {
   "cell_type": "code",
   "execution_count": 77,
   "id": "06322471",
   "metadata": {},
   "outputs": [],
   "source": [
    "llm_with_tool = llm.bind_tools([tavily_search_tool])\n",
    "\n",
    "query_response_llm = llm_with_tool.with_structured_output(TavilyQueryListModel)\n",
    "\n",
    "today = datetime.datetime.today()\n",
    "query_make_system_prompt = f\"\"\"당신은 시장 분석가를 보조하는 AI 어시스턴트입니다. 오늘은 {today}입니다.\n",
    "당신의 임무는 고객이 원하는 기업에 대해 시장 분석가가 기업 브랜드/기업의 제품에 대한 최근 대중의 리뷰/반응을 검색할 수 있는 '검색어(질문)'을 만드는 것입니다.\n",
    "검색 범위를 최대한 넓히고 누락을 최소화하는 고품질 검색어를 생성하세요.\n",
    "\n",
    "다음의 사고 루프를 반복하며 임무를 수행하세요.\n",
    "<루프>\n",
    "1. 사고: 다음 단계에서 어떤 정보나 접근이 필요한지 숙고한다.\n",
    "2. 행동: 구체적인 검색어 또는 질문을 초안으로 작성한다.\n",
    "3. 관측: (시뮬레이션) 해당 검색어로 어떤 최신 컨텐츠가 나올지 점검 후, 검색 도구를 활용해 실제 검색을 수행하고 결과를 검토해 수정한다.\n",
    "</루프>\n",
    "\n",
    "최소 5개 이상의 주제 버킷에 걸쳐 총 30개 이상의 고품질 검색어/질문을 생성하면 절차를 종료하세요.\n",
    "\"\"\"\n",
    "\n",
    "query_make_prompt = ChatPromptTemplate.from_messages([\n",
    "    (\n",
    "        \"system\",\n",
    "        query_make_system_prompt\n",
    "    ),\n",
    "    (\n",
    "        \"human\",\n",
    "        \"{company}에 대한 대중의 리뷰/반응을 확인할 수 있도록 '검색어(질문)'을 생성해주세요.\"\n",
    "    )\n",
    "])"
   ]
  },
  {
   "cell_type": "code",
   "execution_count": 78,
   "id": "b8566487",
   "metadata": {},
   "outputs": [],
   "source": [
    "query_maker = create_react_agent(\n",
    "    model=llm,\n",
    "    tools=[tavily_search_tool],\n",
    "    response_format=TavilyQueryListModel,\n",
    "    prompt=query_make_system_prompt\n",
    ")"
   ]
  },
  {
   "cell_type": "code",
   "execution_count": 79,
   "id": "82ba3b53",
   "metadata": {},
   "outputs": [],
   "source": [
    "company = \"삼성전자\""
   ]
  },
  {
   "cell_type": "code",
   "execution_count": 80,
   "id": "8ec85450",
   "metadata": {},
   "outputs": [],
   "source": [
    "response = query_maker.invoke({\n",
    "    \"messages\" : [\n",
    "        HumanMessage(\n",
    "            content = f\"{company}에 대한 대중의 리뷰/반응을 확인할 수 있도록 '검색어(질문)'을 생성해주세요.\"\n",
    "        )\n",
    "    ]\n",
    "})"
   ]
  },
  {
   "cell_type": "code",
   "execution_count": 81,
   "id": "4b4e699a",
   "metadata": {},
   "outputs": [
    {
     "data": {
      "text/plain": [
       "['2025년 삼성전자 스마트폰 사용자 리뷰',\n",
       " '삼성전자 가전제품 최신 사용자 평가',\n",
       " '삼성 TV 2025년 고객 만족도',\n",
       " '삼성 노트북 최근 사용자 피드백',\n",
       " '삼성전자 신제품 리뷰 2025',\n",
       " '삼성전자 브랜드 이미지 2025',\n",
       " '삼성전자 기업 평판 최근 변화',\n",
       " '소셜 미디어에서의 삼성전자 브랜드 인식',\n",
       " '삼성전자의 지속 가능성 노력에 대한 대중의 반응',\n",
       " '삼성전자 고객 서비스에 대한 최근 평가',\n",
       " '삼성전자의 최신 기술 혁신에 대한 대중의 반응',\n",
       " '삼성전자의 인공지능 기술 발전 평가',\n",
       " '삼성전자 5G 기술에 대한 사용자 리뷰',\n",
       " '삼성전자 반도체 기술 혁신에 대한 시장 반응',\n",
       " '삼성전자의 친환경 기술에 대한 대중의 의견',\n",
       " '삼성전자와 애플의 제품 비교 2025',\n",
       " '삼성전자와 LG전자 가전제품 비교 리뷰',\n",
       " '삼성전자와 화웨이의 스마트폰 경쟁에 대한 대중의 의견',\n",
       " '삼성 TV와 소니 TV 비교 2025',\n",
       " '삼성전자와 샤오미의 시장 점유율 비교',\n",
       " '삼성전자 제품 구매 트렌드 2025',\n",
       " '2025년 삼성전자 인기 제품 순위',\n",
       " '삼성전자 제품에 대한 소비자 선호도 변화',\n",
       " '삼성전자 제품의 가성비에 대한 대중의 평가',\n",
       " '삼성전자 제품 구매를 결정하는 주요 요인',\n",
       " '미국 시장에서의 삼성전자 제품 반응',\n",
       " '유럽 소비자들의 삼성전자 제품 평가',\n",
       " '아시아 시장에서의 삼성전자 브랜드 인식',\n",
       " '중동 지역 삼성전자 제품 리뷰',\n",
       " '남미 시장에서의 삼성전자 제품 인기']"
      ]
     },
     "execution_count": 81,
     "metadata": {},
     "output_type": "execute_result"
    }
   ],
   "source": [
    "response['structured_response'].query_list"
   ]
  },
  {
   "cell_type": "code",
   "execution_count": 82,
   "id": "b4bf53ec",
   "metadata": {},
   "outputs": [],
   "source": [
    "query_list = response['structured_response'].query_list"
   ]
  },
  {
   "cell_type": "code",
   "execution_count": 83,
   "id": "b082ed48",
   "metadata": {},
   "outputs": [
    {
     "data": {
      "text/plain": [
       "'2025년 삼성전자 스마트폰 사용자 리뷰'"
      ]
     },
     "execution_count": 83,
     "metadata": {},
     "output_type": "execute_result"
    }
   ],
   "source": [
    "query_list[0]"
   ]
  },
  {
   "cell_type": "code",
   "execution_count": 84,
   "id": "e14de6a5",
   "metadata": {},
   "outputs": [
    {
     "name": "stderr",
     "output_type": "stream",
     "text": [
      "100%|██████████| 30/30 [02:25<00:00,  4.84s/it]\n"
     ]
    }
   ],
   "source": [
    "search_results = []\n",
    "\n",
    "for query in tqdm(query_list):\n",
    "    search_result = tavily_search_tool.invoke({\"query\" : query})\n",
    "\n",
    "    search_results.extend(search_result)"
   ]
  },
  {
   "cell_type": "code",
   "execution_count": 85,
   "id": "3bc16363",
   "metadata": {},
   "outputs": [
    {
     "data": {
      "text/plain": [
       "[{'title': '2025년 최고의 삼성핸드폰 Top10! 구매 전 리뷰 보기! - YouTube',\n",
       "  'url': 'https://www.youtube.com/watch?v=esEE4tFquF4',\n",
       "  'content': '요즘 인기있는 삼성핸드폰 구매 가격 평점 리뷰 정리해 봤어요! ❤️❤️❤️ [00:06] 10위. #삼성전자 ... 갤럭시 스마트폰이라면 꼭 켜서 사용하세요 | 갤럭시',\n",
       "  'score': 0.7152057},\n",
       " {'title': '부모님도 만족할 기능! 2025 3월 자급제효도폰 추천 ㅣ 삼성 A시리즈 ...',\n",
       "  'url': 'https://www.youtube.com/watch?v=Ks6TZmu5Ys4',\n",
       "  'content': '13:09. Go to channel · 2025 현시점 가장 가성비 좋은 스마트폰 TOP5 ... 갤럭시 A16 사용 후기 : 그러니까 이건 살짝 커진 A15랄까요,. postiVIEW',\n",
       "  'score': 0.6811549},\n",
       " {'title': '2025년 제품 선호도가 좋은! 갤럭시35! 베스트 TOP10! 가격 평점 리뷰 ...',\n",
       "  'url': 'https://www.youtube.com/watch?v=5hwbFgvitys',\n",
       "  'content': '가격 평점 리뷰 후기 총정리!! 1 view · 2 hours ago #갤럭시 #삼성전자 #삼성 ... ... 2025 현시점 가장 가성비 좋은 스마트폰 TOP5 비교 추천 구매가이드',\n",
       "  'score': 0.67527276},\n",
       " {'title': '2025년 여러분이 고민하는! 삼성갤럭시북5프로360! 베스트 TOP10 ...',\n",
       "  'url': 'https://www.youtube.com/watch?v=_U9_a2_mCzg',\n",
       "  'content': '가격 평점 리뷰 후기 총정리!! 42 views · 3 months ago #삼성노트북 #삼성전자 #삼성갤럭시북5프로360추천 ... 2025 현시점 가장 가성비 좋은 스마트폰',\n",
       "  'score': 0.6580885},\n",
       " {'title': '갤럭시s22 플러스 중고 2025년에 쓸만할까? 배터리 오래쓰는법 후기',\n",
       "  'url': 'https://m.blog.naver.com/PostView.naver?blogId=1212332124&logNo=223585618202',\n",
       "  'content': '![](https://mblogthumb-phinf.pstatic.net/MjAyNDA5MTRfMjg3/MDAxNzI2MjU4MTYyMTYx.we1dICz74tXODGFpnvsfWBRUs6w0385Gp4cFQ9XKC70g.xLhejmutsZByBL03SLoU0M05I_gzaqkBNymCZOGyrVIg.JPEG/20240910%EF%BC%BF105017%EF%BC%BF598.jpg?type=w80_blur)\\n\\n사이드의 상태가 좋아서 책상의 나무결이 반사될 정도\\n\\n사이드면은 최신모델인 갤럭시s24 와 다르게 둥그스름한 스타일로\\n\\n그립감도 나쁘지 않습니다.\\n\\n\\u200b\\n\\n\\u200b\\n\\n\\u200b\\n\\n실사용 후기 [...] 해외여행등에서 무척이나 유용한 부분인데, 삼성에서 너무 늦게 지원을 한게 아닌가 싶습니다.\\n\\n아이폰은 2020년에 출시한 아이폰12 부터 지원 되던걸 생각하면\\n\\n너무 아쉬운 느낌이 드는건 어쩔수가 없네요\\n\\n\\u200b\\n\\n\\u200b\\n\\n\\u200b\\n\\n총평\\n\\n![](https://mblogthumb-phinf.pstatic.net/MjAyNDA5MTRfNDQg/MDAxNzI2MjU4MTg1NDY4.NMXwdJ2W3D_RdTk02ePCJ_u5i-r-Dn76MvzCp9B978sg.qzEbEmR401jrpbAUlVXBVtrsVfY-BXGOHDdP1bSvHUkg.JPEG/20240911%EF%BC%BF083530%EF%BC%BF500.jpg?type=w80_blur)\\n\\n**현 시점에서 가장 부담없이 사서 쓸수 있는 폰**\\n\\n\\u200b\\n\\n갤럭시s22플러스는\\n\\n큰 화면\\n\\n플랫한 액정\\n\\n준수한 배터리\\n\\n질리지 않는 디자인\\n\\n좋은 사진퀄리티 등등\\n\\n\\u200b\\n\\n실생활에서 사용을 하기엔 충분충분한 스마트폰입니다. [...] **2025년에 사용하려 한다면 갤럭시s22 시리즈**로 구하시는걸 추천드립니다.\\n\\n\\u200b\\n\\n그 이유는 삼성의 ONE UI 업데이트가 현재 s22까지만 진행이 되는것으로 확정되었기 때문입니다\\n\\n24년 상반기까지는 갤럭시s21 S21플러스 s21울트라 까지 업데이트 되었지만,\\n\\n이제 그게 마지막으로 알려졌고\\n\\n그나마 25년까지 보장되어있는것은 22시리즈 부터 입니다.\\n\\n\\u200b\\n\\n무조건 업데이트가 끊겼다고 쓰지 못하는건 아니지만,\\n\\n꾸준한 사후관리가 유지되는건 분명 필요한 부분입니다.\\n\\n\\u200b\\n\\n\\u200b\\n\\n\\u200b\\n\\n디자인',\n",
       "  'score': 0.65412235},\n",
       " {'title': '[비즈톡톡] “삼성 가전 어느 정도길래?”… 美 소비자 신뢰도 평가 순위는',\n",
       "  'url': 'https://biz.chosun.com/it-science/ict/2025/02/19/DTTHVAYWSVBJZEBSYJZQRCA4PE/',\n",
       "  'content': '삼성전자 가전 제품군 중 낙제점을 받은 제품은 주방 가전입니다. 실사용자 약 15만명이 참여한 식기세척기, 레인지, 양문형 냉장고, 3도어 이상 프렌치도어 냉장고, 쿡탑 부문 소비자 만족도 평가에서 삼성전자 제품은 100점 만점에 15~19점으로 최하위 점수를 받았습니다. 주방 가전 전체로 넓혀봐도 삼성 제품은 46점을 넘지 못해, 경쟁사 중 가장 뒤처졌습니다. [...] 삼성전자가 소비자 600만명을 회원으로 두고 있는 미국 최대 비영리 소비자단체 컨슈머리포트의 생활·주방 가전 신뢰도 평가에서 경쟁사보다 낮은 순위를 기록했습니다. 컨슈머리포트는 제조사로부터 테스트용 제품을 받지 않고, 미국에서 판매되는 가전을 실사용 고객 평가와 전문가 성능 시험을 통해 검증합니다. 이런 객관적인 평가 방식으로 소비자들에게 신뢰를 얻고 있습니다.\\n\\n19일 업계에 따르면 컨슈머리포트가 최근 발표한 2024~2025년 주요 생활·주방 가전 브랜드 신뢰도 평가에서 삼성전자는 21위에 그쳤습니다. 이번 조사에서 1위는 미 세탁건조기 전문 기업 스피드퀸이 차지했습니다. 이어 LG전자가 2위에 올랐고, 미 가전기업 월풀은 12위, 중국 가전기업 하이얼이 인수한 GE 가전은 13위, 독일 보쉬는 15위를 기록했습니다.\\n\\n가전 브랜드 신뢰도 평가는 실제 제품 사용자들이 평가한 ‘소비자 만족도’와 고장률이 기준인 ‘예측 신뢰도’ 지표를 기반으로 합니다.\\n\\n그래픽=정서희 [...] 고장이 잦으면 점수가 낮은 ‘예측 신뢰도’ 부문에서도 삼성전자 주방 가전 제품 중 절반이 50점 미만을 기록했습니다. 주요 브랜드 중 삼성전자가 최하점을 받은 식기세척기 평가에 대해 컨슈머리포트는 “회원들이 구매한 7만여대의 제품을 기반으로 평가를 진행한 결과, 비싼 식기세척기가 더 신뢰성이 높은 것은 아니다”라고 했습니다. 그러면서 “보쉬, 밀레 등의 제품은 성능 문제나 고장 발생 확률이 가장 낮은 것으로 나타났고, 소유자 만족도와 신뢰성이 가장 낮은 브랜드인 삼성 등의 제품은 세척·건조 성능 부족, 배수 문제, 식기 랙(선반) 불량 등의 문제가 가장 자주 보고됐다”고 설명했습니다.\\n\\n생활 가전은 어떨까요. 삼성 로봇청소기를 실제 사용한 소비자들의 만족도는 100점 만점에 9점에 불과했습니다. 세탁기 부문 소비자 만족도 평가에서도 삼성 제품은 20~40점대, 건조기 역시 30점대의 낮은 점수를 기록했습니다.',\n",
       "  'score': 0.7498395},\n",
       " {'title': '삼성전자 가전, 美 JD파워 고객 만족도 평가서 최다 1위',\n",
       "  'url': 'https://news.samsung.com/kr/%EC%82%BC%EC%84%B1%EC%A0%84%EC%9E%90-%EA%B0%80%EC%A0%84-%E7%BE%8E-jd%ED%8C%8C%EC%9B%8C-%EA%B3%A0%EA%B0%9D-%EB%A7%8C%EC%A1%B1%EB%8F%84-%ED%8F%89%EA%B0%80%EC%84%9C-%EC%B5%9C%EB%8B%A4-1%EC%9C%84',\n",
       "  'content': \"삼성전자가 미국 시장조사기관 'JD파워(JD Power)'에서 18일(현지시간) 발표한 '2024 생활가전 소비자 만족도 평가'에서 최다 품목 1위를 차지하며, '최\",\n",
       "  'score': 0.70702106},\n",
       " {'title': '삼성전자, 美 JD파워 생활가전 고객 만족도 평가서 최다 1위 - 연합뉴스',\n",
       "  'url': 'https://www.yna.co.kr/view/AKR20240719024800003',\n",
       "  'content': \"삼성전자[005930]는 18일(현지시간) 미국 시장조사기관 JD파워가 발표한 '2024 생활가전 소비자 만족도 평가'에서 최다 품목 1위를 차지하며 '최고의 주방\",\n",
       "  'score': 0.69274646},\n",
       " {'title': '[재도약 삼성전자⑩] 삼성 가전, 세계인 일상 바꾼다 - 서울와이어',\n",
       "  'url': 'http://www.seoulwire.com/news/articleView.html?idxno=621019',\n",
       "  'content': '대표적으로 비스포크 냉장고는 AI의 기여도를 극대화 한 제품으로 호평받는다. 냉장고 내부의 온도와 습도를 자동 조절해 음식물의 신선도를 유지하고, AI가 사용자의 냉장고 사용 패턴을 학습하여 자주 열리는 시간대나 사용 빈도에 맞춰 냉각 기능을 조절한다. 음성 제어 및 스마트싱스 앱 연동으로 사용자는 편리하게 냉장고 상태를 조절할 수 있다.\\n\\n또 ‘푸드 AI’라는 강력한 기능도 선보였다. 냉장고 내부의 카메라가 식품을 자동으로 인식하고, 어떤 식재료가 있는지 관리하며 유통기한이 임박한 식품에 대해선 알림 기능도 제공한다. AI가 냉장고 안에 있는 재료를 바탕으로 레시피를 추천하기도 한다. [...] 현재에 이르러선 AI와 결합으로 스마트홈 시대를 여는 주역이 됐다. 세계 시장을 선도하는 스마트폰 ‘갤럭시’ 시리즈를 중심으로 가전이 스스로 사용자의 라이프스타일과 연동하는 혁신을 이뤄냈다. 개개인에 대한 맞춤형 솔루션을 제공하며 프리미엄 가전 시장의 선두주자임을 확실히 했다.\\n\\n업계 관계자는 “삼성전자의 가전제품이 스마트홈 시장의 강자로 우뚝 선 배경에는 스마트폰 사업과의 시너지가 역할을 톡톡히 해냈다고 평가된다”며 “스마트폰과 AI로 인해 가전제품의 활용성이 무한확장 되며 소비자가 보다 편리하고 똑똑한 생활 환경을 만드는 데 삼성전자가 일조하고 있다”고 말했다. [...] [서울와이어 천성윤 기자] 삼성전자는 가전제품 부문에서 글로벌 시장을 선도하는 주요 브랜드로, 냉장고, 세탁기, 에어컨, 청소기 등 세계인의 필수품 영역에서 높은 품질과 혁신적 기술력으로 인정받고 있다.\\n\\n특히 인공지능(AI)과 가전제품들을 접목해 한층 진화된 제품을 선보이며 가전이 단순 기계가 아닌 소비자와 유기적으로 호흡하며 일상의 편리함을 극대화 하고 있다.\\n\\n**◆55년의 축적된 가전 노하우, 스마트폰 만나 개화**\\n\\n전 세계 가전 시장의 치열한 경쟁은 수치로 확인된다. 지난 4월 시장조사업체 트랙라인에 따르면 삼성전자는 세계 최대 시장인 미국 생활가전 부문에서 지난해 매출 기준 점유율 21%로 1위를 기록했다. 경쟁사인 LG전자(19%)를 근소하게 따돌렸고, 뒤이어 GE와 월풀이 각각 18%, 15%를 차지했다.',\n",
       "  'score': 0.5504388},\n",
       " {'title': \"시대의 가치 담은 세계 최고 생활가전 삼성전자 가전 철학…'접근성 ...\",\n",
       "  'url': 'http://www.kookminnews.com/99846',\n",
       "  'content': '가전을 사용할 땐 보고,\\xa0듣고,\\xa0만지는 인체 감각과,\\xa0선택하고 설정하는 인지력,\\xa0당기고 들어 올리는 등 근력이 소요되는 동작이 필요하다.\\xa0이러한 동작들이 누군가에게는 한계로 다가올 수 있다.\\n\\n삼성전자는 어떤 고객도 소외되지 않고 모든 기능을 사용하며 최신 기술의 편리성을 누릴 수 있도록 사용성의 간극을 줄여나가고 있다.\\xa0제품 버튼에 촉각 스티커를 제공하고 접근성 사운드를 넣거나,\\xa0휠체어에 앉아서 팔을 뻗어도 닿는 곳에 조작부를 배치해 공간 활용성을 높이는 등,\\xa0장애 유형에 맞는 솔루션을 적용하고 있다.\\n\\nQ. 사용자가 잘 모르고 있는 삼성전자 가전의 접근성 기능이나 서비스가 있다면? [...] 패밀리허브 냉장고\\xa032형의 색상 반전 모드 적용 화면    Q. 가전제품의 접근성 기능을 기획할 때 가장 중요하게 고려하는 요소는 무엇인가?  가전을 사용할 땐 보고,\\xa0듣고,\\xa0만지는 인체 감각과,\\xa0선택하고 설정하는 인지력,\\xa0당기고 들어 올리는 등 근력이 소요되는 동작이 필요하다.\\xa0이러한 동작들이 누군가에게는 한계로 다가올 수 있다.  삼성전자는 어떤 고객도 소외되지 않고 모든 기능을 사용하며 최신 기술의 편리성을 누릴 수 있도록 사용성의 간극을 줄여나가고 있다.\\xa0제품 버튼에 촉각 스티커를 제공하고 접근성 사운드를 넣거나,\\xa0휠체어에 앉아서 팔을 뻗어도 닿는 곳에 조작부를 배치해 공간 활용성을 높이는 등,\\xa0장애 유형에 맞는 솔루션을 적용하고 있다.    Q. 사용자가 잘 모르고 있는 삼성전자 가전의 접근성 기능이나 서비스가 있다면?  삼성전자 비스포크 AI 콤보 7형 스크린의 시인성 향상을 위한 접근성 기능 설정 화면 ▲삼성전자 비스포크\\xa0AI\\xa0콤보\\xa07형 스크린의 시인성 향상을 위한 [...] 음성으로 말해주는 기능도 지원되고 있다.  또한,\\xa0활동이 불편한 사용자들의 만족도가 높았던\\xa0‘오토 오픈 도어’는 냉장고,\\xa0세탁기,\\xa0오븐,\\xa0식기세척기 등 더 많은 제품에 확대 적용됐다.\\xa0가볍게 터치하거나, “세탁기 문 열어 줘”\\xa0말하면 문이 열려 더욱 쉽게 사용할 수 있다.  삼성전자 패밀리허브 냉장고에서 ‘오토 오픈 도어’ 기능을 사용해 터치로 손쉽게 문을 여는 모습 ▲삼성전자 패밀리허브 냉장고에서\\xa0‘오토 오픈 도어’\\xa0기능을 사용해 터치로 손쉽게 문을 여는 모습    Q. 가전 접근성 관련해 진행하고 있는 협업이 있다면?  여러 기관과 함께 가전 사용의 불편함을 정의하고 협업을 통해 해결해 나가고 있다.\\xa0사단 법인 한국접근성평가연구원 등 전문성을 가진 기관들로부터 객관적인 평가와 자문을 받고 있다.\\xa0음성 안내,\\xa0시인성 개선을 위한 우리 회사 스크린 가전의 접근성 기능은 오는\\xa06월 발효되는 유럽접근성법안(Europe Accessibility Acts)에도 부합하도록 준비하고 있다.',\n",
       "  'score': 0.52232456},\n",
       " {'title': '2025년 TV 구입 가이드 및 요령, 아직도 지인한테 물어보시나요 ? 순간 ...',\n",
       "  'url': 'https://luluhuhu.tistory.com/entry/2025%EB%85%84-TV-%EA%B5%AC%EC%9E%85-%EA%B0%80%EC%9D%B4%EB%93%9C-%EB%B0%8F-%EC%9A%94%EB%A0%B9',\n",
       "  'content': '2. 삼성전자 Neo QLED 8K: 삼성전자의 Neo QLED 8K 모델은 국내 주요 고객만족도 조사에서 1위를 차지하며 소비자들로부터 높은 만족도를 얻었습니다.',\n",
       "  'score': 0.86108357},\n",
       " {'title': '2025 OLED SF85 (138cm) | KQ55SF85AEXKR | Samsung 대한민국',\n",
       "  'url': 'https://www.samsung.com/sec/tvs/oled-sf85aex-d2c/KQ55SF85AEXKR/',\n",
       "  'content': '* Secured by Knox는 2015년 이후 출시된 Tizen® 기반 삼성 TV에 적용됩니다. ... 글로벌고객만족도(GCSI) 조사 1위를 안내하는 로고이미지입니다.',\n",
       "  'score': 0.76002824},\n",
       " {'title': '삼성전자 AI TV, 국내 4대 고객만족도 조사 1위 석권',\n",
       "  'url': 'https://www.etnews.com/20241107000114',\n",
       "  'content': '![주요행사 이미지](https://img.etnews.com/news/article/2025/06/02/news-p.v1.20250602.6b6945ff54fd42d8a845164dee5f43ed_T1.png)\\n![주요행사 이미지](https://img.etnews.com/news/article/2025/06/02/news-p.v1.20250602.605727235077451fa70e04a17fb7acf7_T1.jpg)\\n![주요행사 이미지](https://img.etnews.com/news/article/2025/05/30/news-p.v1.20250530.11778fb929e944f4a17e139bb207fe02_T1.jpg)\\n![주요행사 이미지](https://img.etnews.com/news/article/2025/05/30/news-p.v1.20250530.05329afa1acd42c5bfece1955afdca3f_T1.png) [...] ![주요행사 이미지](https://img.etnews.com/photo_main/conference/2025/05/16/cms_conference_list_16134615927429.jpg)\\n![주요행사 이미지](https://img.etnews.com/photo_main/conference/2025/05/22/cms_conference_list_22163344423258.jpg)\\n![주요행사 이미지](https://img.etnews.com/photo_main/conference/2025/05/16/cms_conference_list_16142459750078.jpg)\\n![주요행사 이미지](https://img.etnews.com/photo_main/conference/2025/06/02/cms_conference_list_02110920888659.jpg) [...] ![주요행사 이미지](https://img.etnews.com/photo_main/conference/2025/05/21/cms_conference_list_21160304470556.jpg)\\n![주요행사 이미지](https://img.etnews.com/photo_main/conference/2025/05/23/cms_conference_list_23175433304604.jpg)\\n![주요행사 이미지](https://img.etnews.com/photo_main/conference/2025/05/21/cms_conference_list_21105805861437.png)\\n![주요행사 이미지](https://img.etnews.com/photo_main/conference/2025/05/07/cms_conference_list_07170731649898.jpg)',\n",
       "  'score': 0.741169},\n",
       " {'title': '2025년형 삼성 OLED TV, 글로벌 테크 미디어로부터 호평 이어져',\n",
       "  'url': 'https://www.newswire.co.kr/newsRead.php?no=1010092',\n",
       "  'content': '2025년형 삼성 OLED TV가 해외 주요 전문 테크 미디어들로부터 연이어 호평을 받으며 기술력과 완성도를 입증했다. 올해 삼성전자는 OLED 라인업을 3',\n",
       "  'score': 0.6959795},\n",
       " {'title': 'TV 추천 : 삼성전자 TOP 6 리뷰&비교 (2025년) - 노써치',\n",
       "  'url': 'https://nosearch.com/recommendation/pick/living/tv',\n",
       "  'content': '최근 출시되는 중급형 이상의 TV는 게임 특화기능이 탑재되어 있는 경우가 많습니다. 이런 기능은 게임을 즐기지 않는 분들께는 필요하지 않은 기능이기 때문에 제품 선정 시 고려하지 않았습니다.\\n\\n더보기\\n\\n스피커\\n\\n대부분 2.0ch/20W 이상의 사운드를 가지고 있음\\n\\n최근 출시되는 모든 삼성전자 TV는 2.0ch/20W 이상의 스피커 채널/출력을 가지고 있기 때문에, 컨텐츠 감상에는 큰 무리가 없어 제품 선정 시 고려하지 않았습니다.\\n\\n더보기\\n\\n*\\n삼성 TV 라인업 영상\\n\\n*   9 \\n*   공유 \\n*   455 [...] [더 자세한 리뷰 확인하기](https://nosearch.com/product/living/tv/detail/KQ65QD70AFXKR)\\n\\nQD70 라인 크기 별 제품 (55~85\")\\n\\n제품 정보\\n\\n2\\n\\nTV 베스트픽②\\n\\n스펙 전체보기\\n\\n#### 200만 원 미만으로 구매할 수 있는 삼성전자의 Mini LED TV\\n\\n뛰어난 화질과 합리적인 가격대의 삼성전자 TV를 원하시는 분들께 24년형 Neo QLED 4K 88라인을 추천 드립니다.\\n\\n**[화질]**\\n\\nNeo QLED TV는 화질이 매우 뛰어나기로 유명한데요.\\n\\n우선 퀀텀닷 패널이 탑재되어 선명한 화질은 기본이며, Mini LED 백라이트 기술로, 기존 백라이트 밝기를 조절할 수 없는 LCD TV와 다르게 개별적으로 밝기 조절이 가능해, 어두운 곳은 가장 어둡게, 밝은 곳은 가장 밝고 선명하게 표현해 줄 수 있는 제품이라 컨텐츠 몰입도의 차원이 달라집니다.\\n\\n**[가격]** [...] *   [![Image 2: 삼성전자](https://nosearch.com/_next/image?url=https%3A%2F%2Fd21x3meyyr2jva.cloudfront.net%2Fimage_temp%2F1666951083714_TV_%EC%82%BC%EC%84%B1.png&w=1200&q=75) 삼성전자](https://nosearch.com/recommendation/pick/living/tv/%EC%82%BC%EC%84%B1%EC%A0%84%EC%9E%90)',\n",
       "  'score': 0.65359193},\n",
       " {'title': '삼성노트 사용자 피드백 - Samsung Members',\n",
       "  'url': 'https://r1.community.samsung.com/t5/%EA%B0%A4%EB%9F%AD%EC%8B%9C-a-j-%EB%85%B8%ED%8A%B8/%EC%82%BC%EC%84%B1%EB%85%B8%ED%8A%B8-%EC%82%AC%EC%9A%A9%EC%9E%90-%ED%94%BC%EB%93%9C%EB%B0%B1/td-p/15132302',\n",
       "  'content': '![](https://r1.community.samsung.com/html/@0FD5BE38F4BD3B6F4C125F41167F184E/assets/logo_samsung.svg \"Korea\")\\n![search icon](/html/assets/Icon_Search_24px.svg)\\n\\n### 제목:\\n\\n## 삼성노트 사용자 피드백\\n\\n![enlighten](https://r1.community.samsung.com/t5/image/serverpage/avatar-name/comm_avata_19/avatar-theme/candy/avatar-collection/newAvatars/avatar-display-size/profile?xdesc&#61;1.0 \"enlighten\")\\n\\n\\u200e02-04-2022\\n09:05 PM\\n·\\n\\n안녕하세요,\\n\\n삼성의 생태계를 응원하는 사람입니다.\\n\\n최근에 노트 프로 360과 탭을 활용하여 이동 생산성이 극대화되어 매우 만족스러운데요, [...] 그러나 삼성노트pc 의 사용성 측면은 아쉬운 부분이 있어서 글 남깁니다.\\n\\n1) 전체적으로 pdf 반응속도가 느립니다. 심지어 Edge browser를 통해 보는게 훨씬 선명하고 빨라요.\\n\\n모바일에서 노트를 굉장히 만족스럽게 사용하고 있는데, pc버전도 얼른 개선되어야 더욱 사용성이 극대화될 수 있을 것 같습니다.\\n\\n탭에서는 쌩쌩한 삼성노트가.. 노트북에만 오면 왜이렇게 느리고,, 필기 시 딜레이도 생기고,, 그러는 걸까요 ㅜㅜ\\n\\n2) pdf 는 주로 이전 지점에서 다시 보는 경우가 많은데, mobile 버전과 달리 pc 버전은 이전 지점 저장이 안되는 것 같습니다.\\n\\npdf로 주로 교재를 보는 저에게는 이전 지점 저장기능이 필수입니다.\\n\\n3) pc 버전에서는 pdf 중 OCR된 내용을 길게 눌러 사전 검색하는 기능이 지원되지 않는 것 같습니다. 탭에서 참 편리하게 사용했는데 아쉬웠습니다. [...] ![노트담당](/t5/image/serverpage/image-id/9950709i79F8D8D04533893E/image-dimensions/50x50/constrain-image/false?v=v2 \"노트담당\")\\n![Moderator](/i/rank_icons/moderator.gif \"Moderator\")\\n\\n\\u200e02-05-2022\\n10:34 AM\\n·\\n\\n안녕하세요. 삼성노트 담당입니다.\\n\\n여러 가지를 잘 정리해주셨네요. 우선 좋은 의견 대단히 감사합니다.\\n\\n1. 잘 아시다시피 PC는 별도 OS로 별도 개발팀에서 별도로 되어 차이가 있는 부분은 양해 부탁드립니다. 기능도 완전히 같게 만들기 어려운 부분이 있습니다. 다만 성능 부분은 최대한 개선이 되어야 하는데\\n\\n3. OCR은 아직 모바일에서도 제공 되지 않고 있습니다. 올해 추가 계획은 있습니다.\\n\\n그 외 기능에 대해서도 세밀하게 살펴 보겠습니다.\\n\\n좋은 의견 주셔서 감사합니다. 또 의견 주시면 개선에 꼭~~ 반영하겠습니다.',\n",
       "  'score': 0.86052185},\n",
       " {'title': '윈도우 10 (Windows 10), 노트북 PC 프리징 현상이 있을 때, 피드백 ...',\n",
       "  'url': 'https://m.blog.naver.com/hansarangcnc/222329073003',\n",
       "  'content': '\\u200b\\n\\n윈도우 10 피드백 끄기 설정에\\n\\n사용해 본 제품은\\n\\n\\u200b\\n\\n삼성전자 2 in1 노트북\\n\\n플렉스2 입니다.\\n\\n\\u200b\\n\\n\\u200b\\n\\n선명한 QLED 디스플레이와\\n\\n최신 11세대 i7-1165G7 프로세서,\\n\\n메모리 16GB,\\n\\n512GB NVMe SSD(4세대)\\n\\nWindows 10 Home 탑재\\n\\n동작까지 인식하는 S펜\\n\\n터치패드를 통한\\n\\n\\u200b\\n\\n무선 배터리 공유되는 최신 기능\\n\\n\\u200b\\n\\n놀라운 배터리 성능과\\n\\n손쉬운 지문 인식,\\n\\n썬더볼트 4,\\n\\n기가 와이파이6\\n\\nAKG 스테레오 스피커\\n\\n자유로운 기기간 동기화가 가능한\\n\\n\\u200b\\n\\n\\u200b\\n\\n삼성전자 갤럭시북 플렉스2\\n\\nNT950QDA-X71AZ\\n\\n\\u200b\\n\\n\\u200b\\n\\n고성능 고사양의 노트북을 지금\\n\\n삼성Mall 한사랑씨앤씨에서\\n\\n다양한 혜택과 함께 만나보시길 바랍니다.\\n\\n\\u200b\\n\\n\\u200b\\n\\n\\u200b\\n\\n\\u200b\\n\\n\\u200b\\n\\n\\u200b\\n\\n## 카테고리 [...] ![](https://mblogthumb-phinf.pstatic.net/MjAyMTA0MzBfMTU5/MDAxNjE5Nzc1MjE3MjA5.MLL6ELay-3G8_PEIjJh1AdZSZG7ZWf9ZQvzxILj6vpsg.g8iROOU7ABhD_-5v12mLAmKXSDO0cAFczSxaXx7w3tog.JPEG.rang1192/%EB%85%B8%ED%8A%B8%EB%B6%81%ED%94%84%EB%A6%AC%EC%A7%95-%EC%9C%88%EB%8F%84%EC%9A%B010%ED%94%BC%EB%93%9C%EB%B0%B1%EB%81%84%EA%B8%B0%EB%B0%A9%EB%B2%95-.jpg?type=w80_blur)\\n\\n\\u200b\\n\\n\\u200b\\n\\n\\u200b\\n\\n안녕하세요.\\n\\n삼성전자 공식 파트너사\\n\\n삼성Mall 한사랑씨앤씨 입니다.\\n\\n\\u200b\\n\\n\\u200b\\n\\n윈도우 10을 사용하면서\\n\\n웹서핑을 하거나 작업을 할 때 등\\n\\n잠깐잠깐씩 멈추는 프리징 현상들이 발생할 때가 있는데요!\\n\\n\\u200b [...] ![](https://mblogthumb-phinf.pstatic.net/MjAyMTA0MzBfMTAz/MDAxNjE5NzczMjIwNTY0.kY_NYV0mYZLQFOJ2sA9IB1slcg20KcHG0MwP8kQvvoYg.-Q1bot1iBo7qLwkFKyXnCfExNT93d-uAq5UKnA3JUOMg.JPEG.rang1192/%EC%9C%88%EB%8F%84%EC%9A%B0%ED%94%84%EB%A6%AC%EC%A7%95_(6).jpg?type=w80_blur)\\n\\n\\u200b\\n\\nWindows에서 내 피드백 요청\\n\\n[안함] 으로 변경해 주세요.\\n\\n\\u200b\\n\\n\\u200b\\n\\n혹시나 윈도우 설정에서\\n\\n변경이 잘 안된다면\\n\\n\\u200b\\n\\n\\u200b\\n\\n레지스트리 편집기를 통해서 변경할 수 있습니다.\\n\\n\\u200b\\n\\n\\u200b',\n",
       "  'score': 0.5433243},\n",
       " {'title': 'Tech Guru의 2024년 삼성 노트북 추천: 탁월한 성능과 스타일',\n",
       "  'url': 'https://www.koreanpanda.com/%EC%82%BC%EC%84%B1-%EB%85%B8%ED%8A%B8%EB%B6%81-%EC%B6%94%EC%B2%9C/',\n",
       "  'content': 'Samsung Notebook Plus 2는 까다로운 사용자도 만족시킬 수 있는 강력한 성능을 자랑합니다. 최신 인텔 코어 i7 프로세서를 탑재하고 고속으로 작동하는 이 노트북은',\n",
       "  'score': 0.4617697},\n",
       " {'title': '삼성노트북 계정 연동 오류(딜레이/로그인창 안뜸) - Samsung Members',\n",
       "  'url': 'https://r1.community.samsung.com/t5/pc/%EC%82%BC%EC%84%B1%EB%85%B8%ED%8A%B8%EB%B6%81-%EA%B3%84%EC%A0%95-%EC%97%B0%EB%8F%99-%EC%98%A4%EB%A5%98-%EB%94%9C%EB%A0%88%EC%9D%B4-%EB%A1%9C%EA%B7%B8%EC%9D%B8%EC%B0%BD-%EC%95%88%EB%9C%B8/td-p/23408687',\n",
       "  'content': '![고객지원 | Samsung 대한민국](https://images.samsung.com/kdp/support/10002/dda31fa8-c973-4a69-a947-04719080b0da.png \"고객지원 | Samsung 대한민국\")\\n![GeniusHO](https://r1.community.samsung.com/t5/image/serverpage/avatar-name/comm_avata_48/avatar-theme/candy/avatar-collection/newAvatars/avatar-display-size/profile?xdesc&#61;1.0 \"GeniusHO\")\\n\\n\\u200e09-26-2023\\n05:27 PM\\n· [...] ![고객지원 | Samsung 대한민국](https://images.samsung.com/kdp/support/10002/dda31fa8-c973-4a69-a947-04719080b0da.png \"고객지원 | Samsung 대한민국\")\\n![GeniusHO](https://r1.community.samsung.com/t5/image/serverpage/avatar-name/comm_avata_48/avatar-theme/candy/avatar-collection/newAvatars/avatar-display-size/profile?xdesc&#61;1.0 \"GeniusHO\")\\n\\n\\u200e09-26-2023\\n05:39 PM\\n· [...] **3. \\'시스템 모델명\\'을 담당부서로 전달하여 작업 완료되면 다시 재안내 드리겠습니다.**   \\n이후 Samsung account 앱을 실행시켜 로그인 해주시면 정상동작 할것으로 예상하고 있습니다.  \\n- 담당부서에서 리스트에 모델명을 퍼징하는 작업이 필요하기에, 작업 완료 안내드린 이후 시도하여 주시길 바랍니다.\\n\\n해당 증상으로 고객님게 불편을 드린점 다시한번 사과의 말씀드리며 더 나은 다양한 가치를 제공할 수 있도록 최선을 다하겠습니다.  \\n삼성계정 담당자 드림💌\\n\\n![GeniusHO](https://r1.community.samsung.com/t5/image/serverpage/avatar-name/comm_avata_48/avatar-theme/candy/avatar-collection/newAvatars/avatar-display-size/profile?xdesc&#61;1.0 \"GeniusHO\")\\n\\n\\u200e09-26-2023\\n05:27 PM\\n·',\n",
       "  'score': 0.3462102},\n",
       " {'title': \"MS서피스, 삼성 갤럭시북등 ARM기반 랩탑에서 '잘못된 프린터데이터 ...\",\n",
       "  'url': 'https://modu-print.com/%EB%AC%B8%EC%A0%9C%ED%95%B4%EA%B2%B0/%ED%94%84%EB%A6%B0%ED%84%B0%EB%AC%B8%EC%A0%9C/ms%EC%84%9C%ED%94%BC%EC%8A%A4-%EC%82%BC%EC%84%B1-%EA%B0%A4%EB%9F%AD%EC%8B%9C%EB%B6%81%EB%93%B1-arm%EA%B8%B0%EB%B0%98-%EB%9E%A9%ED%83%91%EC%97%90%EC%84%9C-%EC%9E%98%EB%AA%BB%EB%90%9C-%ED%94%84/',\n",
       "  'content': '고급 탭을 선택하시면 출력에 사용될 드라이버를 변경가능한 항목이 있습니다. 제 경우에는 워낙 테스트를 위해 다양한 드라이버가 설치되어 있어서 별에 별게 다 나옵니다만.. 컴퓨터에 따라서 선택가능한 목록은 차이가 있을 수 있습니다.\\n\\n![](https://i0.wp.com/modu-print.com/wp-content/uploads/2024/10/image-9.png?resize=643%2C819&ssl=1)\\n\\n유져분의 피드백에 따르면 Microsoft PCL6 Class Driver 로 선택하여 사용하니 정상 동작을 하였다는 보고인데요..\\n\\nMS의 Class Driver는 윈도에서 기본적으로 설치되는 기본 드라이버로 PCL5, 6 이나 PS 드라이버라면 모두의 프린터가 PDF로 변환하는데 문제가 없습니다.',\n",
       "  'score': 0.15529642},\n",
       " {'title': '2025년 삼성 가전 신제품 총정리 – 혁신과 스마트함이 살아있는 ...',\n",
       "  'url': 'https://morningstar7.tistory.com/467',\n",
       "  'content': 'Pk6CpVviIaJYApj0VgaoFiuznQBD/BEfJCVhtvv7rv2xBLlUarbPHE/krR83h0C9iiEGxOySZjBECqKy1n67JNonCyi9U+w52hChzXzbhhRK/pcXqurQOxl4dW75Ai/JlQWHFWGonQx7iT63KS2rO2yhXI3s8eoy7M1h20nBZfjP2Fu3+95yf8bRrUsbSf+SlzanfpSzQppayq6gVlmjO4kdlpFOnU/TUVUTUHutgn4PKunNWyyFAt7YKNjZ4QDanR1bovUr5IcYD46w7fi9cD6Sn5h9pb1hfM2uiLJQ2j2FosCJ9/IFI6sNoQvgrlxw39sJOfRmMxomUb0BgGLsIRCHY1d3QzYqfEnkczL5948rWoEvEBmQXRzucmRnsi4U+6WS6lj8ZJDB1KgCRaMl6LAeYPJMCl6HzVMb8LZWp2V/90oTodVg7/UEaw4+BpJ/A/ON9tJ0Vqw==) [...] 4OFk3HBSnQkq75BEH+j6cCKfaMlx1RlyiKyKM0zKrOsI/KTGaDBPDQc2KEKGo8rzpnNWcOufrPdRVbz0QkadQcAKnyQ09yuVn/YRSqY7ElaoR4zAKUnYBT+GvfjsFMBMmfRYvcP8DZO6txE4zV2Exg6Y/gye4soJoEtkM02lb6K5Ek6/psfhyq/Cl1UJ0AB/F7A/Z/hLeFTIBR12wazAobxiZ89PkWw40nLGoJxXpCpjKvdeyv9Q7A9+3XKOYc/VQsjEH1Ebm+M3KyJobFzOHmNPNOT4svzA+QV9dyVl4yRSD9FBj1vS8NECsVTXkA8GBPeG3zPU/YJ3aWBOd6MtOUnD1duQFhpllhZl3OxW9zvX328hj9LZiLyB5ShH8YIGRz+WG6Q5Z1tYkn+Y7HjIMvhwiRkAq+8YCVvR4/VShifNBLfVlFrPKjiNktzii57/ftqmAaDIjt1QM+LjsAN44hW4lq4B5QlKjQidyDOJndcyoxJHpsNC [...] 4OFk3HBSnQkq75BEH+j6cCKfaMlx1RlyiKyKM0zKrOsI/KTGaDBPDQc2KEKGo8rzpnNWcOufrPdRVbz0QkadQcAKnyQ09yuVn/YRSqY7ElaoR4zAKUnYBT+GvfjsFMBMmfRYvcP8DZO6txE4zV2Exg6Y/gye4soJoEtkM02lb6K5Ek6/psfhyq/Cl1UJ0AB/F7A/Z/hLeFTIBR12wazAobxiZ89PkWw40nLGoJxXpCpjKvdeyv9Q7A9+3XKOYc/VQsjEH1Ebm+M3KyJobFzOHmNPNOT4svzA+QV9dyVl4yRSD9FBj1vS8NECsVTXkA8GBPeG3zPU/YJ3aWBOd6MtOUnD1duQFhpllhZl3OxW9zvX328hj9LZiLyB5ShH8YIGRz+WG6Q5Z1tYkn+Y7HjIMvhwiRkAq+8YCVvR4/VShifNBLfVlFrPKjiNktzii57/ftqmAaDIjt1QM+LjsAN44hW4lq4B5QlKjQidyDOJndcyoxJHpsNC',\n",
       "  'score': 0.87166095},\n",
       " {'title': '2025 삼성 NEW 신상 비스포크 AI 가전 리뷰 ⭐️ 세탁건조기, 냉장고 ...',\n",
       "  'url': 'https://www.youtube.com/watch?v=gn6m_8-tKTk',\n",
       "  'content': '- 마침 어머니한테 전화가 오는데요 - 전화 한번 받아보도록 하겠습니다 - 지금 발표 중이라서요 - 나중에 전화드릴게요 - 하이 빅스비, 더워! \"블라인드를 내리고 냉방을 시작할게요\" 안녕하세요 여러분 오늘 제가 따끈따끈하게 삼성전자의 웰컴 투 비스포크 AI라는 행사에 다녀왔거든요 이번 행사에서는 2025년에 새로 나온 삼성전자의 신제품들을 소개를 시켜 주시고 자유롭게 제품들을 체험을 해볼 수 있었던 그런 행사였는데요 제가 지금 사는 집이 세탁기도 삼성 세탁기고 냉장고도 삼성 냉장고가 옵션으로 있고 에어컨 2대도 삼성의 빌트인 제품이거든요 내돈내산으로는 삼성의 TV랑 식기세척기를 또 구매를 해서 지금 집이 완전 다 삼성 제품들로 쓰고 있단 말이에요 옵션으로 있던 제품들은 이사가면 다시 다 사야 되니까 안 그래도 요새 가전을 엄청 찾아보고 있었는데 이번 행사를 가서 제가 직접 구매를 하려는 소비자의 마음으로 제가 직접 구매를 하려는 소비자의 마음으로 낱낱이 분석을 하고 또 공부를 [...] 생각을 했습니다 그래서 제가 식세기는 지난 영상에서 또 자세하게 다뤘거든요 그래서 오늘 정말 제가 이번 2025년에 삼성에서 이제 출시하는 가전 제품들을 거의 싹 다 보고 왔는데 저는 이번에 이 삼성에 특히 그 한 번에 다 연동이 되는 그 스마트함에 너무 반해가지고 무조건 가전은 한 번에 다 통일이 되는 한 브랜드로 사야겠다고 다짐을 했고 다음에 이사를 가면 내돈내산 실사용 리뷰까지 한 번 또 추가로 남겨보면 좋을 것 같아요 그래서 오늘 영상 이렇게 봐주셔서 너무너무 감사드리고 [...] 00:00 오프닝\\n01:09 2025 새로워진 #삼성 가전의 특징 👉 스크린\\n02:01 가전에서도 #빅스비 와 함께\\n02:15 우주쏘녀에게 꼭 필요한 내폰찾기 기능....\\n03:01 해킹 걱정 NO! 삼성의 녹스 보안 솔루션\\n03:22 일체형 #세탁건조기 사야하는 이유\\n04:19 일체형 세탁건조기: #비스포크 AI 콤보 & 인피니트 AI 콤보\\n04:26 비스포크 AI #세탁기 & #건조기\\n04:30 비스포크 AI 원바디\\n05:13 세제 자동 투입 기능으로 사용 편리함(비스포크 AI 콤보: 최대 13주, 인피니트 AI 콤보: 최대 17주)\\n06:08 감지 가능한 옷감이 기존 3종 (섬세, 타월, 일반)에서 5종(데님, 아웃도어 추가)으로 확대\\n06:40 세탁 및 건조 후 자동으로 문이 열려 내부 습기를 최대 40% 제거하고, 위생적인 관리 가능\\n06:57 일체형 세탁건조기 \\'삼성\\'으로 사야하는 이유\\n07:59 비스포크 AI 패밀리허브 #냉장고',\n",
       "  'score': 0.8536326},\n",
       " {'title': \"삼성전자, '2025년 영국서 가장 신뢰받는 브랜드' 냉장고 부문 1위\",\n",
       "  'url': 'https://www.industrynews.co.kr/news/articleView.html?idxno=60039',\n",
       "  'content': \"영국 가전 전문 소비자 매체인 '굿하우스키핑'으로부터 최고점을 받은 '비스포크 AI 패밀리허브' 제품 이미지/ 사진 = 삼성전자\\n\\n[인더스트리뉴스 홍윤기 기자]\\xa0삼성전자는 글로벌 시사 주간지인 '뉴스위크(Newsweek)'가 최근 발표한 '2025년 영국서 가장 신뢰받는 브랜드'에서 냉장고 부문 1위로 선정됐다고 10일 밝혔다.\\n\\n뉴스위크는 시장 조사기관 '브랜드스파크(BrandSpark)'와 함께 1만7000여명의 영국 소비자를 대상으로 심층 설문조사를 진행했다. 조사를 토대로\\xa0유아동 용품, 식품∙음료, 건강, 미용∙개인 관리, 가전용품 등 주요 소매 부문별 신뢰받는 브랜드를 선정했다.\\n\\n해당 순위는\\xa0100% 실제 구매자의 투표를 통해 선정됐으며, 브랜드 신뢰도는 품질은 물론 기업의 윤리적 가치와 가격의 합리성,\\xa0고객서비스 등을 평가한다. [...] ![이재명 대통령, 용산 대통령실 첫 출근 “아무것도 없어...무덤같다”](/news/thumbnail/202506/65279_74727_5751_v150.jpg)\\n![영국 가전 전문 소비자 매체인 '굿하우스키핑'으로부터 최고점을 받은 '비스포크 AI 패밀리허브' 제품 이미지/ 사진 = 삼성전자](/news/photo/202502/60039_68150_1220.jpg) [...] ![](http://gtp1.acecounter.com:8080/?uid=AH3A43394576500&je=n&)\\n![인더스트리뉴스](/image/logo/mobilelogo_20241031053350.png)\\n![인더스트리뉴스](/image/logo/printlogo_20210524010141.png)\\n![새 정부 출범 기대감에 코스피 2.7% 껑충...2770선 마감](/news/thumbnail/202506/65301_74754_1155_v150.jpg)\\n![체코 원전 건설 '마침표'…한수원, 최종사업자 선정](/news/thumbnail/202506/65302_74752_100_v150.jpg)\\n![민주당, '이재명 도우미' 차기 당 대표에 정청래 입성하나](/news/thumbnail/202506/65297_74748_2321_v150.jpg)\",\n",
       "  'score': 0.8235701},\n",
       " {'title': \"삼성전자, 유고브 선정 '2025년 최고 글로벌 브랜드' 1위 - 뉴스1\",\n",
       "  'url': 'https://www.news1.kr/industry/general-industry/5676458',\n",
       "  'content': \"2일 업계에 따르면 삼성전자는 글로벌 여론조사업체 '유고브'(YouGov)가 최근 발표한 '2025년 최고 글로벌 브랜드' 순위에서 43.0점을 얻어 1위를 기록\",\n",
       "  'score': 0.78650844},\n",
       " {'title': \"삼성전자, 유고브 선정 '2025년 글로벌 최고 브랜드' 1위 - 연합뉴스\",\n",
       "  'url': 'https://www.yna.co.kr/view/AKR20250131120300003',\n",
       "  'content': \"2일 업계에 따르면 글로벌 여론조사업체 유고브(YouGov)가 최근 발표한 '2025년 글로벌 최고 브랜드 순위'에서 삼성전자는 43.0점을 얻어 1위를 기록했다.\",\n",
       "  'score': 0.7734393},\n",
       " {'title': \"삼성전자, 유고브 선정 '2025년 글로벌 최고 브랜드' 1위 - 네이트 뉴스\",\n",
       "  'url': 'https://news.nate.com/view/20250202n01476',\n",
       "  'content': \"2일 업계에 따르면 글로벌 여론조사업체 유고브(YouGov)가 최근 발표한 '2025년 글로벌 최고 브랜드 순위'에서 삼성전자는 43.0점을 얻어 1위를 기록했다.\",\n",
       "  'score': 0.77179235},\n",
       " {'title': \"삼성전자, 유고브 선정 '2025년 글로벌 최고 브랜드' 1위 올라 - 문화일보\",\n",
       "  'url': 'https://www.munhwa.com/article/11481697',\n",
       "  'content': \"2일 업계에 따르면 글로벌 여론조사업체 유고브(YouGov)가 최근 발표한 '2025년 글로벌 최고 브랜드 순위'에서 삼성전자는 43.0점을 얻어 1위를 기록했다.\",\n",
       "  'score': 0.7668008},\n",
       " {'title': '삼성전자의 현재와 미래, 어디로 가고 있을까?',\n",
       "  'url': 'https://heesight.com/entry/%EC%82%BC%EC%84%B1%EC%A0%84%EC%9E%90%EC%9D%98-%ED%98%84%EC%9E%AC%EC%99%80-%EB%AF%B8%EB%9E%98-%EC%96%B4%EB%94%94%EB%A1%9C-%EA%B0%80%EA%B3%A0-%EC%9E%88%EC%9D%84%EA%B9%8C',\n",
       "  'content': '그러나 최근 삼성전자는 빠르게 변화하는 시장 환경 속에서 심각한 도전에 직면하고 있습니다. AI와 데이터 중심의 산업 재편, 글로벌 반도체 시장의 격화',\n",
       "  'score': 0.6824261},\n",
       " {'title': '[브랜드평판] 스마트폰 상장기업 2025년 4월 빅데이터 1위 삼성전자, 2 ...',\n",
       "  'url': 'https://www.cbci.co.kr/news/articleView.html?idxno=493768',\n",
       "  'content': '세부 분석을 보면 브랜드소비 18.30% 상승, 브랜드이슈 0.13% 상승, 브랜드소통 10.66% 하락, 브랜드확산 18.82% 상승, 브랜드시장 4.09% 하락, 브랜드',\n",
       "  'score': 0.6643884},\n",
       " {'title': '삼성전자의 최근 동향과 투자 가치 분석: 시장 변동성 속의 기회와 리스크',\n",
       "  'url': 'https://seo.goover.ai/report/202503/go-public-report-ko-d812367d-1151-48b4-a7f9-f3ef77f7aef9-0-0.html',\n",
       "  'content': 'í\\x98\\x84ì\\x9e¬ ì\\x82¼ì\\x84±ì\\xa0\\x84ì\\x9e\\x90ì\\x9d\\x98 ì\\x8b\\x9cê°\\x80ì´\\x9dì\\x95¡ ë¹\\x84ì¤\\x91ì\\x9d\\x80 15.68%ë¡\\x9c ê°\\x90ì\\x86\\x8cì\\x84¸ë¥¼ ë³´ì\\x9d´ê³\\xa0 ì\\x9e\\x88ì\\x8aµë\\x8b\\x88ë\\x8b¤. ì\\x9d´ë\\x8a\\x94 ì§\\x80ë\\x82\\x9cí\\x95´ 20.23%ì\\x97\\x90ì\\x84\\x9c í\\x81° í\\x8f\\xadì\\x9c¼ë¡\\x9c ì¤\\x84ì\\x96´ë\\x93\\xa0 ì\\x88\\x98ì¹\\x98ë¡\\x9c, ì£¼ê°\\x80 í\\x95\\x98ë\\x9d½ê³¼ ì\\x97°ê´\\x80ì\\x9d´ ê¹\\x8aì\\x8aµë\\x8b\\x88ë\\x8b¤. ì\\x82¼ì\\x84±ì\\xa0\\x84ì\\x9e\\x90ì\\x9d\\x98 ì£¼ê°\\x80ë\\x8a\\x94 ì§\\x80ë\\x82\\x9cí\\x95´ 7ë§\\x8c3200ì\\x9b\\x90ì\\x97\\x90ì\\x84\\x9c ìµ\\x9cê·¼ 5ë§\\x8c4500ì\\x9b\\x90ì\\x9c¼ë¡\\x9c í\\x95\\x98ë\\x9d½í\\x95´, í\\x88¬ì\\x9e\\x90ì\\x9e\\x90ë\\x93¤ ì\\x82¬ì\\x9d´ì\\x97\\x90ì\\x84\\x9c ë¶\\x88ì\\x95\\x88ê°\\x90ì\\x9d\\x84 ì¡°ì\\x84±í\\x95\\x98ê³\\xa0 ì\\x9e\\x88ì\\x8aµë\\x8b\\x88ë\\x8b¤. ì\\x9d´ë\\x9f¬í\\x95\\x9c í\\x95\\x98ë\\x9d½ì\\x84¸ë\\x8a\\x94 ê¸°ì\\x97\\x85ì\\x9d\\x98 ì\\x8b¤ì\\xa0\\x81ê³¼ ì§\\x81ê²°ë\\x90\\x98ë©° í\\x96¥í\\x9b\\x84 í\\x88¬ì\\x9e\\x90 ì\\x88\\x98ì\\x9dµì\\x97\\x90 ë¶\\x80ì\\xa0\\x95ì\\xa0\\x81ì\\x9d¸ ì\\x98\\x81í\\x96¥ì\\x9d\\x84 ë¯¸ì¹\\xa0 ì\\x88\\x98 ì\\x9e\\x88ì\\x8aµë\\x8b\\x88ë\\x8b¤. [...] ì\\x82¼ì\\x84±ì\\xa0\\x84ì\\x9e\\x90ì\\x9d\\x98 ìµ\\x9cê·¼ ì£¼ê°\\x80ë\\x8a\\x94 54, 500ì\\x9b\\x90ì\\x9c¼ë¡\\x9c í\\x95\\x98ë\\x9d½í\\x95\\x98ë©° ì\\xa0\\x84ì\\x9d¼ ë\\x8c\\x80ë¹\\x84 1, 800ì\\x9b\\x90(-3.20%) ë\\x82´ë\\xa0¤ê°\\x94ì\\x8aµë\\x8b\\x88ë\\x8b¤. ì\\x9d´ë\\x8a\\x94 ì\\x99¸êµ\\xadì\\x9d¸ê³¼ ê¸°ê´\\x80ì\\x9d\\x98 ë§¤ë\\x8f\\x84ë¡\\x9c ì\\x9d¸í\\x95´ ë°\\x9cì\\x83\\x9dí\\x95\\x9c ê²°ê³¼ì\\x9e\\x85ë\\x8b\\x88ë\\x8b¤. ë\\x98\\x90í\\x95\\x9c, í\\x8a¸ë\\xa0\\x8cë\\x93\\x9cí\\x8f¬ì\\x8a¤ì\\x9d\\x98 ë³´ê³\\xa0ì\\x84\\x9cì\\x97\\x90 ë\\x94°ë¥´ë©´ ì\\x98¬í\\x95´ ì\\x83\\x81ë°\\x98ê¸° ë\\x82¸ë\\x93\\x9c ë©\\x94ëª¨ë¦¬ ê°\\x80ê²©ì\\x9d´ ìµ\\x9cë\\x8c\\x80 20% í\\x95\\x98ë\\x9d½í\\x95\\xa0 ê²\\x83ì\\x9c¼ë¡\\x9c ì\\xa0\\x84ë§\\x9dë\\x90\\x98ì\\x96´, ì\\x82¼ì\\x84±ì\\xa0\\x84ì\\x9e\\x90ì\\x9d\\x98 ë©\\x94ëª¨ë¦¬ ë¶\\x80ë¬¸ í\\x96¥í\\x9b\\x84 ì\\x8b¤ì\\xa0\\x81ì\\x97\\x90 ë¶\\x80ì\\xa0\\x95ì\\xa0\\x81ì\\x9d¸ ì\\x98\\x81í\\x96¥ì\\x9d\\x84 ë¯¸ì¹\\xa0 ì\\x88\\x98 ì\\x9e\\x88ì\\x8aµë\\x8b\\x88ë\\x8b¤. ë°\\x98ë©´, ì\\x82¼ì\\x84±ì\\xa0\\x84ì\\x9e\\x90ë\\x8a\\x94 ë¡\\x9cë´\\x87 ê¸°ì\\x88\\xa0 ê°\\x9cë°\\x9cì\\x97\\x90 ë\\x8c\\x80í\\x95\\x9c í\\x88¬ì\\x9e\\x90ë¥¼ [...] ì\\x82¼ì\\x84±ì\\xa0\\x84ì\\x9e\\x90ì\\x97\\x90 ë\\x8c\\x80í\\x95\\x9c ê¸\\x8dì\\xa0\\x95ì\\xa0\\x81ì\\x9d¸ ë§¤ì\\x88\\x98 ì\\x9d\\x98ê²¬ì\\x9d´ ì¡´ì\\x9e¬í\\x95\\x98ë©°, 56500ì\\x9b\\x90ì\\x9d´ ì\\xa0\\x81ì\\xa0\\x88í\\x95\\x9c ë§¤ì\\x88\\x98 í\\x83\\x80ì\\x9d´ë°\\x8dì\\x9c¼ë¡\\x9c ì\\x96¸ê¸\\x89ë\\x90\\x98ê³\\xa0 ì\\x9e\\x88ì\\x8aµë\\x8b\\x88ë\\x8b¤. ì\\x9d´ë\\x9f¬í\\x95\\x9c ì\\x9d\\x98ê²¬ì\\x9d\\x80 ì\\x82¼ì\\x84±ì\\xa0\\x84ì\\x9e\\x90ì\\x9d\\x98 ì\\x9e¥ê¸°ì\\xa0\\x81ì\\x9d¸ ì\\x84±ì\\x9e¥ ê°\\x80ë\\x8a¥ì\\x84±ì\\x97\\x90 ê¸°ë°\\x98í\\x95\\x98ê³\\xa0 ì\\x9e\\x88ì\\x9c¼ë©°, ë§\\x8eì\\x9d\\x80 í\\x88¬ì\\x9e\\x90ì\\x9e\\x90ë\\x93¤ì\\x9d´ ë\\x8c\\x80ë\\x9f\\x89ì\\x9c¼ë¡\\x9c ë§¤ì\\x88\\x98ë¥¼ ê³\\xa0ë\\xa0¤í\\x95\\x98ê³\\xa0 ì\\x9e\\x88ë\\x8b¤ë\\x8a\\x94 ì\\xa0\\x90ì\\x97\\x90ì\\x84\\x9c ê·¸ ì\\x8b\\xa0ë¢°ë\\x8f\\x84ë¥¼ ë³´ì\\x97¬ì¤\\x8dë\\x8b\\x88ë\\x8b¤. ì£¼ì\\x8b\\x9d ì\\x8b\\x9cì\\x9e¥ì\\x97\\x90ì\\x84\\x9cì\\x9d\\x98 ë³\\x80ë\\x8f\\x99ì\\x84±ì\\x9d´ ì\\x98\\x88ì\\x83\\x81ë\\x90\\x98ì§\\x80ë§\\x8c, ì\\x9d´ ê°\\x80ê²©ë\\x8c\\x80ì\\x97\\x90ì\\x84\\x9c ë§¤ì\\x88\\x98í\\x95\\x98ë\\x8a\\x94 ê²\\x83ì\\x9d\\x80 í\\x88¬ì\\x9e\\x90ì\\x9e\\x90ë\\x93¤ì\\x97\\x90ê²\\x8c ì\\x9a°í\\x98¸ì\\xa0\\x81ì\\x9d¸ ê²°ì\\xa0\\x95ì\\x9d´ ë\\x90\\xa0 ê°\\x80ë\\x8a¥ì\\x84±ì\\x9d´',\n",
       "  'score': 0.5826579},\n",
       " {'title': '넷플릭스도 삼성도 이걸로 승부봤다! 소셜 미디어 꿀팁!',\n",
       "  'url': 'https://home.ampm.co.kr/ae-honestcow/insight/5745',\n",
       "  'content': '브랜드의 개성과 가치를 효과적으로 전달해야 합니다. 삼성전자는 소셜 미디어에서 다양한 창의적 캠페인을 통해 높은 고객 참여를 이끌어냈습니다.',\n",
       "  'score': 0.8351749},\n",
       " {'title': '소셜마케팅 성공사례 5 : 삼성전자 뉴스룸, 브랜드 저널리즘으로 진화 ...',\n",
       "  'url': 'https://magazine.contenta.co/2016/02/%EC%86%8C%EC%85%9C%EB%A7%88%EC%BC%80%ED%8C%85-%EC%84%B1%EA%B3%B5%EC%82%AC%EB%A1%80-5-%EC%82%BC%EC%84%B1%EC%A0%84%EC%9E%90-%EB%89%B4%EC%8A%A4%EB%A3%B8-%EB%B8%8C%EB%9E%9C%EB%93%9C-%EC%A0%80%EB%84%90/',\n",
       "  'content': \"확실히 현재 개편된 '삼성전자 뉴스룸'을 보면 '브랜드 저널리즘'보다는 '기업 블로그'의 이미지를 강하게 풍기고 있다. 임직원 칼럼을 새롭게 도입하고, 페이스북이나\",\n",
       "  'score': 0.71758664},\n",
       " {'title': '삼성전자 마케팅 분석 - GBTdigital marketing',\n",
       "  'url': 'https://gbtdigitalmarketing.tistory.com/15',\n",
       "  'content': '삼성전자는 블로그뿐만 아니라 페이스북, 트위터, 플리커 등의 다양한 언드 미디어를 종합적으로 운영하고 있다. 삼성전자 페이스북은 소비자와 친구 같은',\n",
       "  'score': 0.65887916},\n",
       " {'title': '소셜미디어, 이제 영상으로 통하는 시대 - Samsung Newsroom',\n",
       "  'url': 'https://news.samsung.com/kr/1078',\n",
       "  'content': '삼성전자 역시 이 와중에 소비자와 보다 직접적인 소통을 위해 다양한 노력하고 있습니다. 그러한 노력 중 YOUNG PEOPLE의 인사이트를 발굴하고, 서로',\n",
       "  'score': 0.63125396},\n",
       " {'title': '소통의 노하우, 여기 다 공개합니다! 삼성전자가 들려주는 SNS ...',\n",
       "  'url': 'https://news.samsung.com/kr/1320',\n",
       "  'content': '지금 여러분이 보시는 이 삼성전자 블로그 역시 소셜 미디어의 하나라고 볼 수 있습니다^ ^ 초기에는 커뮤니티, 블로그 정도였던 이 소셜 미디어는 증강',\n",
       "  'score': 0.61779},\n",
       " {'title': \"[ESG 人사이드] '지속가능한 가치를 만들어내는 반도체 기술을 꿈꾸다 ...\",\n",
       "  'url': 'https://news.samsungsemiconductor.com/kr/esg-%E4%BA%BA%EC%82%AC%EC%9D%B4%EB%93%9C-%EC%A7%80%EC%86%8D%EA%B0%80%EB%8A%A5%ED%95%9C-%EA%B0%80%EC%B9%98%EB%A5%BC-%EB%A7%8C%EB%93%A4%EC%96%B4%EB%82%B4%EB%8A%94-%EB%B0%98%EB%8F%84%EC%B2%B4/',\n",
       "  'content': '대내외 홍보를 맡고 있다 보니, 고심해서 선보인 콘텐츠가 좋은 반응을 일으킬 때 보람을 느낍니다. 임직원들이 지속가능경영에 대한 중요성을 공감하고 있다는 사실이 전달될 때 더 열정적으로 일할 동기부여가 돼요. 100년, 200년을 넘어 이어가는 지속가능한 기업을 일구는 데 큰 역할을 할 수 있다는 점이 사무국 업무의 가장 큰 매력인 것 같습니다. 앞으로도 ESG 동향을 지속적으로 학습하고 이해관계자와 활발하게 소통하면서 회사의 가치를 높이기 위해 노력하겠습니다.\\n\\n![ESG인사이드_워터마크6](https://img.samsungsemiconductor.com/kr/wp-content/uploads/2022/08/ESG%EC%9D%B8%EC%82%AC%EC%9D%B4%EB%93%9C_%EC%9B%8C%ED%84%B0%EB%A7%88%ED%81%AC6.jpg) [...] ESG는 기업이 해결해야 하는 특정 사업 영역이 아니라, 기업 전체가 활동하고 성장할 기반입니다. 지속가능성을 토대로 비즈니스 변혁을 일구는 게 ESG 경영의 핵심이죠. 기업을 둘러싼 경제, 환경, 사회 등 생태계 변화에 따라 우리 기업에게 중요한 ESG 활동들도 계속 발전해 나가는 것이기에 기획이나 진행 과정이 완벽할 수 없습니다. 단편적이고 단기적인 과제가 아닌, 장기적인 관점에서 목표를 설정하고 다양한 이해관계자들과의 끊임없는 소통과 노력의 과정을 진정성 있게 보여주는 게 중요합니다. 부정적인 평가 등이 우려돼 ESG 경영 추진 과정을 투명하게 알리지 못한다면, 우리가 할 수 있는 지속가능경영 활동의 영역은 점차 좁아질지 모릅니다. 그래서 기업의 지속가능경영 활동은 투명한 정보 공개와 적극적인 이해관계자 소통이 매우 중요합니다. 우리 사무국은 삼성전자 반도체의 ESG 활동을 대외에 적극적으로 알리기 위해 다양한 노력을 기울이고 있습니다. [...] 오늘날 기업 활동의 필수적인 요소로 자리잡은 ESG 경영. 많은 기업이 ESG 경영을 실천하고 있는 가운데, 회사의 ESG 목표와 전략을 체계적으로 설정하고 실행된 활동들을 대중에 알리는 일은 그 어느 때보다 중요해졌습니다.\\n\\nDS지속가능경영사무국은 삼성전자 반도체(DS부문)에서 바로 이러한 역할을 담당하고 있습니다. 회사의 전반적인 ESG 경영 활동의 목표와 전략을 수립하고, 각 조직에서 이를 잘 수행하도록 지원하며, 회사의 노력과 성과를 외부에 알리는 역할을 담당하는 것입니다. 반도체 업의 지속가능경영에 대한 기준이 갈수록 높아지고 기업을 둘러싼 이해관계자들의 요구사항이 증가하고 있는 상황 속에서, 삼성전자 반도체가 어떻게 ESG 역량을 강화할 수 있는지, 앞으로의 지향점은 무엇인지 고민하는 사람들. DS지속가능경영사무국 사람들을 만나 그들의 이야기를 들어보았습니다.\\n\\n**지속가능한 가치를 창출하는 삼성전자 반도체의 ESG 역량을 다각도로 전달하다**',\n",
       "  'score': 0.7043437},\n",
       " {'title': '삼성전자 지속가능경영 - Samsung',\n",
       "  'url': 'https://www.samsung.com/sec/sustainability/main/',\n",
       "  'content': \"[People 자세히 보기](https://www.samsung.com/sec/sustainability/people/human-rights)\\nPrinciple 지속가능한 미래를 위해 책임경영을 실천합니다 삼성전자는 준법과 윤리 경영 원칙에 기반하여 투명하고 깨끗한 조직문화를 만들기 위해 노력하고 있습니다. 또한 지속가능성을 사업과 제품에 충실히 반영하기 위해 지속가능경영 추진체계를 견고히 하고 있습니다.\\n\\n[Principle 자세히 보기](https://www.samsung.com/sec/sustainability/principle/compliance-ethics)\\n\\nPlanet 더 나은 세상,더 나은 지구를 꿈꿉니다 삼성전자는 사람과 자연을 존중하며 인류의 삶과 지구환경 보전에 기여한다는 녹색경영 이념을 지키고 있습니다. 고객에게 친환경 가치를 제공하고 지속가능한 미래를 선도하기 위해 노력합니다. [...] [Planet 자세히 보기](https://www.samsung.com/sec/sustainability/planet/environmental-strategy)\\n\\nPeople 사회적 책임을 다하며 미래로 함께 나아갑니다 삼성전자는 인류의 더 나은 삶을 위해 사회적 책임을 다하고자 합니다. 핵심가치인 '인재제일'과 '상생추구'를 위해 기술과 자원을 미래 세대 및 사회와 함께 나누며 모두를 위한 디지털 라이프 스타일을 지향합니다.\\n\\n[People 자세히 보기](https://www.samsung.com/sec/sustainability/people/human-rights)\\n\\nPrinciple 지속가능한 미래를 위해 책임경영을 실천합니다. 삼성전자는 준법과 윤리 경영 원칙에 기반하여 투명하고 깨끗한 조직문화를 만들기 위해 노력하고 있습니다. 또한 지속가능성을 사업과 제품에 충실히 반영하기 위해 지속가능경영 추진체계를 견고히 하고 있습니다. [...] ### ![Image 11: Changes Start from Small Steps](https://www.samsung.com/sec/sustainability/assets/img/pc/home/mdi/img_text01.png)![Image 12: Changes Start from Small Steps](https://www.samsung.com/sec/sustainability/assets/img/mo/home/mdi/img_text01.png)\\n\\n삼성전자 지속가능경영의 지향점 중 하나는 \\n\\n혁신성과 지속가능성을 동시에 갖춘 제품을 세상에 \\n\\n선보이고, \\n\\n고객이 일상에서 더 나은 미래를 만들어 가는 \\n\\n여정에 동참할 수 있도록 하는 것입니다.변화는 한 순간에 일어나지 않습니다. \\n\\n매일의 작은 실천이 모여 지속가능한 삶을 이루는 것. \\n\\n이것이 우리가 꿈꾸는 지속가능성입니다.\",\n",
       "  'score': 0.65887916},\n",
       " {'title': '[PDF] 삼성전자 지속가능경영보고서 2024 - Samsung',\n",
       "  'url': 'https://www.samsung.com/sec/sustainability/media/pdf/Samsung_Electronics_Sustainability_Report_2024_KOR.pdf',\n",
       "  'content': \"이와 함께, EU 탄소국경조정제도(CBAM)와 EU 배터리규제 등을 통한 환경규제 역시 지속 강화되는 추세이고, 독일에서는 공급망의 인권과 근로환경 관리를 의무화하는 공급망실사법이 2023년 발효되었으며, 2024년 5월 EU 공급망 실사지침(CSDDD)이 확정되는 등 인권 분야에 대한 관심 또한 지속 고조되고 있습니다. 삼성전자는 이러한 추세에 맞춰 지속가능한 미래를 위한 노력을 계속해 왔습니다. 2050년 탄소중립을 통해 글로벌 기후위기 극복 노력에 동참하고, 자원의 순환성을 극대화하여 순환경제 구축에 기여하며, 기술혁신을 통해 환경난제 해결에 도전하는 내용의 '新환경경영전략'을 2022년 9월에 발표하였습니다. 2030년 탄소중립을 목표로 하는 DX부문에서는 미국, 유럽, 중국에 이어 한국, 베트남, 인도, 브라질을 포함한 글로벌 주요 제조사업장의 사용 전력을 재생에너지로 100% 전환하였으며, 2023년말 기준, 총 93.4% 의 재생에너지 전환 실적을 기록하였습니다. 또한 [...] 무엇보다 올해 지속가능경영보고서는 글로벌 공시규제 프레임워크에 맞춰, 당사의 주요 지속가능경영 이슈를 발굴하고, 주요 이슈의 관리 체계와 전략, 이행활동과 현황을 충실히 전달하고자 구성하였으며, 삼성전자의 지속가능경영 웹사이트와도 긴밀히 연계되도록 하였습니다. 삼성전자는 환경, 사회, 경제적 리스크와 지정학적 불확실성이 일상이 되어버린 시대를 경험하면서, 지속가능성을 삼성전자가 나아가야할 방향의 흔들리지 않는 지표이자, 사업경쟁력과 기술혁신의 원동력으로 삼고 있습니다. 어려움은 위대함을 키운다(Difficulty is the Nurse of Greatness)는 격언처럼, 삼성전자는 지속가능성을 통해 새로운 도약을 모색하고, 더욱 발전하는 모습으로 이해관계자 여러분의 기대에 부응하기 위해 최선을 다하겠습니다. 감사합니다. [...] 삼성전자는 이 같은 대외 소통 활동과 이니셔티브 참여를 통해 국내를 포함한 아시아 지역의 재생에너지 시장 확대를 비롯한 기후변화 대응 활동이 더욱 활발해질 수 있도록 상호 협력할 계획입니다.\\n삼성전자 지속가능경영보고서 2024 82 Our Company Appendix Materiality Assessment Facts & Figures Principle Planet People About This Report 삼성전자주식회사는 경제·사회·환경적 가치 창출 성과를 다양한 이해관계자와 투명하게 소통하기 위해 2024년 열일곱번째 지속가능경영보고서를 발간합니다.\",\n",
       "  'score': 0.62633044},\n",
       " {'title': \"삼성전자, '지속가능발전목표(Global Goals)'를 향한 5년간의 발자취 ...\",\n",
       "  'url': 'https://news.samsung.com/kr/%EC%82%BC%EC%84%B1%EC%A0%84%EC%9E%90-%EC%A7%80%EC%86%8D%EA%B0%80%EB%8A%A5%EB%B0%9C%EC%A0%84%EB%AA%A9%ED%91%9Cglobal-goals%EB%A5%BC-%ED%96%A5%ED%95%9C-5%EB%85%84%EA%B0%84%EC%9D%98',\n",
       "  'content': '갤럭시 사용자들은 앱을 통해 17개의 지속가능개발목표에 대해 학습하고, 앱 내 광고 시청과 월페이퍼를 활용한 광고 수익금 증대 등을 통해 기부금을',\n",
       "  'score': 0.5957048},\n",
       " {'title': 'AI시대의 지속가능성을 위한 삼성의 노력 | Sustainability Zone',\n",
       "  'url': 'https://www.youtube.com/watch?v=KXy60qe35P0',\n",
       "  'content': '미국 라스베이거스에서 열리는 세계 최대 전자 전시회 CES 2024 현장에서도 지속가능성을 위한 삼성의 노력을 보여주었습니다. AI 시대를 맞이해 다양',\n",
       "  'score': 0.5837973},\n",
       " {'title': '밖에서 먼저 새나…중국산 수준 전락한 초일류 삼성 해외 소비자 평가',\n",
       "  'url': 'https://www.ledesk.co.kr/view.php?uid=11454',\n",
       "  'content': '삼성전자에 대한 고객 서비스 평점은 최근 들어 급격하게 떨어진 것으로 파악됐다. 과거만 하더라도 삼성전자 고객 서비스 평점은 경쟁사에 비해',\n",
       "  'score': 0.8810534},\n",
       " {'title': \"삼성전자서비스, '2021년 고객 서비스 CS달인' 선정\",\n",
       "  'url': 'https://www.samsungsvc.co.kr/intro/news/3023646',\n",
       "  'content': '안녕하세요 고객님,\\n\\n안녕하세요 고객님!\\n\\n로그인 하시면 보다 편리하게  \\n서비스를 이용하실 수 있습니다.\\n\\n무엇을 도와드릴까요?\\n\\n**궁금하신 내용을 검색해주세요.**\\n\\n# 삼성전자서비스, \\'2021년 고객 서비스 CS달인\\' 선정\\n\\n#### 삼삼성전자서비스, \\'2021년 고객 서비스 CS 달인\\' 선정\\n\\n◇ 기술력과 서비스 마인드 겸비한 CS 전문가 육성으로 고품질 서비스 제공\\n\\n◇ 5,800명의 AS 엔지니어 중 18명 엄선, 고객 평가 상위 0.3% 최우수 인력\\xa0\\n\\n◇ 한 해 평균 3,800명의 고객에게 서비스 제공 후 만점에 가까운 평가 받아\\n\\n삼성전자서비스가 지난해 고객에게 가장 좋은 평가를 받은 AS 엔지니어 18명을 \\'2021년 CS(Customer Satisfaction) 달인\\'으로 선정했다. [...] 특히, 코로나로 휴대폰과 가전이 더욱 중요해진 상황에서 고객에게 사전에 연락하여 제품의 상태를 확인하고 부품을 미리 확보해 원스톱 서비스 제공하기 서비스 제공 후 다른 문제는 없는지 사후 확인하기 신청 제품 외 다른 제품 추가 점검해 주기 등 섬세한 고객 관리와 부단한 노력이 CS 달인 선정의 바탕이 됐다.\\n\\n삼성전자서비스 운영팀장 박성민 상무는 \"기업의 대고객 서비스를 중시하는 소비자 트렌드로 엔지니어의 기술력과 고객 대응 역량이 더욱 중요해지고 있다\"라며 \"CS 달인 선발로 고객에게 고품질의 서비스가 제공되도록 하겠다\"고 시행 취지를 설명했다.\\n\\n실제로 CS 달인 제도 도입 후 \\'삼성전자 제품과 서비스에 대한 고객의 만족도\\'도 높아지고 있다. 한국능률협회에 위탁해 실시한 \\'2021년 고객 만족도 조사\\'에서 \\'수리 엔지니어의 우수한 서비스 때문에 삼성전자 제품을 다시 구입하고 싶다\\'는 고객이 전년 대비 약 4% 증가한 것이다. [...] CS 달인은 고객 만족도 조사에서 최고의 평가를 받은 AS 엔지니어를 선발하는 제도로 2019년 도입됐다. 서비스를 직접 체험한 고객의 평가를 바탕으로 CS 달인을 선정하기 때문에 의미가 크다.\\n\\n\\'2021년 CS 달인\\'은 AS 엔지니어 5,800여 명 중 기술력이 우수한 상위 30%를 1차 선별하고 이 중 고객 만족도 점수가 가장 높은 0.3%(18명)를 최종 선정했다.\\n\\n제품별로 휴대폰 7명, 가전 9명, B2B(기업 대상 서비스) 2명이다. 가전 담당 9명 중에는 가전 전문세척 및 관리 서비스인 삼성케어플러스를 담당하는 케어마스터도 1명 선발됐다.\\n\\nCS 달인 수상자들은 지난해 평균 3,800여 명의 고객에게 서비스를 제공해 만점에 가까운 평가를 받았다. 이는 제품 고장으로 불편을 겪는 고객의 마음까지 케어하는 차별화된 서비스를 제공했기에 가능했다.',\n",
       "  'score': 0.7872945},\n",
       " {'title': '삼성전자, 美 JD파워 생활가전 고객 만족도 평가서 최다 1위 - 연합뉴스',\n",
       "  'url': 'https://www.yna.co.kr/view/AKR20240719024800003',\n",
       "  'content': \"삼성전자[005930]는 18일(현지시간) 미국 시장조사기관 JD파워가 발표한 '2024 생활가전 소비자 만족도 평가'에서 최다 품목 1위를 차지하며 '최고의 주방\",\n",
       "  'score': 0.7722049},\n",
       " {'title': '삼성전자서비스, 콜센터 품질 3년 연속 최고 평가 - Daum',\n",
       "  'url': 'https://v.daum.net/v/20250526172902297?f=p',\n",
       "  'content': '특히 컨택센터 상담 시스템은 인공지능(AI)를 적용해 고객 상담에 소요되는 시간을 단축하고 상담 내용의 정확도를 높여 긍정적인 평가를 받았다. 삼성',\n",
       "  'score': 0.756376},\n",
       " {'title': \"삼성전자서비스, '2025 한국산업의 서비스품질지수' 콜센터 부문 석권\",\n",
       "  'url': 'https://news.samsung.com/kr/%EC%82%BC%EC%84%B1%EC%A0%84%EC%9E%90%EC%84%9C%EB%B9%84%EC%8A%A4-2025-%ED%95%9C%EA%B5%AD%EC%82%B0%EC%97%85%EC%9D%98-%EC%84%9C%EB%B9%84%EC%8A%A4%ED%92%88%EC%A7%88%EC%A7%80%EC%88%98-%EC%BD%9C',\n",
       "  'content': '삼성전자서비스는 △전화 연결 신속성 △상담 처리 정확성 △적극적 상담 태도 등에서 높은 점수를 받으며 가전제품 서비스업계 최초이자 유일하게 3년 연속',\n",
       "  'score': 0.75421005},\n",
       " {'title': '끊임없는 혁신으로 성장하는 삼성전자의 실적 동향 - 알쓸다잡 블로그',\n",
       "  'url': 'https://sheeppi.com/35',\n",
       "  'content': '삼성전자는 미래를 위해 기술 혁신과 산업 변화에 대한 대응을 준비하고 있습니다. 인공지능, 빅데이터, 사물인터넷 등 다양한 기술의 발전에 주도적으로',\n",
       "  'score': 0.6651719},\n",
       " {'title': '삼성전자 전망: 미래 기술 혁신과 글로벌 시장 경쟁력 분석 - saemogood',\n",
       "  'url': 'https://saemogood.tistory.com/178',\n",
       "  'content': '삼성전자는 기술 혁신에 대한 투자와 개발을 멈추지 않고 있습니다. 특히 5G와 AI 기술은 삼성전자의 제품 및 서비스에 큰 영향을 미치고 있으며, 이는',\n",
       "  'score': 0.6512002},\n",
       " {'title': '삼성전자의 최신 기술 및 제품 혁신 현황 분석 - Goover',\n",
       "  'url': 'https://seo.goover.ai/report/202407/go-public-report-ko-e957620e-42ad-433c-b50a-c24a90a6d052-0-0.html',\n",
       "  'content': \"ê°¤ë\\x9f\\xadì\\x8b\\x9c ì\\x8b\\x9cë¦¬ì¦\\x88ë\\x8a\\x94 ì\\x82¼ì\\x84±ì\\xa0\\x84ì\\x9e\\x90ê°\\x80 ìµ\\x9cê·¼ ì\\x84\\xa0ë³´ì\\x9d¸ í\\x8f´ë\\x8d\\x94ë¸\\x94 ì\\xa0\\x9cí\\x92\\x88ì\\x9d¸ ê°¤ë\\x9f\\xadì\\x8b\\x9c Z í\\x8f´ë\\x93\\x9c6ì\\x99\\x80 ê°¤ë\\x9f\\xadì\\x8b\\x9c Z í\\x94\\x8cë¦½6ë¥¼ í\\x8f¬í\\x95¨í\\x95\\x98ë©°, ì\\x9d¸ê³µì§\\x80ë\\x8a¥(AI)ê³¼ ì\\x83\\x88ë¡\\x9cì\\x9a´ í\\x8f¼í\\x8c©í\\x84°ë¡\\x9c í\\x98\\x81ì\\x8b\\xa0ì\\x9d\\x84 ì\\x9d´ë£¨ë©´ì\\x84\\x9c ê¸\\x80ë¡\\x9cë²\\x8c ì\\x86\\x8cë¹\\x84ì\\x9e\\x90ë\\x93¤ë¡\\x9cë¶\\x80í\\x84° í\\x98¸í\\x8f\\x89ë°\\x9bê³\\xa0 ì\\x9e\\x88ì\\x8aµë\\x8b\\x88ë\\x8b¤. ì\\x9d´ì\\x97\\x90 ë\\x94°ë\\x9d¼ ì\\xa0\\x84ì\\x9e\\x91 ë\\x8c\\x80ë¹\\x84 40% ì¦\\x9dê°\\x80í\\x95\\x9c ì\\x82¬ì\\xa0\\x84 í\\x8c\\x90ë§¤ë\\x9f\\x89ì\\x9d\\x84 ê¸°ë¡\\x9dí\\x96\\x88ì\\x9c¼ë©°, í\\x8a¹í\\x9e\\x88 ì\\x9d¸ë\\x8f\\x84 ì\\x8b\\x9cì\\x9e¥ì\\x97\\x90ì\\x84\\x9c ë\\x86\\x92ì\\x9d\\x80 í\\x8c\\x90ë§¤ë\\x9f\\x89ì\\x9d\\x84 ë³´ì\\x9d´ê³\\xa0 ì\\x9e\\x88ì\\x8aµë\\x8b\\x88ë\\x8b¤. ë\\x98\\x90í\\x95\\x9c, ì\\x82¼ì\\x84±ì\\xa0\\x84ì\\x9e\\x90ê°\\x80 ì\\x83\\x88ë¡\\xadê²\\x8c ì\\x84\\xa0ë³´ì\\x9d¸ ì\\x9b¨ì\\x96´ë\\x9f¬ë¸\\x94 ê¸°ê¸°ì\\x9d¸ ê°¤ë\\x9f\\xadì\\x8b\\x9c ë§\\x81ì\\x9d\\x80 [...] ë¦¬í\\x8f¬í\\x8a¸ë\\x8a\\x94 ì\\x82¼ì\\x84±ì\\xa0\\x84ì\\x9e\\x90ì\\x9d\\x98 ë\\x8b¤ì\\x96\\x91í\\x95\\x9c ê¸°ì\\x88\\xa0ì\\xa0\\x81 ë°\\x9cì\\xa0\\x84ê³¼ ì\\x8b\\xa0ì\\xa0\\x9cí\\x92\\x88 ì¶\\x9cì\\x8b\\x9cê°\\x80 ê¸°ì\\x97\\x85ì\\x9d\\x98 ê²½ì\\x9f\\x81ë\\xa0¥ì\\x9d\\x84 ê°\\x95í\\x99\\x94í\\x95\\x98ê³\\xa0 ì\\x9e\\x88ì\\x9d\\x8cì\\x9d\\x84 ë³´ì\\x97¬ì¤\\x8dë\\x8b\\x88ë\\x8b¤. ì\\x82¼ì\\x84±ì\\xa0\\x84ì\\x9e\\x90ì\\x9d\\x98 AI ë¹\\x84ì\\x84\\x9c 'ë¹\\x85ì\\x8a¤ë¹\\x84'ì\\x99\\x80 í\\x81´ë\\x9d¼ì\\x9a°ë\\x93\\x9c ê¸°ë°\\x98 êµ¬ê¸\\x80 ì\\x96´ì\\x8b\\x9cì\\x8a¤í\\x84´í\\x8a¸ë¥¼ í\\x86µí\\x95\\x9c AI ê¸°ì\\x88\\xa0 í\\x98\\x91ë\\xa0¥ì\\x9d\\x80 ì\\x82¬ì\\x9a©ì\\x9e\\x90 ê²½í\\x97\\x98ì\\x9d\\x84 í\\x98\\x81ì\\x8b\\xa0í\\x95\\x98ê³\\xa0 ì\\x9e\\x88ì\\x8aµë\\x8b\\x88ë\\x8b¤. ì\\x8b\\xa0ì\\xa0\\x9cí\\x92\\x88 ì¶\\x9cì\\x8b\\x9cë¡\\x9cë\\x8a\\x94 ê°¤ë\\x9f\\xadì\\x8b\\x9c Z í\\x8f´ë\\x93\\x9c6, ê°¤ë\\x9f\\xadì\\x8b\\x9c ë§\\x81 ë\\x93±ì\\x9d\\x98 ì\\xa0\\x9cí\\x92\\x88ì\\x9d´ ì\\x8b\\x9cì\\x9e¥ì\\x97\\x90ì\\x84\\x9c ê¸\\x8dì\\xa0\\x95ì\\xa0\\x81ì\\x9d¸ ë°\\x98ì\\x9d\\x91ì\\x9d\\x84 ì\\x96»ê³\\xa0 ì\\x9e\\x88ì\\x9c¼ë©°, ë°\\x98ë\\x8f\\x84ì²´ ë¶\\x80ë¬¸ì\\x97\\x90ì\\x84\\x9cë\\x8a\\x94 HBMê³¼ CXL ê¸°ì\\x88\\xa0ì\\x9d\\x98 ë°\\x9cì\\xa0\\x84ì\\x9d´ [...] 2024ë\\x85\\x84 2ë¶\\x84ê¸° ë\\x8f\\x99ì\\x95\\x88 ì\\x82¼ì\\x84±ì\\xa0\\x84ì\\x9e\\x90ë\\x8a\\x94 ë§¤ì¶\\x9c 74ì¡° ì\\x9b\\x90, ì\\x98\\x81ì\\x97\\x85ì\\x9d´ì\\x9dµ 10ì¡° 4000ì\\x96µ ì\\x9b\\x90ì\\x9d\\x84 ê¸°ë¡\\x9dí\\x95\\x98ë©° 7ê°\\x9c ë¶\\x84ê¸° ë§\\x8cì\\x97\\x90 ì\\x98\\x81ì\\x97\\x85ì\\x9d´ì\\x9dµ 10ì¡° ì\\x9b\\x90ë\\x8c\\x80ë¥¼ í\\x9a\\x8cë³µí\\x96\\x88ì\\x8aµë\\x8b\\x88ë\\x8b¤. ì\\x9d´ë\\x8a\\x94 ì\\xa0\\x84ë\\x85\\x84 ë\\x8f\\x99ê¸° ë\\x8c\\x80ë¹\\x84 1,452.24% ì¦\\x9dê°\\x80í\\x95\\x9c ì\\x88\\x98ì¹\\x98ë¡\\x9c, ì£¼ë\\x90\\x9c ì\\x9b\\x90ì\\x9d¸ì\\x9c¼ë¡\\x9cë\\x8a\\x94 ë©\\x94ëª¨ë¦¬ ë°\\x98ë\\x8f\\x84ì²´ ê°\\x80ê²© ì\\x83\\x81ì\\x8a¹, ì\\x97\\x94ë¹\\x84ë\\x94\\x94ì\\x95\\x84í\\x96¥ HBM ì\\x88\\x98ì£¼, ê·¸ë¦¬ê³\\xa0 ê°\\x95ë\\x8b¬ë\\x9f¬ í\\x9a¨ê³¼ ë\\x93±ì\\x9d´ ì\\x9e\\x88ì\\x8aµë\\x8b\\x88ë\\x8b¤. ë©\\x94ëª¨ë¦¬ ë°\\x98ë\\x8f\\x84ì²´ì\\x9d\\x98 ê°\\x80ê²©ì\\x9d\\x80 Dë\\x9e¨ê³¼ ë\\x82¸ë\\x93\\x9cí\\x94\\x8cë\\x9e\\x98ì\\x8b\\x9cê°\\x80 ê°\\x81ê°\\x81 13~15%, 14~18% ì\\x83\\x81ì\\x8a¹í\\x96\\x88ì\\x9c¼ë©°, HBM ì\\x88\\x98ì£¼ë¡\\x9c ì\\x9d¸í\\x95´ ì\\x88\\x98ì\\x9dµì\\x84±ë\\x8f\\x84\",\n",
       "  'score': 0.6453216},\n",
       " {'title': \"삼성전자, 'Home AI' 경험과 혁신 확장해 미래 AI 혁신 선도\",\n",
       "  'url': 'https://news.samsung.com/kr/%EC%82%BC%EC%84%B1%EC%A0%84%EC%9E%90-home-ai-%EA%B2%BD%ED%97%98%EA%B3%BC-%ED%98%81%EC%8B%A0-%ED%99%95%EC%9E%A5%ED%95%B4-%EB%AF%B8%EB%9E%98-ai-%ED%98%81%EC%8B%A0-%EC%84%A0%EB%8F%84',\n",
       "  'content': \"**더 나은 사회와 미래 세대를 위한 기술 혁신으로 미래 선도**\\n\\n![삼성전자 ESG 전략그룹 정인희 상무가 6일(현지시간) 진행된 'CES 2025 삼성 프레스 콘퍼런스' 행사에서 사회에 기여하는 삼성전자의 혁신 기술에 대해 발표하고 있다. ](https://img.kr.news.samsung.com/kr/wp-content/uploads/2025/01/%EC%82%BC%EC%84%B1%EC%A0%84%EC%9E%90-%EA%B8%B0%EC%97%85%EB%89%B4%EC%8A%A4-CES-2025-Home-AI-13.jpg)\\n\\n▲ 삼성전자 ESG 전략그룹 정인희 상무가 6일(현지시간) 진행된 ‘CES 2025 삼성 프레스 콘퍼런스’ 행사에서 사회에 기여하는 삼성전자의 혁신 기술에 대해 발표하고 있다.\",\n",
       "  'score': 0.60610276},\n",
       " {'title': '삼성 \"모바일 AI 사용자, 일반인보다 삶의 질 1.4배 더 높게 평가\" - 뉴시스',\n",
       "  'url': 'https://www.newsis.com/view/NISX20240711_0002807505',\n",
       "  'content': '![](https://img1.newsis.com/2025/06/04/NISI20250604_0020840164_web.jpg?rnd=20250604153801)\\n![](https://img1.newsis.com/h_www/theme/2025/06/04/N20250604_0000000671.jpg?rnd=20250604101033)\\n![](https://img1.newsis.com/2025/06/04/NISI20250604_0020839608_web.jpg?rnd=20250604135323)\\n![](https://img1.newsis.com/2025/06/04/NISI20250604_0020839593_web.jpg?rnd=20250604135301)\\n![](https://img1.newsis.com/2025/06/04/NISI20250604_0020839282_web.jpg?rnd=20250604100901) [...] ![](https://img1.newsis.com/h_www/advertise/2010/10/29/AD_20101029_28581_1719553227.jpg)\\n![](https://img1.newsis.com/h_www/advertise/2016/11/13/AD_20161113_000356_1479016452.jpg)\\n![](https://img1.newsis.com/h_www/advertise/2016/11/13/AD_20161113_000356_1492654493.jpg)\\n![](https://img1.newsis.com/h_www/advertise/2016/11/13/AD_20161113_000356_1479016530.jpg)\\n![](https://img1.newsis.com/h_www/advertise/2016/11/07/AD_20161107_000322_1735868088.jpg) [...] ![](https://img1.newsis.com/2025/06/04/NISI20250604_0001858988_web.jpg?rnd=20250604003437)\\n![](https://img1.newsis.com/2025/06/04/NISI20250604_0020838644_web.jpg?rnd=20250604015518)\\n![](https://img1.newsis.com/2025/06/04/NISI20250604_0020838695_web.jpg?rnd=20250604023909)\\n![](https://img1.newsis.com/2025/06/04/NISI20250604_0020838574_web.jpg?rnd=20250604002747)\\n![](https://img1.newsis.com/2025/06/04/NISI20250604_0020838590_web.jpg?rnd=20250604013107)',\n",
       "  'score': 0.7476348},\n",
       " {'title': 'AI 혁신: 삼성전자의 미래 포석 - Goover',\n",
       "  'url': 'https://seo.goover.ai/report/202411/go-public-report-ko-5d2e8470-8d59-4ea9-bd35-adc9d2457258-0-0.html',\n",
       "  'content': '2024ë\\x85\\x84 í\\x95\\x9cêµ\\xad ì£¼ì\\x8b\\x9dì\\x8b\\x9cì\\x9e¥ì\\x9d\\x80 ì\\xa0\\x84ë°\\x98ì\\xa0\\x81ì\\x9c¼ë¡\\x9c ì\\x95½ì\\x84¸ë¥¼ ë³´ì\\x98\\x80ì\\x8aµë\\x8b\\x88ë\\x8b¤. ì½\\x94ì\\x8a¤í\\x94¼ ì§\\x80ì\\x88\\x98ë\\x8a\\x94 ì§\\x80ë\\x82\\x9cí\\x95´ ë§\\x90 ì¢\\x85ê°\\x80ì\\x9d¸ 2655.28ì\\x9d\\x84 ë°\\x91ë\\x8f\\x84ë\\x8a\\x94 2580.8ë¡\\x9c ì\\x9e¥ì\\x9d\\x84 ë§\\x88ì³\\x90 ì\\x97°ì¤\\x91 ì\\x88\\x98ì\\x9dµë¥\\xa0ì\\x9d\\x80 -2.8%ë¥¼ ê¸°ë¡\\x9dí\\x95\\x98ì\\x98\\x80ì\\x8aµë\\x8b\\x88ë\\x8b¤. ì\\x9d´ë\\x8a\\x94 í\\x83\\x9cêµ\\xadì\\x9d\\x98 SET ì§\\x80ì\\x88\\x98(-3.7%), ì¤\\x91êµ\\xad ì\\x83\\x81í\\x95\\x98ì\\x9d´ ì¢\\x85í\\x95©ì§\\x80ì\\x88\\x98(-6.4%), ì\\x84\\xa0ì\\xa0\\x84 ì¢\\x85í\\x95©ì§\\x80ì\\x88\\x98(-13.6%)ì\\x99\\x80 ë¹\\x84êµ\\x90í\\x95\\x98ì\\x97¬ ì\\x83\\x81ë\\x8c\\x80ì\\xa0\\x81ì\\x9c¼ë¡\\x9c ë\\x82®ì\\x9d\\x80 ì\\x84±ê³¼ì\\x9e\\x85ë\\x8b\\x88ë\\x8b¤. ì½\\x94ì\\x8a¤ë\\x8b¥ ì§\\x80ì\\x88\\x98ë\\x8a\\x94 ì§\\x80ë\\x82\\x9cí\\x95´ ë§\\x90 ì¢\\x85ê°\\x80ì\\x9d¸ 866.57ë³´ë\\x8b¤ 731.75ë¡\\x9c ë§\\x88ê°\\x90í\\x95\\x98ì\\x97¬ ì\\x97°ì¤\\x91 ì\\x88\\x98ì\\x9dµë¥\\xa0ì\\x9d´ -15.6%ì\\x97\\x90 ë\\x8b¬í\\x96\\x88ì\\x8aµë\\x8b\\x88ë\\x8b¤. [...] ì\\x82¼ì\\x84±ì\\xa0\\x84ì\\x9e\\x90ê°\\x80 ë\\x85¸í\\x82¤ì\\x95\\x84ì\\x9d\\x98 ë\\x84¤í\\x8a¸ì\\x9b\\x8cí\\x81¬ ì\\x82¬ì\\x97\\x85ë¶\\x80ë¥¼ ì\\x9d¸ì\\x88\\x98í\\x95\\x98ê²\\x8c ë\\x90\\x98ë©´, ê¸\\x80ë¡\\x9cë²\\x8c í\\x86µì\\x8b\\xa0ì\\x9e¥ë¹\\x84 ì\\x8b\\x9cì\\x9e¥ì\\x97\\x90ì\\x84\\x9c í\\x99\\x94ì\\x9b¨ì\\x9d´ì\\x97\\x90 ì\\x9d´ì\\x96´ 2ì\\x9c\\x84ë¡\\x9c ë\\x8f\\x84ì\\x95½í\\x95\\x98ê²\\x8c ë\\x90©ë\\x8b\\x88ë\\x8b¤. ì\\x9d´ë\\x8a\\x94 í\\x98\\x84ì\\x9e¬ ì\\x8b\\x9cì\\x9e¥ ì\\xa0\\x90ì\\x9c\\xa0ì\\x9c¨ì\\x9d´ 19.5%ì\\x9d¸ ë\\x85¸í\\x82¤ì\\x95\\x84ì\\x9d\\x98 ì\\x82¬ì\\x97\\x85ë¶\\x80ê°\\x80 ì\\x82¼ì\\x84±ì\\xa0\\x84ì\\x9e\\x90ì\\x9d\\x98 ë\\x84¤í\\x8a¸ì\\x9b\\x8cí\\x81¬ ì\\x82¬ì\\x97\\x85ë¶\\x80ì\\x97\\x90 í\\x86µí\\x95©ë\\x90\\x98ë©´ì\\x84\\x9c ì\\x9d´ë£¨ì\\x96´ì§\\x88 ì\\x88\\x98 ì\\x9e\\x88ì\\x8aµë\\x8b\\x88ë\\x8b¤. ë\\x85¸í\\x82¤ì\\x95\\x84ë\\x8a\\x94 ìµ\\x9cê·¼ í\\x86µì\\x8b\\xa0ì\\x82¬ë\\x93¤ì\\x9d\\x98 ì\\x8b\\xa0ê·\\x9c ì\\x9e¥ë¹\\x84 ë\\x8f\\x84ì\\x9e\\x85 ì§\\x80ì\\x97° ë°\\x8f í\\x99\\x94ì\\x9b¨ì\\x9d´ì\\x9d\\x98 ì\\xa0\\x90ì\\x9c\\xa0ì\\x9c¨ í\\x99\\x95ë\\x8c\\x80ë\\x9d¼ë\\x8a\\x94 ì\\x96´ë\\xa0¤ì\\x9b\\x80ì\\x97\\x90 ì§\\x81ë©´í\\x95\\x98ì\\x97¬ ì\\x9e\\x88ì\\x9c¼ë©°, ì\\x82¼ì\\x84±ì\\xa0\\x84ì\\x9e\\x90ì\\x9d\\x98 ì\\x9d¸ì\\x88\\x98ê°\\x80 [...] ì\\x82¼ì\\x84±ì\\xa0\\x84ì\\x9e\\x90ë\\x8a\\x94 2024ë\\x85\\x84 ì\\x83\\x81ë°\\x98ê¸°ì\\x97\\x90 ì\\x97°êµ¬ê°\\x9cë°\\x9c(R&D) ë¹\\x84ì\\x9a©ì\\x9c¼ë¡\\x9c ì´\\x9d 15ì¡° 8,695ì\\x96µì\\x9b\\x90ì\\x9d\\x84 ì§\\x80ì¶\\x9cí\\x96\\x88ì\\x8aµë\\x8b\\x88ë\\x8b¤. ì\\x9d´ë\\x8a\\x94 ì§\\x80ë\\x82\\x9cí\\x95´ ì\\x83\\x81ë°\\x98ê¸° 13ì¡° 7,779ì\\x96µì\\x9b\\x90ì\\x97\\x90 ë¹\\x84í\\x95´ ì\\x95½ 15% ì¦\\x9dê°\\x80í\\x95\\x9c ì\\x88\\x98ì¹\\x98ì\\x9e\\x85ë\\x8b\\x88ë\\x8b¤. ì\\x82¼ì\\x84±ì\\xa0\\x84ì\\x9e\\x90ë\\x8a\\x94 ì\\x9d´ë\\x9f¬í\\x95\\x9c R&D í\\x88¬ì\\x9e\\x90ì\\x9d\\x98 ì\\x9d¼í\\x99\\x98ì\\x9c¼ë¡\\x9c ë\\x8b¤ì\\x96\\x91í\\x95\\x9c ì\\xa0\\x9cí\\x92\\x88ì\\x9d\\x84 ì¶\\x9cì\\x8b\\x9cí\\x96\\x88ì\\x9c¼ë©°, ì£¼ë¡\\x9c ê°¤ë\\x9f\\xadì\\x8b\\x9c S24 ì\\x8b\\x9cë¦¬ì¦\\x88, ì´\\x88ì\\xa0\\x88ì\\xa0\\x84 ë¹\\x84ì\\x8a¤í\\x8f¬í\\x81¬ AI í\\x95\\x98ì\\x9d´ë¸\\x8cë¦¬ë\\x93\\x9c ë\\x83\\x89ì\\x9e¥ê³\\xa0, ë¹\\x84ì\\x8a¤í\\x8f¬í\\x81¬ AI ì½¤í\\x8f¬ ì\\x84¸í\\x83\\x81ê±´ì¡°ê¸°, ë¹\\x84ì\\x8a¤í\\x8f¬í\\x81¬ AI ì\\x8a¤í\\x8c\\x80 ë¡\\x9cë´\\x87ì²\\xadì\\x86\\x8cê¸° ë\\x93±ì\\x9d\\x98 ì\\x8b\\xa0ì\\xa0\\x9cí\\x92\\x88ì\\x9d´ í\\x8f¬í\\x95¨ë\\x90©ë\\x8b\\x88ë\\x8b¤.',\n",
       "  'score': 0.7230167},\n",
       " {'title': '[Behind the CHIP] AI와 반도체: 인공지능 시대를 여는 핵심 기술',\n",
       "  'url': 'https://news.samsungsemiconductor.com/kr/behind-the-chip-ai%EC%99%80-%EB%B0%98%EB%8F%84%EC%B2%B4-%EC%9D%B8%EA%B3%B5%EC%A7%80%EB%8A%A5-%EC%8B%9C%EB%8C%80%EB%A5%BC-%EC%97%AC%EB%8A%94-%ED%95%B5%EC%8B%AC-%EA%B8%B0%EC%88%A0/',\n",
       "  'content': '![](https://news.samsungsemiconductor.com/kr/wp-content/uploads/2024/09/ㅇㅇ3-20240909.jpg)\\n\\nAI 반도체의 발전은 다양한 분야에서 혁신을 일으킬 것이며 특히 고성능 AI 반도체의 실시간 데이터 처리와 높은 연산 능력으로 많은 산업과 일상생활에 큰 변화를 불러올 것이다. 삼성전자 반도체의 기술력은 이러한 변화를 가속화하는 데 중요한 역할을 하고 있다.\\n\\n![](https://news.samsungsemiconductor.com/kr/wp-content/uploads/2024/09/03.png)\\n\\n**자율주행차**',\n",
       "  'score': 0.72254705},\n",
       " {'title': '생각과 삶의 연결 - 5G와 메모리 | 삼성반도체',\n",
       "  'url': 'https://semiconductor.samsung.com/kr/news-events/tech-blog/5g-from-connected-thinking-to-connected-living/',\n",
       "  'content': '5G의 실현을 위해 삼성전자는 5G가 셀 용량에 역사적인 발전을 가져오고 사용자 데이터 속도를 높여 미래의 늘어난 트래픽 요구를 충족할 것이라고 믿는다. 삼성전자는',\n",
       "  'score': 0.59457535},\n",
       " {'title': '갤럭시S10 5G 후기! 스펙 카메라 기능까지 - 네이버 블로그',\n",
       "  'url': 'https://m.blog.naver.com/yukihana96/221546727355',\n",
       "  'content': '![](https://mblogthumb-phinf.pstatic.net/MjAxOTA1MjZfMjUg/MDAxNTU4ODE0ODYyNzMw.ATFfg8JOAX4Q685K0KGnBsJ_GjvfVYE0hNwcMoB0A2Qg.sGan7l8ca2CM6Id_2aNmbDPXRTMSZUyHLIrhiu4YQE8g.JPEG.yukihana96/갤럭시S10_G5_32.jpg?type=w80_blur)\\n\\n**\\u200b**\\n\\n**생생한 영상을 즐기다!** 더 강해진 퍼포먼스로 다양한 콘텐츠를 즐기기에 좋아졌습니다. 시네마틱 디스플레이(Infinity-O Display)를 통해서 최소화된 배젤로 좀 더 몰입감 있게 영상을 볼 수 있습니다. 그리고 다이내믹 아몰레드 적용으로 전작 대비 색 영역이 36% 넓어졌고요. 장면마다 10개 이상의 동적 명암비가 적용되어 선명한 영상을 즐길 수 있었습니다. 또 망막에 유해하다는 알려진 블루 라이트 방출량도 42% 줄였다고 합니다.\\n\\n\\u200b\\n\\n\\u200b\\n\\n\\u200b [...] 삼성전자의 갤럭시 S 시리즈가 출시된지 10주년을 맞이하면서 나온 Galaxy S10 5G의 특장점을 살펴보도록 할게요. Galaxy S10 5G는 **시네마틱 디스플레이 (Infinity-O Display) 탑재**로 디스플레 아래에 센서를 내장하여 베젤의 최소화했습니다. **Dynamic AMOLED**로 실내 또는 야외에서도 밝고 선명한 콘텐츠 즐길 수 있고요. **19:9 비율**의 더 넓은 화면을 통해서 좀 더 몰입감 있게 영상을 즐길 수 있습니다. 그리고 상단은 콘텐츠 보는 영역이고요. 하단은 조작 영역으로 분류되는 **단순한 One UI**를 적용해서 좀 더 쉽고 빠르게 이용할 수 있습니다.\\n\\n\\u200b\\n\\n\\u200b\\n\\n\\u200b [...] ![](https://mblogthumb-phinf.pstatic.net/MjAxOTA1MjZfMTQx/MDAxNTU4ODE0OTk0MjQ5.yTvUxwF0hrc4IB4SldAhHNuq6LOj38Fwt85sukRX548g.TYdnAIFHiBtR2YdVIp7im3Xrmf-he3_ZGHznlkO4HkUg.JPEG.yukihana96/갤럭시_S10_5G-428.jpg?type=w80_blur)\\n![](https://mblogthumb-phinf.pstatic.net/MjAxOTA1MjZfNDgg/MDAxNTU4ODE1MDA2NTIz.pd7C_tjrtaDman_GNXB9Lw5bKOjY_XYIad53keal2yYg.eEjErLMKxgnncIhTbHdSu_gE_iERjaJd9jxkghgkcOsg.JPEG.yukihana96/갤럭시_S10_5G-0428.jpg?type=w80_blur)\\n\\n\\u200b',\n",
       "  'score': 0.5855047},\n",
       " {'title': '[IT큐레이션] 삼성 5G 통신장비, 날카로운 칼 벼렸다 - 이코노믹리뷰',\n",
       "  'url': 'https://www.econovill.com/news/articleView.html?idxno=537797',\n",
       "  'content': '한국이 세계 최초 5G 상용화에 돌입하며 삼성전자가 5G 통신장비 시장에서 초반 깜짝 1위를 기록한 바 있으나 달콤한 시간은 그리 오래가지 않았다.',\n",
       "  'score': 0.5582553},\n",
       " {'title': '갤럭시 A56 5G 카메라 리뷰: 다양한 기능, 사진 편집을 위한 AI 지원',\n",
       "  'url': 'https://www.vietnam.vn/ko/danh-gia-camera-galaxy-a56-5g-nhieu-tinh-nang-ho-tro-ai-chinh-sua-anh',\n",
       "  'content': '삼성 갤럭시 A56 5G는 AI Awesome Intelligence 툴킷과 통합되어 더욱 스마트하고 편리한 기능으로 사용자 경험을 최적화하는 데 도움을 줍니다. AI는 각',\n",
       "  'score': 0.54535896},\n",
       " {'title': '삼성전자 갤럭시 S24 5G 256GB [자급제] 리뷰: 실사용 경험을 바탕 ...',\n",
       "  'url': 'https://igreatdevily.tistory.com/entry/%EC%82%BC%EC%84%B1%EC%A0%84%EC%9E%90-%EA%B0%A4%EB%9F%AD%EC%8B%9C-S24-5G-256GB-%EC%9E%90%EA%B8%89%EC%A0%9C-%EB%A6%AC%EB%B7%B0-%EC%8B%A4%EC%82%AC%EC%9A%A9-%EA%B2%BD%ED%97%98%EC%9D%84-%EB%B0%94%ED%83%95%EC%9C%BC%EB%A1%9C-%ED%95%9C-%EC%86%94%EC%A7%81%ED%95%9C-%ED%8F%89%EA%B0%80',\n",
       "  'content': '갤럭시 S24는 디자인과 휴대성을 중시하는 사용자, 그리고 고성능 카메라와 AI 기능을 활용하고자 하는 사용자들에게 특히 추천하고 싶습니다. 또한, 자급',\n",
       "  'score': 0.49685127},\n",
       " {'title': '기술 혁신과 변화를 이끄는 삼성전자 반도체의 미래 전략 - 월가입성',\n",
       "  'url': 'https://streetgo.tistory.com/entry/%EA%B8%B0%EC%88%A0-%ED%98%81%EC%8B%A0%EA%B3%BC-%EB%B3%80%ED%99%94%EB%A5%BC-%EC%9D%B4%EB%81%84%EB%8A%94-%EC%82%BC%EC%84%B1%EC%A0%84%EC%9E%90-%EB%B0%98%EB%8F%84%EC%B2%B4%EC%9D%98-%EB%AF%B8%EB%9E%98-%EC%A0%84%EB%9E%B5',\n",
       "  'content': '삼성전자 반도체는 지속적인 기술 혁신과 다양한 산업 분야와의 파트너십을 통해 미래를 이끌고 있습니다. 친환경적인 기술 개발과 글로벌 시장 진출로',\n",
       "  'score': 0.7938904},\n",
       " {'title': '\"반도체 중심의 전략적 재 편\"…삼성전자, 이재용 승부수 통할까',\n",
       "  'url': 'https://www.e-focus.co.kr/news/articleView.html?idxno=2949137',\n",
       "  'content': '삼성전자는 이번 인사에서 반도체 부문 핵심 인물들의 자리를 재정비하며 기술 혁신과 시장 선도 의지를 드러냈다. 특히 메모리 반도체와 시스템 반도체',\n",
       "  'score': 0.78334314},\n",
       " {'title': '삼성전자는 반성문 썼는데…기술력 자부한 SK하이닉스 - 한국경제',\n",
       "  'url': 'https://www.hankyung.com/article/202410106558g',\n",
       "  'content': \"4년 후 이 기술을 토대로 한 1세대 HBM을 출시했지만 고성능 컴퓨팅 시장이 무르익지 않아 시장 반응은 기대 이하였다. 하지만 회사는 '최고 성능'을 목표\",\n",
       "  'score': 0.71040785},\n",
       " {'title': '\\'HBM 초격차\\' 강조한 삼성전자…시장 반응은 \"그럴 때 아냐\" [종합]',\n",
       "  'url': 'https://www.hankyung.com/article/202405021093g',\n",
       "  'content': \"삼성전자가 인공지능(AI) 시대 중요성이 커지고 있는 고대역폭메모리(HBM) 시장에서 차세대 맞춤형 HBM으로 '초격차'를 달성하겠다는 포부를 밝혔다. HBM\",\n",
       "  'score': 0.64746445},\n",
       " {'title': '[반도체 역사시리즈] 4탄, 광고를 통해 알아보는 반도체 혁신을 향한 도전!',\n",
       "  'url': 'https://news.samsungsemiconductor.com/kr/%EB%B0%98%EB%8F%84%EC%B2%B4-%EC%97%AD%EC%82%AC%EC%8B%9C%EB%A6%AC%EC%A6%88-4%ED%83%84-%EA%B4%91%EA%B3%A0%EB%A5%BC-%ED%86%B5%ED%95%B4-%EC%95%8C%EC%95%84%EB%B3%B4%EB%8A%94-%EB%B0%98%EB%8F%84%EC%B2%B4/',\n",
       "  'content': '해당 분야의 연구원들이 회사에 남아 있던 터라 회의실에 함께 모여 커피잔을 한잔 씩 앞에 두고 회의를 시작하려던 순간 시계를 보니 그것이 새벽 3시였다고 합니다. 이런 일화를 광고로 제작해 일간지에 게재했습니다. 당시는 실제로 커피잔을 반도체 웨이퍼로 볼 정도로 열정과 도전의식이 가득했던 연구원들이 세계 최초라는 목표 달성을 위해 밤낮없이 연구를 거듭하던 시기였는데요.\\n\\n해당 광고는 오래가지 못했습니다. 광고를 본 회사 담당자의 반응은 딱 이거였습니다. “너라면 이런회사 가고 싶겠니?” 열심히 일하는 연구원들의 마음을 담고 싶었지만 현실적으로는 불편한 내용이었던 거죠. 단 하루만 게재되고 사라진 광고지만 지금까지도 가장 많이 회자되는 광고 중 하나입니다. 당시 임직원들의 노고가 삼성전자 반도체를 세계 일류의 기업으로 만든 원동력이 되었다는 것을 아는 고마움 때문이겠죠?\\n\\n## 90년대\\\\_ WORLD BEST & WORLD FIRST [...] 1975년에 게재된 첫 번째 구인 광고부터 애국심 자극하는 기업 광고 그리고 2019년에 공개된 광고까지 함께 했는데요. 세계 반도체 시장에 뛰어들어 걸음마를 시작할 때부터, 우리나라 역사의 일부가 된 순간까지! 광고 변천사를 통해 삼성전자 반도체가 어떤 길을 걸어왔는지를 느낄 수 있는 시간이었습니다. 앞으로도 삼성전자 반도체의 혁신은 계속되고, 이를 통해 국민과 글로벌 고객들에게 새로운 가치를 전해줄 크리에이티브한 광고가 이어질 예정이니 꾸준한 관심과 응원 부탁 드립니다!\\n\\n## 관련태그\\n\\n![삼성전자 반도체 뉴스룸 공식배너](https://img.samsungsemiconductor.com/kr/wp-content/uploads/2023/08/뉴스룸_띠배너_800x200.png)\\n\\n## 삼성전자 반도체 소식 더 알아보기 [...] 1983년은 삼성이 64K D램 개발에 성공한 해이기도 한데요. 우리나라의 반도체 산업이 미국, 일본에 이어 세계 3위로 올라섰고, 전자제품의 정밀화 및 고급화로 국제 경쟁력을 갖춰 수출 증대에도 크게 기여하게 되었습니다. 이에 삼성반도체통신은 ‘우리나라 반도체 산업의 기수로서 최첨단 미래산업을 통하여 선진조국 창조의 일익을 담당하겠습니다’라는 글로 보국의 뜻을 강조하기도 했습니다.\\n\\n## 90년대\\\\_ 야근도 막을 수 없던 혁신을 향한 열정\\n\\n![1990야근](https://img.samsungsemiconductor.com/kr/wp-content/uploads/2021/05/history4_dslife_191025_06.jpg)\\n\\n이 광고는 실제 16M D램 개발에 매진하던 연구진들의 일화를 바탕으로 만들어졌는데요. 세계 최초 개발이라는 막중한 임무를 안고 몇 달동안 밤 새워가며 고민하던 책임연구원은 어느 날 밤 우연히 새로운 아이디어를 떠올리게 되었습니다.',\n",
       "  'score': 0.60750073},\n",
       " {'title': '친환경 기술 | 지속가능경영 | 삼성반도체 - Samsung Semiconductor',\n",
       "  'url': 'https://semiconductor.samsung.com/kr/sustainability/environment/',\n",
       "  'content': '## 삼성전자 반도체는 친환경 혁신 기술을 통해 탄소, 물, 폐기물, 오염물질 분야에서 환경 영향을 최소화하는 목표를 수립했습니다. 삼성전자 반도체는 친환경 혁신 기술을 통해 탄소, 물, 폐기물, 오염물질 분야에서 환경 영향을 최소화하는 목표를 수립했습니다. 삼성전자 반도체는 친환경 혁신 기술을 통해 탄소, 물, 폐기물, 오염물질 분야에서 환경 영향을 최소화하는 목표를 수립했습니다.\\n\\n![탄소](https://image.semiconductor.samsung.com/image/samsung/p6/semiconductor/sustainability/environment/pc-environment-f03-1.png?$ORIGIN_PNG$)\\n\\n2050년 탄소중립 달성\\n\\n2050년 탄소중립 달성\\n\\n2050년 탄소중립 달성 [...] 원료 채취부터 완제품 폐기까지 삼성전자 반도체는 모든\\xa0제조 과정에서\\xa0환경을 생각합니다.\\n\\n혁신적인 친환경\\xa0기술을 보유한\\xa0삼성전자 반도체는 어떻게 우리의 소중한\\xa0일상과 지구를\\xa0지킬까요?\\n\\n원료 채취부터 완제품 폐기까지 삼성전자 반도체는 모든\\xa0제조 과정에서\\xa0환경을 생각합니다.\\n\\n혁신적인 친환경\\xa0기술을 보유한\\xa0삼성전자 반도체는 어떻게 우리의 소중한\\xa0일상과 지구를\\xa0지킬까요?\\n\\n원료 채취부터 완제품 폐기까지 삼성전자 반도체는 모든\\xa0제조 과정에서\\xa0환경을 생각합니다.\\n\\n혁신적인 친환경\\xa0기술을 보유한\\xa0삼성전자 반도체는 어떻게 우리의 소중한\\xa0일상과 지구를\\xa0지킬까요?\\n\\n![영국 카본 트러스트의 Triple Standard 라벨](https://image.semiconductor.samsung.com/image/samsung/p6/semiconductor/sustainability/environment/Carbon_trust_standard_pc.png?$ORIGIN_PNG$) [...] ![](https://image.semiconductor.samsung.com/image/samsung/p6/semiconductor/sustainability/environment/waste_new-pc.png?$ORIGIN_PNG$)\\n\\n폐기물의 자원화\\n\\n재활용 기술 발굴 및 개발\\n\\n일회용품 사용 최소화\\n\\n2030년까지 폐기물의 재활용률 99.9%를 달성하겠습니다.  \\n삼성전자 반도체는 지속적인 기술 개발을 통해 재활용이 제한적이거나 어려운 폐기물도 재활용하기 위해 노력하고 있습니다.  \\n또한 일상 생활 속에서 일회용품 최소화와 분리수거를 적극적으로 실천함은 물론, 기술 발굴 및 개발을 통해 폐기물로부터 부가가치를 적극적으로 발굴하고 있습니다.  \\n특히 처리가 어려웠던 폐수처리 슬러지, 폐액 등을 다시 자원으로 적극 활용하는 기술을 발굴 하였습니다.  \\n향후에도 활동을 지속하는 한편 기술 발굴, 개발을 지속 확대하여 2030년까지 폐기물 재활용률 99.9%를 달성하겠습니다.',\n",
       "  'score': 0.7253574},\n",
       " {'title': '제품 설계부터 패키지까지, 삼성전자 친환경 감수성도 서프라이즈',\n",
       "  'url': 'https://blog.naver.com/thewomandonga/223752139231',\n",
       "  'content': \"2019년 말 기준 삼성전자의 친환경제품 개발 비율(환경마크 기준 부합제품)은 97%에 달한다. 올해 삼성전자는 비영리 시민단체 '녹색구매네트워크'가 주관\",\n",
       "  'score': 0.72278196},\n",
       " {'title': '갤럭시 S25 vs 아이폰 16: 2025년 플래그십 스마트폰 대결',\n",
       "  'url': 'https://m.blog.naver.com/pjw127351/223776118331?recommendCode=2&recommendTrackingCode=2',\n",
       "  'content': '![Image 5](https://mblogthumb-phinf.pstatic.net/MjAyNTAyMjdfMTk1/MDAxNzQwNjE4ODE4MDU0.TzUZ5dsjDCGGSpPHnE7KyJ9j0hg_6piEVmabQomsMDQg.MjQODdBZZrN6C2329390rvcxUgAcLt7zQnYWbKBV2GUg.PNG/%7BA2626B03-7C11-44C7-A2EA-C67F017347A4%7D.png?type=w800)\\n\\n\\u200b\\n\\n2025년, 스마트폰 시장의 양대 산맥인 삼성과 애플이 또 한 번 혁신적인 제품을 선보였습니다. 이번에는 갤럭시 S25 시리즈와 아이폰 16 시리즈가 그 주인공인데요. 두 제품의 주요 특징과 성능을 비교해보겠습니다.\\n\\n\\u200b\\n\\n**#디스플레이: 크기와 품질의 대결** [...] 갤럭시 S25와 아이폰 16은 각자의 강점을 가진 뛰어난 플래그십 스마트폰입니다. 갤럭시 S25는 다재다능한 성능과 유연한 디스플레이로, 아이폰 16은 안정적인 성능과 생태계 통합으로 사용자들의 마음을 사로잡고 있습니다. 개인의 사용 패턴과 선호도에 따라 선택이 갈릴 것으로 보입니다.\\n\\n\\u200b\\n\\n스마트폰 시장의 끊임없는 혁신은 우리의 일상을 더욱 편리하고 풍요롭게 만들어가고 있습니다. 2025년, 여러분은 어떤 스마트폰을 선택하시겠습니까?\\n\\n**\\u200b**\\n\\n\\u200b\\n\\n#갤럭시 S25 #아이폰 16 #스마트폰 비교 #삼성vs애플#플래그십 스마트폰 #2025년 스마트폰 #디스플레이 비교 #성능 비교 #카메라 비교 #배터리 비교 #생체인식 비교 #스마트폰 추천 [...] 두 기기 모두 4800만 화소의 메인 카메라를 탑재해 뛰어난 사진 품질을 제공합니다. 갤럭시 S25는 향상된 광학 줌 기능을, 아이폰 16 프로 맥스는 새로운 IMX903 센서와 5배율 망원 카메라를 제공해 각자의 강점을 보여줍니다.\\n\\n\\u200b\\n\\n**#배터리와 충전: 지속성과 편의성**\\n\\n갤럭시 S25는 4000mAh, 아이폰 16은 3556mAh의 배터리 용량을 갖추고 있습니다. 충전 속도는 25W와 27W로 비슷한 수준이지만, 무선 충전에서는 아이폰 16의 맥세이프가 25W로 더 빠른 속도를 보여줍니다.\\n\\n\\u200b\\n\\n**#기타 특징: 생체인식과 연결성**\\n\\n갤럭시 S25는 초음파 방식 지문인식을, 아이폰 16은 Face ID를 주요 생체인식 수단으로 사용합니다. 두 기기 모두 USB-C 포트를 채택했지만, 데이터 전송 속도에서는 갤럭시 S25가 우위를 보입니다.\\n\\n\\u200b\\n\\n**#결론**',\n",
       "  'score': 0.903098},\n",
       " {'title': '휴대폰 뭐사지? 삼성 vs 애플 2025 현시점 최강 스마트폰 1 ... - YouTube',\n",
       "  'url': 'https://www.youtube.com/watch?v=gizVdpyG6_k',\n",
       "  'content': '# 휴대폰 뭐사지? 삼성 vs 애플 2025 현시점 최강 스마트폰 1위는? [갤럭시, 아이폰,  S25 일반, 플러스, 울트라, 16 프로, 프로맥스, 플립6, 폴드6] 비교 추천\\n## KT마켓 \\n6770 subscribers\\n28 likes\\n\\n### Description\\n2454 views\\nPosted: 28 Feb 2025\\n*영상 속 제품들  특가구매 링크 ↓↓↓↓↓↓↓\\U0001fa75\\n\\n00:05 접이식 디자인과 강력한 성능. 갤럭시Z플립6 (5위)\\n➡ https://bit.ly/41Al7yQ\\n\\n01:47 합리적인 가격에 최신 iOS 기능. 아이폰16 기본형 (4위)\\n➡ https://bit.ly/4bx0NjC\\n\\n03:37 대형 화면과 멀티태스킹 기능. 갤럭시 Z 폴드6 (3위)\\n➡ https://bit.ly/4bsZHaj\\n\\n06:34 고급 디자인과 뛰어난 카메라 성능. 아이폰16PRO (2위)\\n➡  https://bit.ly/4bx0NjC [...] 화소 초 광과 카메라 이역 화소 관각 카메라 등 아이폰 최상의 모델은 16프로 맥스와 비교해도 차이가 큰 수준입니다 특히 디지털 줌의 경우 울트라는 100배 줌까지 지원해서 일명 달 사진 찍는 폰 콘서트 폰으로도 유명하죠 가장 큰 장점은 바로 S 펜이 내장돼 있다는 점인데요 메모 사진 촬영 등이 S 펜을 잘 활용하시는 분들은 정말 잘 쓰시거나 울트라 모델의 단점이라고 하면 어쩔 수 없는 무게 정도 그렇지만이 무게도 비슷한 사용의 프로 맥스에 비해서는 10g 정도 가벼워요 정리하자면 평소 사진 촬영을 많이 하고 S 펜을 잘 사용한다 최고급 성능에 넓은 화면까지 필요하다면 갤럭시 s25 울트라 추천드려요 자 지금까지 2025년 지금 사면 좋은 최신 프리미엄 휴대폰 탑 5를 소개해 드렸는데요이 영상 참고하셔서 용도와 취향에 맞는 제품으로 잘 구매하셨으면 좋겠어요 오늘 말씀드린이 휴대폰들은 현재 KT 마켓에서 특가 행사 중인 휴대폰들 있데요 고가의 요금제나 불필요한 부가 서비스 가입 없이 [...] Pro 추천드립니다 대망의 1위는 갤럭시 s25 울트라 있니다 가장 최근에 출시된 괴물 플래그십 삼성 스마트폰으로 256gb 기준 출고가 169 8,400원에 전반적으로 가격은 아이폰보다 갤럭시가 합리적인 편이죠 s25 울트라가 큰 인기를 끈 건 바로 심플하고 세련되진 디자인 때문인데요 전작에 비해 모서리가 둥그러진 전반적으로 플랫해서 색상 또한 질리지 않는네 가지 컬러로 출시됐죠 화면 크기는 6.9인치 파이어 스마트폰에서는 가장 큰 크기에요 그만큼 시원시원한 화면을 즐길 수 있는데요 최대밝기 역시 2600 니를 탑재해 낮시간 야외에서 사용해도 부족함 없는 수준입니다 칩셋은 퀄컴사의 가장 최신 모델인 스냅드래곤 8 엘리트를 탑재해 가장 뛰어나다고 볼 수 있어요 앞서 비교해 드린 애플 a18 프와 더불어 가장 좋다고 보면 돼요 램은 아이폰보다 4gb 큰 12gb 램을 탑재했어요 램 용량이 크면 클수록 한 번에 많은 양을 처리할 수 있고 고사양 앱까지 원활하게 사용할 수 있죠 5천만',\n",
       "  'score': 0.8315952},\n",
       " {'title': '2025년 최신 스마트폰 비교 리뷰- 갤럭시 S25 · 아이폰 17 · 픽셀 9 ...',\n",
       "  'url': 'https://itstory2.tistory.com/305',\n",
       "  'content': '### 1️⃣ 갤럭시 S25 울트라 (Samsung Galaxy S25 Ultra)\\n\\n*   **출시일**: 2025년 2월\\n*   **디스플레이**: 6.8인치 QHD+ AMOLED, 120Hz\\n*   **AP**: 퀄컴 스냅드래곤 8 Gen 4 (4nm)\\n*   **RAM/저장공간**: 12~16GB / 최대 1TB\\n*   **카메라**: 2억 화소 메인 + 50MP 망원 + 초광각 + 접사\\n*   **배터리**: 5,500mAh / 45W 고속충전\\n*   **기타 특징**: 내장 S펜, AI 사진보정, One UI 7.1\\n\\n✅ **추천 포인트**:\\n\\n👉 S펜 활용이 잦은 사용자, 사진·영상 퀄리티 중시, 멀티태스킹 많은 분\\n\\n### 2️⃣ 아이폰 17 프로 (Apple iPhone 17 Pro) [...] 2025년 최신 스마트폰 비교 리뷰- 갤럭시 S25 · 아이폰 17 · 픽셀 9 시리즈, 뭐가 다를까?\\n---------------------------------------------------------\\n\\n잇스텔러 2025. 4. 25. 13:28\\n\\n반응형\\n\\n![Image 1](https://blog.kakaocdn.net/dn/qLuSC/btsNzz0OqtQ/LO15RsFWKW9T1uSoRxeXZ1/img.png)\\n2025년에도 스마트폰 시장은 뜨겁습니다.\\n\\n삼성의 **갤럭시 S25 울트라**, 애플의 **아이폰 17 프로**, 구글의 **픽셀 9 프로**까지\\n\\n각 브랜드의 플래그십 모델들이 상반기에 속속 출시되면서 소비자들의 선택 폭도 넓어졌습니다.\\n\\n이번 리뷰에서는 이 세 제품을 기준으로\\n\\n✅ 성능 비교\\n\\n✅ 디자인과 특징\\n\\n✅ 카메라와 배터리\\n\\n✅ 사용자 타입별 추천 포인트까지\\n\\n꼼꼼히 비교해드릴게요!',\n",
       "  'score': 0.826278},\n",
       " {'title': '애플 vs 삼성: 2025년 스마트폰 혁신 경쟁, 누가 앞설까?',\n",
       "  'url': 'https://lifecheatkey-coollife.tistory.com/entry/%EC%95%A0%ED%94%8C-vs-%EC%82%BC%EC%84%B1-2025%EB%85%84-%EC%8A%A4%EB%A7%88%ED%8A%B8%ED%8F%B0-%ED%98%81%EC%8B%A0-%EA%B2%BD%EC%9F%81-%EB%88%84%EA%B0%80-%EC%95%9E%EC%84%A4%EA%B9%8C',\n",
       "  'content': '2025년에는 인공지능(AI), 폴더블 디스플레이, 배터리 기술, 카메라 혁신 등이 주요 경쟁 요소로 자리 잡을 것으로 예상됩니다. 애플과 삼성은 글로벌',\n",
       "  'score': 0.79484755},\n",
       " {'title': \"'100달러 미만 가성비폰'이 시장 이끈다···카운터포인트, 2025년 1분기 ...\",\n",
       "  'url': 'https://www.cio.com/article/4001397/100%EB%8B%AC%EB%9F%AC-%EB%AF%B8%EB%A7%8C-%EA%B0%80%EC%84%B1%EB%B9%84%ED%8F%B0%EC%9D%B4-%EC%8B%9C%EC%9E%A5-%EC%9D%B4%EB%81%88%EB%8B%A4%C2%B7%C2%B7%C2%B7%EC%B9%B4%EC%9A%B4%ED%84%B0.html',\n",
       "  'content': '2025년 1분기 전 세계 스마트폰 판매량 상위 10위 안에 애플은 5개, 삼성은 4개 모델이 이름을 올렸다. 애플과 삼성이 아닌 제품으로는 샤오미의 레드미',\n",
       "  'score': 0.7876867},\n",
       " {'title': '혼수 가전 투어 후기 (삼성 & LG 비교) - 클리앙',\n",
       "  'url': 'https://www.clien.net/service/board/use/15926570',\n",
       "  'content': '전체적으로 비슷하게 견적 했을때, 제품가격만 보면 삼성보다 LG가 200-250 정도 비싼 것 같습니다. 게다가 주는 사은품의 느낌도 추가한다면 250-300정도',\n",
       "  'score': 0.80771893},\n",
       " {'title': '신혼집 살림살이 장만 | LG가전 vs 삼성가전 비교 - 네이버 블로그',\n",
       "  'url': 'https://m.blog.naver.com/seain57/223137396436',\n",
       "  'content': '![](https://mblogthumb-phinf.pstatic.net/MjAyMzA2MjBfMjEx/MDAxNjg3MjI5NjEyMjEy.bxe3Uu-bCP-IgZ5MlriW1iCdQwTcO-3fN97sOrFqYN8g.Kb8fadTWztvK7Xu2omn0YK0JyZFQz7AihfXnZul1JXIg.JPEG.seain57/IMG_6977.jpg?type=w80_blur)\\n![](https://mblogthumb-phinf.pstatic.net/MjAyMzA2MjBfMjY2/MDAxNjg3MjI5NjE3MTc2.0AHNW_tX3vzJfGwp6yfMaQfHWocs4axvvIGrfuyGwDQg.fZkJ3YZdl7FOUfPz04wzFLKBI411JAZ5iQGPxLD3o6Mg.JPEG.seain57/IMG_6978.jpg?type=w80_blur)\\n\\n가격은 훨씬 많이 나가지만\\n\\n노크온+디자인+기능 면에서\\n\\n좀 더 매력적이었습니다\\n\\n\\u200b [...] ![](https://ssl.pstatic.net/static/blog/sp_blog72.png)\\n![](https://ssl.pstatic.net/static/blog/sp_blog_se3_6.png)\\n\\n# [블로그](/Recommendation.naver)\\n\\n## [카테고리 이동](#) [놀고 먹는 삶](/PostList.naver?blogId=seain57)\\n\\n![](https://mblogthumb-phinf.pstatic.net/MjAyMzA2MjBfMTM5/MDAxNjg3MjI5NjYxMzAy.6VZj7R9OpTGY2muoRXaHHa6GsF5DvDwn30PyrwIVs3Yg.HvnrgVZx5mB5ezznnKaCZs23J1rKPoW1eUuVdUaJ80Mg.JPEG.seain57/IMG_6976.jpg?type=w800)\\n\\n신혼집 살림살이 장만 | LG가전 vs 삼성가전 비교 [...] ![](https://mblogthumb-phinf.pstatic.net/MjAyMzA2MjBfMTkx/MDAxNjg3MjI5NjA4Njc0.Th7sMOcNn4AYC6uR88ZvMMRNLmbd1jz9oyw0JKwWtZog.tXKKPSM2sSguN8otYYhH725RiditPYH7O23tarouo5wg.JPEG.seain57/IMG_6979.jpg?type=w80_blur)\\n![](https://mblogthumb-phinf.pstatic.net/MjAyMzA2MjBfMTgw/MDAxNjg3MjI5NjA4NjA1.muwoLxnenhQJDSVhfibdXsv4iSy8_x2M9djn0_FZ3yAg.eXOBWu3OZUpiEHQgpdjO8jnD1QQWWwhzXCQFXuz5h7Ug.JPEG.seain57/IMG_6980.jpg?type=w80_blur)',\n",
       "  'score': 0.7613083},\n",
       " {'title': '왜 오브제는 비스포크보다 가격이 비쌀까? - 노써치',\n",
       "  'url': 'https://nosearch.com/contents/encyclopedia/kitchen/refrigerator/308',\n",
       "  'content': \"가전매장에 가서 삼성제품과 LG제품을 비교해보면 가격 차이가 꽤 많이 납니다. 비슷한 사양인 것 같은데 보통 LG제품이 10만원 이상 비싼 편인데요. '가전은 역시 LG\",\n",
       "  'score': 0.75049835},\n",
       " {'title': '신혼가전 최저가 견적 받기 (LG 삼성 가전제품 비교하고 내돈내산 후기)',\n",
       "  'url': 'https://m.blog.naver.com/xyhh105/223080283323',\n",
       "  'content': '**그냥 디자인이 예뻐서 사고 싶었다.**\\n\\n그리고 패키지 할인이라는 \"이벤트\"에 혹해서\\n\\n구매할 뻔~ 했지만, 다시 정신을 차리고\\n\\n**우리가 필요했던 제품만**\\n\\n**LG전자에서 구매하기로 결정!**\\n\\nLG 가전은 OEM 제품보다는\\n\\n국내생산위주라고 하는 부분도 더 믿음이 갔다.\\n\\n\\u200b\\n\\n거의 매일 사용해아하는 물건들이고\\n\\n가전은 한 번 구입하면\\n\\n최소 5년은 사용하게 될 제품들이니,\\n\\n기능적인 부분을 주로 보면서\\n\\n외관도 마음에 드는 것들로 골랐다.\\n\\n#LG가전 #가전견적\\n\\n\\u200b\\n\\n\\u200b\\n\\n\\u200b\\n\\n우리가 구매한 품목\\n\\n**4도어 냉장고**\\n\\n**스탠드형 에어컨**\\n\\n**벽걸이형 에어컨**\\n\\n**세탁기**\\n\\n**건조기**\\n\\n**청소기**\\n\\n\\u200b\\n\\n\\u200b\\n\\nLG전자 공홈에서도 이벤트가 진행 중이거나\\n\\n할인이 들어간 제품들이 있었다.\\n\\n**그래서 공홈에서 할인율을 비교해 보고,**\\n\\n**인터넷에 나와있는 최저가를 같이 비교 해보면서**\\n\\n더 저렴한 곳에서 주문을 하기로 했다! [...] ![](https://ssl.pstatic.net/static/blog/sp_blog72.png)\\n![](https://ssl.pstatic.net/static/blog/sp_blog_se3_6.png)\\n\\n# [블로그](/Recommendation.naver)\\n\\n## [카테고리 이동](#) [홍이메이](/PostList.naver?blogId=xyhh105)\\n\\n신혼가전 최저가 견적 받기 (LG 삼성 가전제품 비교하고 내돈내산 후기)\\n\\n![프로필](https://blogpfthumb-phinf.pstatic.net/20230821_121/xyhh105_1692605880020T58bo_PNG/profileImage.png?type=s1)\\n\\n2023. 4. 20. 18:00\\n\\n\\u200b\\n\\n\\u200b\\n\\n![](https://storep-phinf.pstatic.net/ogq_5bf4de2aeaf34/original_12.png?type=p100_100)\\n\\n\\u200b\\n\\n\\u200b\\n\\n이사를 하면서 가전제품과 가구를 [...] ![](https://mblogthumb-phinf.pstatic.net/MjAyMzAyMTBfMyAg/MDAxNjc2MDE2OTg3OTk4.bob0juzbgwPS2tK5v-x7AqPCLjq6pCSTmTfxiURxZeYg.BGlxrV48J26ntiPrxrLqOkX-x4nBbwwbgrQTzZVCUygg.JPEG.xyhh105/IMG_6445.jpg?type=w80_blur)\\n![](https://mblogthumb-phinf.pstatic.net/MjAyMzAyMTBfMjk0/MDAxNjc2MDE2OTg4NTc2.tSg8KepTr8LmtXWavckJba4ATTFXAS_3gbnYeOeZzHMg.-lCUy2LmvZfdBBpGUjEDo4jYFuRRYZciy_vMZK4PzvEg.JPEG.xyhh105/IMG_6458.jpg?type=w80_blur)\\n\\n\\u200b\\n\\n\\u200b\\n\\n뒤돌아 정신차리고 다시 생각해보니\\n\\n내가 굳이 필요없는 상품들이\\n\\n너무 많이 끼워 팔기되어 있다고 생각되었고!',\n",
       "  'score': 0.73846215},\n",
       " {'title': '냉장고 추천 : LG, 삼성 브랜드별 TOP 6 리뷰&비교 (2025년) - 노써치',\n",
       "  'url': 'https://nosearch.com/recommendation/pick/kitchen/refrigerator',\n",
       "  'content': '대중적으로 가장 많은 선택을 받는 4도어 냉장고는 LG와 삼성으로 양분되어 있습니다. 비슷해진 냉각 성능으로 인해 두 브랜드는 부가 기능으로 경쟁하고 있는데요.  \\n  \\n24년 들어서는 LG는 직수관을 연결해 물 보충 없이도 자동으로 얼음을 만드는 STEM 직수형 라인으로 차별화를 이루고 있는 것이 대표적입니다.  \\n  \\n그 외 노크하면 내부가 보이는 노크온, 마음대로 패널의 색상을 바꿀 수 있는 무드업, 최대 4가지 얼음을 만들 수 있는 다양한 아이스메이커 등의 기능도 특징입니다.  \\n  \\n그러나 기능의 수와 판매 중인 모델의 수가 너무 많기도 하고, 어떤 기능이 중요한 지, 시간이 없는 일반 소비자 입장에서는 파악하기가 어렵습니다.  \\n  \\n그래서 노써치가 24년 하반기 기준 출시된 LG 전체 모델을 모두 비교 분석해서 제품을 선정했습니다.\\n\\n더보기\\n\\n🏆 공정하게 추천합니다!',\n",
       "  'score': 0.7373288},\n",
       " {'title': '삼성 스마트폰 경고음... 세계 최초 경쟁서 화웨이에 뒤져 - 디일렉',\n",
       "  'url': 'https://www.thelec.kr/news/articleView.html?idxno=30115',\n",
       "  'content': '시장조사업체마다 의견이 갈리지만, 삼성전자의 폴더블 스마트폰 시장 주도권이 위태롭다. 트렌드포스는 2025년 화웨이가 글로벌 폴더블폰 시장 1위를 가',\n",
       "  'score': 0.77405477},\n",
       " {'title': '삼성과 화웨이가 경쟁자라고?…“우리는 손잡은 사이” - 디지털데일리',\n",
       "  'url': 'https://m.ddaily.co.kr/page/view/2019092314491528667',\n",
       "  'content': '멍샤오윈 CEO는 “삼성과의 협력은 경쟁보다 크다”며 “반도체를 포함해 한국 5G 시장에서 삼성전자와 경쟁을 원하지 않는다”고 말했다.',\n",
       "  'score': 0.6342494},\n",
       " {'title': \"美, 대중 반도체 수출 3차 제재…'경쟁' 예고한 中 화웨이, 견딜까\",\n",
       "  'url': 'https://www.epochtimes.kr/2024/12/695633.html',\n",
       "  'content': '화웨이는 내년 1분기부터 미국의 글로벌 빅테크인 ‘엔비디아’를 상대로 새로운 ‘AI칩’을 양산할 계획이다. 지난달 29일 상하이 푸둥신구 화웨이 연구개발(R&D) 센터를 방문한 외교부 기자단과 만난 화웨이 관계자는 “밖에서 획득 못 한다면 국내에서 조달할 수밖에 없다”면서 미국을 비롯해 선진국들과의 첨단 기술 경쟁 레이스가 끝나지 않았음을 피력했다.\\n\\n일각에서는 화웨이가 자체 기술로 완성 기계(스마트폰)를 만들어내자 미국의 제재에도 불구하고 화웨이가 첨단 반도체 생산 능력을 갖춘 것 아니냐는 목소리도 나오지만, 전문가들 사이에선 의견이 엇갈린다. [...] 로이터는 “이 밖에도 미국이 이번 제재를 통해 중국 반도체 장비 제조업체인 파이오테크와 시캐리어 등에 타격을 줄 것”이라고 전망하기도 했다. 아울러 이번 제재에는 고대역폭메모리(HBM) 등 AI 반도체에 쓰이는 메모리 수출 제한도 포함돼 삼성전자·SK하이닉스 등 한국 기업도 영향을 받을 것으로 예상하고 있다고 전했다.\\n\\n이 속에서 중국 전자기업 화웨이는 지난 9월 세계 최초 두 번 접히는 폴더블폰인 ‘메이트XT’를 출시하며 글로벌 시장의 이목을 집중시켰다. 2일 업계에 따르면, 화웨이가 최근 선보인 ‘메이트XT’는 대부분 부품이 자국인 중국산인 것으로 알려졌다. [...] 화웨이는 2019년까지만 해도 국내 삼성디스플레이와 대만 TSMC, 미국 구글 등 외국 기업의 핵심 부품을 활용해 완성 기계를 만들었다. 더욱이 5년 전 당시엔 미국 정부가 화웨이를 수출 제한 기업으로 지정해 미국 기업들의 기술과 장비, 인력을 공급받을 수 없도록 제한했다. 국가안보를 위협한다는 이유에서다. 미 정치권은 오래전부터 중국의 ‘지식 도둑질’과 ‘기술 탈취’를 미국의 경제성장과 국제 위상을 갉아먹는 불공정 행위로 지목했으며 미 행정부는 이미 자국 첨단기술 및 인재의 중국 유입을 막기 위해 여러 정책 수단을 동원해 왔다.',\n",
       "  'score': 0.5550741},\n",
       " {'title': '“삼성전자 또 큰일났다, 중국마저 가성비 아닌 프리미엄”…스마트폰 ...',\n",
       "  'url': 'https://www.mk.co.kr/news/business/11160787',\n",
       "  'content': '특히 가성비(가격 대비 성능)을 앞세웠던 중국 스마트폰 제조사까지 프리미엄 경쟁에 뛰어들면서 글로벌 AI 경쟁이 한층 더 치열해질 전망이다. 6일',\n",
       "  'score': 0.49494705},\n",
       " {'title': \"삼성폰, '화웨이·LG 이슈' 반사이익 없었다 - 네이트 뉴스\",\n",
       "  'url': 'https://news.nate.com/view/20211222n18449?mid=n0000',\n",
       "  'content': '삼성전자는 유럽과 미주에서도 두 회사의 빈자리를 차지하지 못했다. 유럽에선 화웨이의 점유율이 작년 7월 8%에서 올해 7월 1%로 감소했는데, 이 기간',\n",
       "  'score': 0.43323857},\n",
       " {'title': '2025년 OLED TV 시장 전망: LG·삼성·소니 주요 신제품, 기술 트렌드 ...',\n",
       "  'url': 'https://tilnote.io/pages/682d549db1620287202fb595',\n",
       "  'content': '2025년형 OLED TV 모델별 상세 비교 및 추천. 2025년형 ... 삼성 TV는 주로 HDR10+를, LG와 소니 TV는 Dolby Vision을 지원하는 경향이 있습니다 .',\n",
       "  'score': 0.8616433},\n",
       " {'title': \"TV Lineup: What's New In 2025 - RTINGS.com\",\n",
       "  'url': 'https://www.rtings.com/tv/learn/2025-lineup',\n",
       "  'content': 'Sony really seem to have painted themselves into a corner from last years ‘easy’ naming scheme.\\n    \\n    ReplyCopy link\\n    \\n4.  2\\n    \\n    1\\n    \\n    0\\n    \\n    2\\n    \\n    \\\\-1\\n    \\n    [DarkBlood 12](https://www.rtings.com/profiles/DarkBlood)\\xa0•\\xa0Posted 3 months ago\\n    \\n    Still a Samsung TV S90C (2023) + Samsung Soundbar Q990D (2024) will be the best gaming experience in 2025, and probably up to year 2027 too.\\n    \\n    ReplyCopy link\\n    \\n5.  3\\n    \\n    2\\n    \\n    1\\n    \\n    2\\n    \\n    0 [...] X90L/X90CL](https://www.rtings.com/tv/reviews/sony/x90l-x90cl) [Sony A95L OLED](https://www.rtings.com/tv/reviews/sony/a95l-oled) [TCL QM8/QM851G QLED](https://www.rtings.com/tv/reviews/tcl/qm8-qm851g-qled) [Samsung S95D OLED](https://www.rtings.com/tv/reviews/samsung/s95d-oled) [Samsung QN85D](https://www.rtings.com/tv/reviews/samsung/qn85d-qn85dd-qled) [TCL Q6/Q651G QLED](https://www.rtings.com/tv/reviews/tcl/q6-q651g-qled) [Sony BRAVIA 3](https://www.rtings.com/tv/reviews/sony/bravia-3) [...] 4.  [Samsung](https://www.rtings.com/tv/learn/2025-lineup#samsung)\\n    5.  [Sony](https://www.rtings.com/tv/learn/2025-lineup#sony)\\n    6.  [TCL](https://www.rtings.com/tv/learn/2025-lineup#tcl)\\n5.  [Frequently Asked Questions (FAQs)](https://www.rtings.com/tv/learn/2025-lineup#frequently-asked-questions-faqs)\\n    1.  [When do new TVs come out?](https://www.rtings.com/tv/learn/2025-lineup#when-do-new-tvs-come-out)',\n",
       "  'score': 0.78473216},\n",
       " {'title': 'Top 5 Smart TVs [2025] | Samsung vs Sony vs LG - YouTube',\n",
       "  'url': 'https://www.youtube.com/watch?v=nZKjiHa1I7Y',\n",
       "  'content': \"Top 5 Smart TVs [2025] | Samsung vs Sony vs LG At number five, the Hisense U8N proves that you don't need to break the bank to get a premium\",\n",
       "  'score': 0.7159213},\n",
       " {'title': \"Best TVs of 2025 [LG vs Sony vs Samsung – Who's #1?] - YouTube\",\n",
       "  'url': 'https://www.youtube.com/watch?v=rLrcshoOpog',\n",
       "  'content': 'TVs of 2025 saving you time and money. ▻ 6. TCL QM7 QLED TV - https ... TV - https://geni.us/FumRC0 ▻ 3. Sony Bravia 8 OLED TV - https://geni',\n",
       "  'score': 0.6737291},\n",
       " {'title': '2025 최고의 TV LG G4 OLED vs. 삼성 S90D/S90DD OLED - Reddit',\n",
       "  'url': 'https://www.reddit.com/r/hometheater/comments/1ih5qdr/2025_best_tv_lg_g4_oled_vs_samsung_s90ds90dd_oled/?tl=ko',\n",
       "  'content': '삼성은 색 영역이 더 넓어서 색상이 더 생생하고 사실감 있게 보인다. 밝은 색상도 더 잘 표현되며 색상의 볼륨을 더 잘 처리해서 거의 밴딩이 없는데,',\n",
       "  'score': 0.64826655},\n",
       " {'title': '\"중국에 다 내어줄 판\"…다급해진 삼성 \\'특단의 대책\\' [김채연의 IT공세]',\n",
       "  'url': 'https://www.hankyung.com/article/202408105257i',\n",
       "  'content': '지난해 2분기와 비교해보면 삼성의 점유율이 0.3%하락한 반면 샤오미는 3.9% 늘어났다. 중남미 시장에서도 비슷한 양상이다. 시장조사업체 캐날리스에',\n",
       "  'score': 0.9092728},\n",
       " {'title': \"삼성전자 '카피캣' 조롱받던 샤오미, 전기차 성과로 이제 '러브콜' 대상으로\",\n",
       "  'url': 'https://www.businesspost.co.kr/BP?command=article_view&num=388834',\n",
       "  'content': '조사업체 카날리스에 따르면 지난해 샤오미의 글로벌 스마트폰 시장 점유율은 14%로 삼성전자와 애플에 이어 3위를 기록했다. 이를 바탕으로 추진한',\n",
       "  'score': 0.8849276},\n",
       " {'title': \"일본서 삼성전자 잡은 샤오미, '삼성 안방' 노리다 - 더스쿠프\",\n",
       "  'url': 'https://www.thescoop.co.kr/news/articleView.html?idxno=303049',\n",
       "  'content': '지난 6월 5일 카운터포인트는 1분기 샤오미의 점유율이 전년 동기(11.0%) 대비 3.0%포인트 상승한 14.0%를 기록했다고 밝혔습니다. 삼성전자(20.0%)나',\n",
       "  'score': 0.86632514},\n",
       " {'title': '나란히 한국 시장 출격…삼성 vs 샤오미 최신 폰 대결 - 에너지경제신문',\n",
       "  'url': 'https://m.ekn.kr/view.php?key=20250125029179477',\n",
       "  'content': '샤오미의 국내 시장 점유율은 약 1% 미만으로 집계됐다. 업계 관계자는 “국내 스마트폰 시장에서 삼성전자의 입지는 독보적\"이라면서도 “저렴한 가격과',\n",
       "  'score': 0.86441374},\n",
       " {'title': 'K-Phone, 수난시대, \"애플·샤오미 출사표\"… \"갤럭시S25 \\'상반기 삼성 ...',\n",
       "  'url': 'https://blog.naver.com/irasu2/223738332372',\n",
       "  'content': '시장조사업체 카운터포인트에 따르면, 2022년 2분기 삼성전자와 애플의 국내 시장점유율은 각각 77.0%, 21.0%로 삼성전자가 56.0%포인트 더 높았다. \\u200b.',\n",
       "  'score': 0.86136365},\n",
       " {'title': '삼성전자, 2025년 1분기 실적 발표',\n",
       "  'url': 'https://news.samsung.com/kr/%EC%82%BC%EC%84%B1%EC%A0%84%EC%9E%90-2025%EB%85%84-1%EB%B6%84%EA%B8%B0-%EC%8B%A4%EC%A0%81-%EB%B0%9C%ED%91%9C',\n",
       "  'content': '**메모리**는 AI 서버용 수요 대응을 위해 HBM3E 12단 개선 제품 및 128GB 이상 고용량 DDR5(Double Data Rate 5) 판매를 확대할 예정이다. 또 업계를 선도하는 10.7Gbps LPDDR5x(Low Power Double Data Rate 5x) 등을 통해 온디바이스 AI 트렌드에도 적극 대응할 계획이다.\\n\\n**시스템LSI**는 고객사의 플래그십 라인업에 SoC 공급을 확대하고 고화소 이미지센서 수요에 적극 대응할 방침이다.\\n\\n**파운드리**는 2나노 2세대 공정의 고객사 수주에 집중해 미래 성장 기반 마련에 주력할 계획이다.\\n\\n**DX 부문**\\n\\n**MX**는 하반기 출시될 폴더블 신제품 판매를 확대하고 AI 기능을 제품에 최적화해 더욱 차별화된 사용 경험을 제공할 예정이다. 또 태블릿 및 웨어러블 프리미엄 제품 판매를 확대하고 XR(eXtended Reality) 헤드셋 등 소비자 니즈에 맞춘 새로운 제품도 준비할 계획이다. [...] **MX**는 2분기 비수기에 진입하면서 스마트폰 수요가 전분기 대비 감소할 것으로 전망된다. 그러나 갤럭시 S25 엣지 등 플래그십 중심으로 판매를 확대할 계획이다.\\n\\n**VD**는 신규 AI 기능과 라인업을 대폭 강화한 2025년 AI TV 신모델을 글로벌 출시하고 프리미엄 전략 제품 중심으로 판매를 확대할 방침이다.\\n\\n**생활가전**은 비스포크 AI 신제품을 중심으로 판매를 늘리고 에어컨 성수기 판매 대응으로 매출 성장을 추진할 계획이다.\\n\\n**하만**\\n\\n**하만**은 포터블 오디오, 헤드셋 등 소비자 오디오 제품 판매를 확대해 전년 대비 매출 증대를 추진할 계획이다.\\n\\n**SDC**\\n\\n**디스플레이**는 중소형의 경우 주요 대외 불확실성으로 실적은 다소 보수적으로 전망되지만 폴더블 등 신제품 공급을 안정적으로 추진할 예정이다. 대형은 초고주사율 모니터 신제품 출시 등 게이밍 수요에 대응할 계획이다.\\n\\n**\\\\[하반기 전망\\\\]**\\n\\n**DS 부문** [...] **DS(Device Solutions)부문 매출 25.1조원, 영업이익 1.1조원**\\n\\n**메모리**는 서버용 D램 판매가 확대되고 낸드 가격이 저점에 도달했다는 인식으로 인해 추가적인 구매 수요가 있었다. 그러나 반도체 수출 통제 등의 영향으로 HBM(High Bandwidth Memory) 판매는 감소했다.\\n\\n**시스템LSI**는 주요 고객사에 플래그십 SoC(System on Chip)를 공급하지 못했지만 고화소 이미지센서 등의 공급 확대로 실적은 소폭 개선되었다.\\n\\n**파운드리**는 모바일 등 주요 응용처의 계절적 수요 약세와 고객사 재고 조정 및 가동률 정체로 실적이 부진했다.\\n\\n**DX(Device eXperience)부문 매출 51.7조원, 영업이익 4.7조원**\\n\\n**MX(Mobile eXperience)**는 갤럭시 S25 시리즈 판매 호조로 매출 및 영업이익이 성장했고 부품 가격 하락과 리소스 효율화를 통해 견조한 두 자리 수익성을 달성했다.',\n",
       "  'score': 0.7890553},\n",
       " {'title': '글로벌 소비자 “AI 가전 통해 맞춤 경험과 보안·안전 원해” - Samsung',\n",
       "  'url': 'https://www.samsung.com/sec/business/insights/news/news_250401_05/',\n",
       "  'content': '올해 비스포크 AI 식기세척기에도 빅스비가 처음 적용됐다. 또한 2025년형 패밀리허브와 세탁기·건조기 신제품은 사용자 목소리를 인식해 가족 구성원별 맞춤 정보까지 제공한다.[[1]](https://news.samsung.com/kr/%ea%b8%80%eb%a1%9c%eb%b2%8c-%ec%86%8c%eb%b9%84%ec%9e%90-ai-%ea%b0%80%ec%a0%84-%ed%86%b5%ed%95%b4-%eb%a7%9e%ec%b6%a4-%ea%b2%bd%ed%97%98%ea%b3%bc-%eb%b3%b4%ec%95%88%c2%b7%ec%95%88%ec%a0%84#_ftn1) [...] [[8]](https://news.samsung.com/kr/%ea%b8%80%eb%a1%9c%eb%b2%8c-%ec%86%8c%eb%b9%84%ec%9e%90-ai-%ea%b0%80%ec%a0%84-%ed%86%b5%ed%95%b4-%eb%a7%9e%ec%b6%a4-%ea%b2%bd%ed%97%98%ea%b3%bc-%eb%b3%b4%ec%95%88%c2%b7%ec%95%88%ec%a0%84#_ftnref8)2025년형 패밀리허브, 7형·9형 스크린 가전, 로봇청소기 [...] [[7]](https://news.samsung.com/kr/%ea%b8%80%eb%a1%9c%eb%b2%8c-%ec%86%8c%eb%b9%84%ec%9e%90-ai-%ea%b0%80%ec%a0%84-%ed%86%b5%ed%95%b4-%eb%a7%9e%ec%b6%a4-%ea%b2%bd%ed%97%98%ea%b3%bc-%eb%b3%b4%ec%95%88%c2%b7%ec%95%88%ec%a0%84#_ftnref7)2025년형 패밀리허브, 7형·9형 스크린 가전',\n",
       "  'score': 0.7445268},\n",
       " {'title': '\"진정한 AI 시대가 왔다\"…삼성전자, 2025년형 TV 신제품 출시',\n",
       "  'url': 'https://news.mt.co.kr/mtview.php?no=2025040709335158576',\n",
       "  'content': \"방식에 상관없이 돌비 애트모스, Q심포니 등 몰입감 있는 서라운드 음향을 제공한다.    기존 더 프레임에서만 지원되던 삼성 아트 스토어는 2025년형 Neo QLED와 QLED까지 확대됐다.    2025년형 Neo QLED 8K(QNF990) 모델과 올해 새롭게 선보인 '더 프레임 프로(The Frame Pro)'에는 '무선 원 커넥트 박스'가 새롭게 적용됐다.    지난해 OLED에 처음 선보였던 글레어 프리 기술도 2025년에는 더욱 확대돼 △Neo QLED 8K △Neo QLED 4K QNF95·QNF90 시리즈 △OLED SF95 시리즈에 적용됐다. 글레어 프리 기술은 햇빛이나 조명 등의 빛 반사를 줄여 눈부심을 차단해 낮에도 선명한 화면으로 감상할 수 있게 해준다.    삼성전자는 최대 7년간 'One UI 타이젠' 무상 업그레이드를 지원해 제품 구매 후에도 AI TV 기능과 서비스를 지속 경험할 수 있도록 했다. 또, 사용자가 모바일 장치에서 TV로 영화, 음악, [...] | |  | | --- | | 삼성전자가 서울 서초구 삼성강남에서 진행된 &#039;Unbox & Discover 2025&#039; 행사에서 115형 초대형 TV를 소개하고 있다. /사진제공=삼성전자 | | 삼성전자가 서울 서초구 삼성강남에서 진행된 'Unbox & Discover 2025' 행사에서 115형 초대형 TV를 소개하고 있다. /사진제공=삼성전자 |  삼성전자가 2025년형 TV 신제품을 출시하면서 진정한 AI TV의 시작을 선언했다.    삼성전자는 이날 오전 서울 서초구 삼성강남에서 신제품 출시 행사 'Unbox & Discover 2025'를 열고 △Neo QLED 8K·OLED·QLED·더 프레임 등 확대된 AI TV 라인업 △초대형 TV △이동형 스크린 '무빙스타일' △새로운 방식의 초단초점 프로젝터 '더 프리미어 5' 등의 라인업을 공개했다.       삼성전자 AI TV는 기존 TV의 역할을 넘어 사용자의 니즈와 취향, 의도를 미리 파악해 개인화된 경험을\",\n",
       "  'score': 0.72977066},\n",
       " {'title': '삼성 판매: 시장 점유율, 매출 및 통계(2025년 업데이트) - Tridens',\n",
       "  'url': 'https://tridenstechnology.com/ko/%EC%82%BC%EC%84%B1-%ED%8C%90%EB%A7%A4-%ED%86%B5%EA%B3%84/',\n",
       "  'content': '| **연도**\\xa0 | 커뮤니케이션 | 소비자 el. | 반도체 | 디스플레이 패널 |\\n| --- | --- | --- | --- | --- |\\n| 2011\\xa0 | $46.95 B | $52.29 B | $32.51 B | $25.69 B |\\n| 2012\\xa0 | $81.65 B | $42.51 B | $30.66 B | $29.01 B |\\n| 2013\\xa0 | $117.53 B | $44.24 B | $32.91 B | $26.23 B |\\n| 2014\\xa0 | $94.4 B | $44.11 B | $34.91 B | $22.61 B |\\n| 2015\\xa0 | $88.39 B | $41.23 B | $41.83 B | $24.16 B |\\n| 2016\\xa0 | $85.92 B | $41.35 B | $44.97 B | $23.68 B |\\n| 2017\\xa0 | $91.08 B | $39.52 B | $65.26 B | $30.30 B | [...] *   삼성 스마트폰:\\n    *   _갤럭시 S 시리즈:_ 플래그십 기능을 갖춘 하이엔드 스마트폰.\\n    *   _갤럭시 노트 시리즈_: 더 큰 디스플레이와 S펜 기능으로 유명합니다.\\n    *   _갤럭시 Z 시리즈(폴더형 및 플립형)_: 혁신적인 폴더블 스마트폰.\\n*   삼성 태블릿:\\n    *   _갤럭시 탭 시리즈_: 다양한 사용자 요구를 충족하는 다양한 태블릿 제품군.\\n*   삼성 웨어러블:\\n    *   _갤럭시 워치 시리즈_: 피트니스 트래킹 및 다양한 기능을 갖춘 삼성 스마트 워치.\\n    *   _갤럭시 버즈_: 고품질 오디오를 제공하는 무선 이어버드.\\n*   컴퓨팅:\\n    *   _삼성 갤럭시 북_: 생산성을 위한 다양한 구성을 제공하는 노트북.\\n    *   _크롬북_: Chrome OS에서 실행되는 경량 노트북.\\n\\n### 삼성 소비자 가전\\n\\n삼성의 포트폴리오는 광범위한 가전제품에 걸쳐 있습니다. [...] *   TV:\\n    *   _QLED TV_: 향상된 화질을 위한 퀀텀닷 기술 활용.\\xa0\\n    *   _프레임_: 사용하지 않을 때는 예술 작품으로 활용할 수 있도록 디자인된 TV.\\xa0\\n*   가전 제품:\\n    *   _냉장고_: 지능형 연결성과 에너지 효율성을 갖춘 삼성 냉장고의 혁신적인 모델입니다.\\xa0\\n    *   _세탁기_: 더 나은 사용자 경험을 위한 혁신적인 기능을 포함한 다양한 제품군.\\xa0\\n    *   _진공 청소기_: 다양한 니즈에 맞는 다양한 진공 청소기 모델.\\xa0\\n\\n### 삼성 반도체\\n\\n삼성 반도체는 미국과 한국에 여러 개의 제조 공장을 보유하고 있습니다.\\n\\n주요 생산 라인은 미국 텍사스주 오스틴과 한국 기흥에 있습니다.\\n\\n삼성의 반도체 산업 매출은 2018년에 정점을 찍었지만 그 이후 칩 수요 감소로 인해 감소했습니다.',\n",
       "  'score': 0.72559077},\n",
       " {'title': \"삼성전자, 뉴스위크 선정 '2025년 英 가장 신뢰받는 브랜드' 냉장고 1위\",\n",
       "  'url': 'http://www.srtimes.kr/news/articleView.html?idxno=171040',\n",
       "  'content': \"[SRT(에스알 타임스) 윤서연 기자]\\xa0삼성전자가 글로벌 시사 주간지인 '뉴스위크(Newsweek)'가 최근 발표한 '2025년 영국서 가장 신뢰받는 브랜드'에서 냉장고 부문 1위로 선정됐다고 11일 밝혔다.\\n\\n뉴스위크는 시장 조사기관 '브랜드스파크(BrandSpark)'와 함께 17,000여 명의 영국 소비자를 대상으로 심층 설문조사를 진행하고, 유아동 용품, 식품∙음료, 건강, 미용∙개인 관리, 가전용품 등 주요 소매 부문별 신뢰받는 브랜드를 선정했다고 설명했다.\\n\\n뉴스위크는 해당 순위가 100% 실제 구매자의 투표를 통해 선정되었다며, 브랜드 신뢰도는 품질은 물론 기업의 윤리적 가치와 합리적인 가격, 뛰어난 고객서비스를 아우른다고 덧붙였다. [...] 삼성전자는 2015년부터 영국 왕실의 냉장고 공급업체로 선정됐으며, 이후 세탁기, 식기세척기, 에어드레서 등 다양한 생활가전제품을 영국 왕실에 공급하고 있다.\\n\\n삼성전자는 올해 '비스포크 AI 패밀리허브', '비스포크 AI 하이브리드' 냉장고 등 AI 기능을 탑재한 냉장고 라인업을 통해 제품 신뢰도를 지속 높여나갈 예정이다.\\n\\n한편, 삼성전자 TV와 TV 사운드바 역시 뉴스위크가 발표한 '2025년 영국서 가장 신뢰받는 브랜드' 각각의 부문에서 1위에 올랐다.\\n\\n![SR타임스](https://cdn.srtimes.kr/image/logo/downlogo_20240411051747.png)\\n![인터넷신문위원회](https://cdn.srtimes.kr/image/dn_inc.png)\\n![ND소프트](https://cdn.srtimes.kr/image/ndsoft.svg) [...] ![SR타임스](https://cdn.srtimes.kr/image/logo/toplogo_20240411051807.png)\\n![SR타임스](https://cdn.srtimes.kr/image/logo/toplogo_20240411051807.png)\\n![SR타임스](https://cdn.srtimes.kr/image/logo/printlogo_20240411051747.png)\\n\\n# 삼성전자, 뉴스위크 선정 '2025년 英 가장 신뢰받는 브랜드' 냉장고 1위\\n\\n![▲'비스포크 AI 패밀리허브'. ⓒ삼성전자](https://cdn.srtimes.kr/news/photo/202502/171040_173044_444.jpg)\\n\\n**1만7,000여 명\\xa0영국 소비자 대상\\xa0심층 설문조사 진행 결과**\",\n",
       "  'score': 0.6445166},\n",
       " {'title': \"삼성전자, 유고브 선정 '2025년 글로벌 최고 브랜드' 1위 - 연합뉴스\",\n",
       "  'url': 'https://www.yna.co.kr/view/AKR20250131120300003',\n",
       "  'content': \"2일 업계에 따르면 글로벌 여론조사업체 유고브(YouGov)가 최근 발표한 '2025년 글로벌 최고 브랜드 순위'에서 삼성전자는 43.0점을 얻어 1위를 기록했다.\",\n",
       "  'score': 0.8593928},\n",
       " {'title': \"삼성전자, 전 세계 소비자가 뽑은 '2025년 글로벌 최고 브랜드' 1위\",\n",
       "  'url': 'http://www.whitepaper.co.kr/news/articleView.html?idxno=242626',\n",
       "  'content': \"2일 업계에 따르면 글로벌 여론조사업체 유고브(YouGov)가 최근 발표한 '2025년 글로벌 최고 브랜드 순위'에서 삼성전자는 43.0점을 얻어 1위를 차지했다.\",\n",
       "  'score': 0.8559598},\n",
       " {'title': \"삼성전자, 글로벌 28개 소비자들이 뽑은 '2025년 글로벌 최고 브랜드' 1위\",\n",
       "  'url': 'https://www.viva100.com/article/20250202500120',\n",
       "  'content': \"2일 관련 업계에 따르면 글로벌 여론조사업체 유고브(YouGov)가 최근 발표한 '2025년 글로벌 최고 브랜드 순위'에서 삼성전자는 43.0점을 얻어 1위를 기록\",\n",
       "  'score': 0.85097736},\n",
       " {'title': '삼성전자, 유고브 선정 ′2025년 글로벌 최고 브랜드′ 2년 연속 1위',\n",
       "  'url': 'https://m.yonhapnewstv.co.kr/news/AKR20250202094717054',\n",
       "  'content': \"삼성전자가 글로벌 여론조사업체 유고브(YouGov)가 최근 발표한 '2025년 글로벌 최고 브랜드 순위'에서 43.0점을 얻어 1위를 기록했습니다.\",\n",
       "  'score': 0.8452414},\n",
       " {'title': \"삼성전자, 유고브 선정 '2025년 글로벌 최고 브랜드' 1위 - 오늘경제\",\n",
       "  'url': 'https://www.startuptoday.co.kr/news/articleView.html?idxno=402023',\n",
       "  'content': \"2일 업계에 따르면 글로벌 여론조사 기관 유고브(YouGov)가 최근 발표한 '2025년 글로벌 최고 브랜드 순위'에서 삼성전자가 43.0점을 기록하며 1위를 차지\",\n",
       "  'score': 0.8449346},\n",
       " {'title': \"명실상부 최고 기업 '삼성전자', 호황 속에 위기? - 참여와혁신\",\n",
       "  'url': 'http://www.laborplus.co.kr/news/articleView.html?idxno=6729',\n",
       "  'content': '지금까지의 내용을 정리하면 삼성제품에 대한 소비자 선호도는 매우 높은 편인데, 그 이유에 대해서 들어보니 석연찮은 점이 발견됐다. 우리가 보통 어떤',\n",
       "  'score': 0.7339103},\n",
       " {'title': \"삼성전자 'AI 구독클럽' 월평균 1천억 매출…연간 1조 달성할듯 | 연합뉴스\",\n",
       "  'url': 'https://www.yna.co.kr/view/AKR20250321145100003',\n",
       "  'content': '특히 최근 AI 제품에 대한 소비자 선호도가 높아지는 상황에서 AI 기능을 가진 제품군을 중심으로 구독 서비스를 운영하는 점도 주효한 것으로 풀이된다.',\n",
       "  'score': 0.7125728},\n",
       " {'title': \"'5만전자' 빼고는 여전한 영향력…삼성전자 14년 연속 '한국서 가장 ...\",\n",
       "  'url': 'https://news.nate.com/view/20250225n11286',\n",
       "  'content': \"[스포츠서울 | 장강훈 기자] 여전히 '5만전자'로 불리지만, 제품과 서비스에 대한 소비자 만족도는 최상위다. 심지어 '가장 존경받는 기업'이라는 평가도\",\n",
       "  'score': 0.62687886},\n",
       " {'title': '스마트폰의 치열한 경쟁, 위기의 삼성, 소비자 신뢰 회복 방안은???',\n",
       "  'url': 'https://phalanx-club.tistory.com/86',\n",
       "  'content': '우리나라 국민들은 국내 브랜드인 삼성전자에 대한 충성도가 높은 편입니다. 각종 가정제품은 물론이고 스마트폰 역시 안드로이드폰의 점유율이 높은 편',\n",
       "  'score': 0.5660431},\n",
       " {'title': \"'개성있거나 새롭거나' 삼성·LG, 가전 차별화 전략 성과는? - 블로그\",\n",
       "  'url': 'https://blog.naver.com/bizwatch/223733501191',\n",
       "  'content': '향후 삼성전자는 소비자가 좀 더 쉽고 편하게 이용할 수 있는 차세대 가전제품에 집중할 것으로 예상된다. 이재용 삼성전자 부회장은 작년부터 라이프',\n",
       "  'score': 0.5366292},\n",
       " {'title': '[비즈톡톡] \"삼성 가전 어느 정도길래?\"…美 소비자 신뢰도 평가 순위는',\n",
       "  'url': 'https://news.nate.com/view/20250219n02051',\n",
       "  'content': '가전 브랜드 신뢰도 평가는 실제 제품 사용자들이 평가한 ‘소비자 만족도’와 고장률이 기준인 ‘예측 신뢰도’ 지표를 기반으로 합니다.\\n\\nAD\\n\\n![Image 3: 그래픽=정서희](https://thumbnews.nateimg.co.kr/view610///news.nateimg.co.kr/orgImg/cz/2025/02/19/cz_1739929264880_533928_1.jpg)\\n\\n그래픽=정서희\\n\\n삼성전자 가전 제품군 중 낙제점을 받은 제품은 주방 가전입니다. 실사용자 약 15만명이 참여한 식기세척기, 레인지, 양문형 냉장고, 3도어 이상 프렌치도어 냉장고, 쿡탑 부문 소비자 만족도 평가에서 삼성전자 제품은 100점 만점에 15~19점으로 최하위 점수를 받았습니다. 주방 가전 전체로 넓혀봐도 삼성 제품은 46점을 넘지 못해, 경쟁사 중 가장 뒤처졌습니다. [...] 고장이 잦으면 점수가 낮은 ‘예측 신뢰도’ 부문에서도 삼성전자 주방 가전 제품 중 절반이 50점 미만을 기록했습니다. 주요 브랜드 중 삼성전자가 최하점을 받은 식기세척기 평가에 대해 컨슈머리포트는 “회원들이 구매한 7만여대의 제품을 기반으로 평가를 진행한 결과, 비싼 식기세척기가 더 신뢰성이 높은 것은 아니다”라고 했습니다. 그러면서 “보쉬, 밀레 등의 제품은 성능 문제나 고장 발생 확률이 가장 낮은 것으로 나타났고, 소유자 만족도와 신뢰성이 가장 낮은 브랜드인 삼성 등의 제품은 세척·건조 성능 부족, 배수 문제, 식기 랙(선반) 불량 등의 문제가 가장 자주 보고됐다”고 설명했습니다.\\n\\n생활 가전은 어떨까요. 삼성 로봇청소기를 실제 사용한 소비자들의 만족도는 100점 만점에 9점에 불과했습니다. 세탁기 부문 소비자 만족도 평가에서도 삼성 제품은 20~40점대, 건조기 역시 30점대의 낮은 점수를 기록했습니다. [...] 작년 4월 미국 뉴욕에서 열린 삼성전자 비스포크 AI 미디어데이에서 방문객들이 가전 라인업을 살펴보고 있다./삼성전자 제공\\n\\n삼성전자가 소비자 600만명을 회원으로 두고 있는 미국 최대 비영리 소비자단체 컨슈머리포트의 생활·주방 가전 신뢰도 평가에서 경쟁사보다 낮은 순위를 기록했습니다. 컨슈머리포트는 제조사로부터 테스트용 제품을 받지 않고, 미국에서 판매되는 가전을 실사용 고객 평가와 전문가 성능 시험을 통해 검증합니다. 이런 객관적인 평가 방식으로 소비자들에게 신뢰를 얻고 있습니다.\\n\\n19일 업계에 따르면 컨슈머리포트가 최근 발표한 2024~2025년 주요 생활·주방 가전 브랜드 신뢰도 평가에서 삼성전자는 21위에 그쳤습니다. 이번 조사에서 1위는 미 세탁건조기 전문 기업 스피드퀸이 차지했습니다. 이어 LG전자가 2위에 올랐고, 미 가전기업 월풀은 12위, 중국 가전기업 하이얼이 인수한 GE 가전은 13위, 독일 보쉬는 15위를 기록했습니다.',\n",
       "  'score': 0.7230167},\n",
       " {'title': \"삼성전자 가전, 美 JD파워 '생활가전 고객 만족도 평가'서 최다 1위\",\n",
       "  'url': 'https://m.enuri.com/knowcom/detail.jsp?kbno=3590587&bbsname=news',\n",
       "  'content': '![](https://storage.enuri.info/pic_upload/knowbox_rss/202407/aHR0cDovL3d3dy50ZWNoaG9saWMuY28ua3IvbmV3cy9waG90by8yMDI0MDcvMjEzMzA2XzE3Nzg5OV8yMDEwLmpwZw==)\\n\\n\\n[테크홀릭] 삼성전자가 미국 시장조사기관 ‘JD파워(JD Power)’에서 18일(현지시간) 발표한 ‘2024 생활가전 소비자 만족도 평가’에서 최다 품목 1위를 차지하며, ‘최고의 주방ㆍ세탁가전 브랜드(Most awarded Brand for Kitchen and Laundry Appliances)’로 선정됐다고 19일 밝혔다.\\n\\nJD파워는 최근 1년간 제품을 구매한 1.5만여명의 소비자를 대상으로 제품의 내구성, 성능, 사용 편의성, 디자인 등 7개 항목에 대한 만족도를 조사해 브랜드별 순위를 매년 발표한다. [...] JD파워는 최근 1년간 제품을 구매한 1.5만여명의 소비자를 대상으로 제품의 내구성, 성능, 사용 편의성, 디자인 등 7개 항목에 대한 만족도를 조사해 브랜드별 순위를 매년 발표한다.\\n\\n가전은 11개 품목에 대해 조사를 실시하며, 삼성전자는 주방가전 7개 품목과 세탁가전 3개 품목 등 총 10개 품목에서 1위를 차지했다. 이는 JD파워가 조사를 실시한 가전 브랜드 가운데 최다 품목 1위로, 삼성전자는 2021년도 세운 9개 카테고리 1위 기록도 경신했다.\\n\\n주방가전 1위를 차지한 품목은 ▲프렌치도어 냉장고 ▲상냉동ㆍ하냉장 냉장고 ▲양문형 냉장고 ▲레인지 ▲쿡탑 ▲후드 일체형 전자레인지 ▲빌트인 오븐이다.\\n\\n특히 냉장고 3개 품목은 모든 7개 평가 항목에서 가장 높은 평가를 받았다. 프렌치도어 냉장고는 2년 연속 1위, 상냉동?하냉장 냉장고는 3년 연속 1위로 선정됐다. [...] 최익수 삼성전자 DA사업부 부사장은 “삼성 가전은 지난 2019년부터 국내 가전 브랜드 중 JD파워 평가 품목에서 최다 1위를 기록을 세워왔다”면서 “앞으로도 삼성만의 독보적인 기술력에 AI 기반의 혁신 기능을 다양하게 선보이며 미국 시장을 더욱 적극 공략해 나갈 것”이라고 말했다.\\n\\n#삼성전자 #JD파워 #2024 생활가전 소비자 만족도 평가 #프렌치도어 냉장고 #상냉동ㆍ하냉장 냉장고 #양문형 냉장고 #레인지 #쿡탑 #후드 일체형 전자레인지 #빌트인 오븐 #드럼세탁기 #전자동 세탁기 #건조기\\n\\nJD파워는 최근 1년간 제품을 구매한 1.5만여명의 소비자를 대상으로 제품의 내구성, 성능, 사용 편의성, 디자인 등 7개 항목에 대한 만족도를 조사해 브랜드별 순위를 매년 발표한다.',\n",
       "  'score': 0.7001783},\n",
       " {'title': '19.07.27. 가성비(價性比, cost-effectiveness)에 대한 아침 단상!!!',\n",
       "  'url': 'https://m.blog.naver.com/joonsamjeon/221596877517',\n",
       "  'content': '브랜드 PC(특히 [삼성 노트북](https://namu.wiki/w/%EC%82%BC%EC%84%B1%20%EB%85%B8%ED%8A%B8%EB%B6%81) 고가형): 물론 이쪽은 OS를 포함한 각종 상용 프로그램을 끼워 주는 것이라든가, 수준 높은 A/S 등의 브랜드 PC 만의 특장점이 있기는 하지만 그래도 여전히 가성비가 좋지 못하다는 것이 다수 의견이다. 컴맹이나 대량 구입하는 기업체+관공서가 아니라면... 특히 삼성이 가격 책정 정말 못하기로 유명하다. 특히 게이밍 파트에서 정말 가격책정 못하기로 소문났다. 오딧세이 Z를 광고하면서 타 노트북 회사를 극딜했는데 같은 300만 원 가까이하는 MSi GT75VR보다 그래픽카드에 키보드도 딸리고 무게만 가벼운 거 빼고 아무 장점도 없는 정신 못 차린 가격책정을 [...] [삼성 노트북](https://namu.wiki/w/%EC%82%BC%EC%84%B1%20%EB%85%B8%ED%8A%B8%EB%B6%81): 삼성이 제일 못하는 것 중 하나로, 이해할 수 없는 가격 책정에, 가격 대비 매우 떨어지는 성능, 그리고 고가형 게이밍 노트북에서도 역시 가격 대비 두께랑 무게 빼고 경쟁사와 비교시 매우 떨어지는 스펙을 보여준다.[[7]](https://namu.wiki/w/%EA%B0%80%EA%B2%A9%20%EB%8C%80%EB%B9%84%20%EC%84%B1%EB%8A%A5#fn-7) 그나마 일반인들에겐 삼성이란 이름빨과 AS 정책으로 어필하지만, 성능 중시의 게이밍 시장에서는 허구한 날 까인다. 그래도 저가형은 그러려니 하지만, 고가형은 [LG 그램](https://namu.wiki/w/LG%20%EA%B7%B8%EB%9E%A8)보다 후달리는 스펙에 가격은 똑같이 받아쳐먹는 만행을 보여준다. [...] [[6]](https://namu.wiki/w/%EA%B0%80%EA%B2%A9%20%EB%8C%80%EB%B9%84%20%EC%84%B1%EB%8A%A5#rfn-6) 그래도 가성비와는 별개로 가볍고 내구성이 좋아 하드웨어 자체의 평가는 나름 준수하다. 디자인도 세련돠었다는 평가를 받는다.\\n\\n[[7]](https://namu.wiki/w/%EA%B0%80%EA%B2%A9%20%EB%8C%80%EB%B9%84%20%EC%84%B1%EB%8A%A5#rfn-7) 애초에 게이밍 노트북은 고성능을 추구하는 거라 무게랑 두께로 가면 알아서 성능을 희생해야만 한다.',\n",
       "  'score': 0.6768127},\n",
       " {'title': '삼성전자 BESPOKE 투트랙 마케팅 전략 2 @코지모임공간',\n",
       "  'url': 'https://m.blog.naver.com/marketingcl/222691861865',\n",
       "  'content': '| **소비자 분석** | ▶︎ 가전 구매 시 성능을 주요 고려 요소로 생각하나,  주요 가전 브랜드의 경우 성능이 상향 평준화 되었다는 인식을 갖고 있다.  ▶︎ 가전 구매 시 가격을 주요 고려 요소로 생각하나,  가격은 브랜드 결정 이후에 고려하므로 제품 선택 시 결정 요소는 아니다.  ▶︎가전 성능의 상향 평준화와 코로나의 영향으로  가전 제품이 지닌 편리성이 중요한 기준으로 대두되었다.  ▶︎ 디자인의 경우 자신의 홈 인테리어, 취향 등에 따라  제품 선택 시 주요 결정 요소로 작용하고 있었다.  ▶︎가전 브랜드 결정 시 주요 요소로 작용하는 편리성과 디자인을 바탕으로  자사와 경쟁사를 비교하였다. | | [...] 가전 제품의 구매 여정을 살펴보았다.\\u200b\\n\\n▶︎ 가전시장 소비자들은 1)삶의 질 향상, 2)가구 형태의 변화, 3)기존 제품 불만 및 고장 시에\\n\\n가전 제품에 대한 니즈가 발생한다.\\n\\n▶︎이들은 탐색 단계에서 온, 오프라인 채널 또는 지인 추천을 통해 제품을 접하고\\n\\n주로 유명한 브랜드를 중심으로 관심을 가진다.\\n\\n▶︎ 이후 비교 및 선택 과정에서 효용성, 취향, 성능, 브랜드, 가격 등의 기준을\\n\\n바탕으로 제품을 비교하고 선정한다.\\n\\n▶︎특히, 집이 개인의 정체성을 나타내는 공간으로 부각되고 스마트홈 가전 트렌드가 부상함으로써 소비자가 취향과 삶의 효용성을 높이는 가전을 선택하는 경향이 강화되었다.\\n\\n▶︎ 마지막으로 구매단계에서 소비자들은 구입을 결정한 가전을\\n\\n더 저렴한 가격으로 사기 위해 온라인에서 구매한다.\\u200b\\n\\n▶︎이를 바탕으로 도출한 소비자의 Key Needs는\\n\\n1)맞춤화 경험, 2)제품력, 3)브랜드 인지도, 4)가격합리성 이었다.\\n\\n**자사**\\n\\n**및** [...] 주요 가전 브랜드의 경우 성능이 상향 평준화 되었다는 인식을 갖고 있다.\\n\\n▶︎ 가전 구매 시 가격을 주요 고려 요소로 생각하나,\\n\\n가격은 브랜드 결정 이후에 고려하므로 제품 선택 시 결정 요소는 아니다.\\n\\n▶︎가전 성능의 상향 평준화와 코로나의 영향으로\\n\\n가전 제품이 지닌 편리성이 중요한 기준으로 대두되었다.\\n\\n▶︎ 디자인의 경우 자신의 홈 인테리어, 취향 등에 따라\\n\\n제품 선택 시 주요 결정 요소로 작용하고 있었다.\\n\\n▶︎가전 브랜드 결정 시 주요 요소로 작용하는 편리성과 디자인을 바탕으로\\n\\n자사와 경쟁사를 비교하였다.\\n\\n**자사**\\n\\n**및**\\n\\n**경쟁사 분석**\\n\\n▶︎ 비스포크와 오브제 모두 모두 편리성을 제공하는 제품 기능을 갖추고 있으나,\\n\\n자사의 경우 제품 간 높은 연동성을 차별적으로 가져, 편리성 면에서 우위에 있다.\\n\\n▶︎ 디자인의 경우 양사 디자인 전략이 서로 상이하며,\\n\\n소비자들은 취향에 따라 브랜드를 선택하기 때문에 디자인은 시장의 POP다.',\n",
       "  'score': 0.80070794},\n",
       " {'title': '삼성 생활가전, 차별화된 디지털 고객 경험 인정 받아',\n",
       "  'url': 'https://news.samsung.com/kr/%EC%82%BC%EC%84%B1-%EC%83%9D%ED%99%9C%EA%B0%80%EC%A0%84-%EC%B0%A8%EB%B3%84%ED%99%94%EB%90%9C-%EB%94%94%EC%A7%80%ED%84%B8-%EA%B3%A0%EA%B0%9D-%EA%B2%BD%ED%97%98-%EC%9D%B8%EC%A0%95-%EB%B0%9B%EC%95%84',\n",
       "  'content': '구매 전(Pre), 구매 중(At), 구매 후(Post) 단계에서의 △정보 품질(완전성∙정확성 등) △시스템 품질(신뢰성∙사용 용의성 등) △개인화 요인(공감성∙',\n",
       "  'score': 0.78749067},\n",
       " {'title': '`이제는 가전을 나답게` 삼성, 가전제품 통합 슬로건 적용 - 매일경제',\n",
       "  'url': 'https://www.mk.co.kr/news/business/9390000',\n",
       "  'content': '이강협 삼성전자 생활가전사업부 전무는 \"자신의 취향과 라이프스타일에 따라 제품 구매를 결정하는 소비자들이 빠른 속도로 증가하고 있다\"며 \"삼성전자',\n",
       "  'score': 0.7644879},\n",
       " {'title': \"프리미엄 가전, '사후서비스'가 주요 구매 요인으로 자리잡아 - 경향신문\",\n",
       "  'url': 'https://www.khan.co.kr/article/201707281004018/?utm_source=livere&utm_medium=social_share',\n",
       "  'content': '사후서비스가 프리미엄 가전 구매 요인으로 자리잡고 있다. 이에 프리미엄 가전 업계에서는 고품질 AS가 제품 선택을 결정하는 핵심 요소로 부상하고 있다는 점을 반영해 핵심부품 무상교체 등 사후서비스 강화에 열을 올리고 있다.\\n\\n이 가운데 삼성전자는 올해부터 초프리미엄 제품 QLED TV의 ‘번인(burn-in)’ 현상에 관한 10년 무상보증 프로모션 프로그램을 전 세계에 도입해 실시하기 시작했다. 번인 현상은 TV를 볼 때 장시간 같은 화면을 켜두거나 방송사 로고와 같은 동일 이미지가 한 위치에서 오랫동안 반복 노출되면 그 부분의 색상이 제대로 표현되지 않거나 화면에 얼룩이 생긴 것처럼 보이는 현상이다. [...] 이어 영국의 유력 AW 매거진 ‘트러스티드 리뷰(Trusted Reviews)’는 “10년 무상보증 프로그램 서비스는 단순한 서비스 제공만을 뜻하는 것이 아닌 삼성전자의 제품에 대한 자신감을 알 수 있다”며 “업계 변화를 선도하는 품질 보증”이라고 언급한 바 있다.\\n\\n아울러 현재가전업계의 AS가 전반적으로 향상되고 있는 추세지만 소비자는 제품 구입 전 AS목록과 그 내용을 직접 확인해야 한다. 같은 유형의 제품이라도 각 기업마다 AS 내용에 차이가 있기 때문이다. 일례로 4K 해상도, HDR(하이 다이나믹 레인지)등 프리미엄 기능이 장착된 초대형 TV의 디스플레이에 이상이 생겼을 경우 AS가 이를 적절히 지원해 주지 못하면 수백만 원의 고가 제품 자체가 한 순간에 무용지물이 될 수 있다.\\n\\n따라서 예상치 못했던 제품 이상이 출시 이후 발생하게 되면, 제조사가 AS 범위가 변경될 수 있어 제품 구입 전 소비자들은 AS사항을 꼼꼼하게 확인하는 것이 중요하다.\\n\\n댓글\\n\\n글자 크기 [...] ![‘박근혜 비선실세 정윤회 문건’ 작성자 박관천, 경호처 차장 내정](//img.khan.co.kr/ranking/c/300x200/khan/mobile/ARMajor/1188_1749038488_vObtOdybC9o0IkXO.jpg)\\n![“1·2번 싫어서” 이준석 뽑은 2030 남성의 변](//img.khan.co.kr/ranking/c/300x200/khan/mobile/ARMajor/1190_1749045672_F8h61mXKLgtBodj7.jpg)\\n![미 대선 논평에 중국 언급 이례적···트럼프 측근 \\\\\"공산주의, 한국 접수\\\\\"](//img.khan.co.kr/ranking/c/300x200/khan/mobile/ARMajor/1189_1749045724_nNuNYNVRRUTbJ9RV.jpg)\\n![](https://img.khan.co.kr/ranking/khan/mobile/ARBanner/1479_1743063227_VllEYhm2pZ91Eb6U.png)',\n",
       "  'score': 0.7559439},\n",
       " {'title': '삼성전자, 디지털고객경험지수 종합가전 1위…구매 모든 단계 만족도 ...',\n",
       "  'url': 'https://www.koreapost.co.kr/news/articleView.html?idxno=72690',\n",
       "  'content': '소비자가 디지털 채널에서 제품을 구매할 때 구매 전∙중∙후 단계에서 경험에 대한 만족도를 평가하며 △정보 품질(완전성∙정확성 등) △시스템 품질(신뢰성∙',\n",
       "  'score': 0.64182705},\n",
       " {'title': '삼성전자, 미국의 관세 부과에 따른 시장 반응과 투자 전망 분석 - Goover',\n",
       "  'url': 'https://seo.goover.ai/report/202504/go-public-report-ko-fd6939c6-e94d-46e2-8e32-d443d763d3aa-0-0.html',\n",
       "  'content': 'ë\\x8f\\x84ë\\x84\\x90ë\\x93\\x9c í\\x8a¸ë\\x9f¼í\\x94\\x84 ë¯¸êµ\\xad ë\\x8c\\x80í\\x86µë\\xa0¹ì\\x9d´ ë°\\x9cí\\x91\\x9cí\\x95\\x9c ì\\x83\\x81í\\x98¸ê´\\x80ì\\x84¸ 25%ê°\\x80 ì\\x82¼ì\\x84±ì\\xa0\\x84ì\\x9e\\x90ì\\x97\\x90 ì¤\\x91ë\\x8c\\x80í\\x95\\x9c ì\\x98\\x81í\\x96¥ì\\x9d\\x84 ë¯¸ì¹\\xa0 ê²\\x83ì\\x9c¼ë¡\\x9c ì\\x98\\x88ì\\x83\\x81ë\\x90©ë\\x8b\\x88ë\\x8b¤. ì\\x82¼ì\\x84±ì\\xa0\\x84ì\\x9e\\x90ì\\x9d\\x98 ì\\x8a¤ë§\\x88í\\x8a¸í\\x8f° ì\\x83\\x9dì\\x82°ë\\x9f\\x89 ì\\xa0\\x88ë°\\x98 ì\\x9d´ì\\x83\\x81ì\\x9d´ ë²\\xa0í\\x8a¸ë\\x82¨ì\\x97\\x90ì\\x84\\x9c ì\\x9d´ë£¨ì\\x96´ì§\\x80ê³\\xa0 ì\\x9e\\x88ì\\x9c¼ë©°, ì\\x9d´ë²\\x88 ê´\\x80ì\\x84¸ ë¶\\x80ê³¼ë¡\\x9c ì\\x9d¸í\\x95´ ì\\xa0\\x9cí\\x92\\x88 ê°\\x80ê²©ì\\x9d´ ìµ\\x9cë\\x8c\\x80 37%ê¹\\x8cì§\\x80 ì\\x83\\x81ì\\x8a¹í\\x95\\xa0 ê°\\x80ë\\x8a¥ì\\x84±ì\\x9d´ ì\\xa0\\x9cê¸°ë\\x90\\x98ê³\\xa0 ì\\x9e\\x88ì\\x8aµë\\x8b\\x88ë\\x8b¤. ì\\x9d´ë\\x8a\\x94 êµ\\xadë\\x82´ ì\\x86\\x8cë¹\\x84ì\\x9e\\x90ì\\x97\\x90ê²\\x8cë\\x8f\\x84 ì\\x98\\x81í\\x96¥ì\\x9d\\x84 ë¯¸ì¹\\xa0 ì\\x88\\x98 ì\\x9e\\x88ì\\x9c¼ë©°, ê²½ì\\x9f\\x81ì\\x82¬ì\\x9d¸ ì\\x95\\xa0í\\x94\\x8cì\\x9d\\x98 ê°\\x80ê²© ì¡°ì\\xa0\\x95ì\\x97\\x90 ë\\x94°ë¥¸ ì\\x8b\\x9cì\\x9e¥ ë³\\x80ë\\x8f\\x99ì\\x84±ë\\x8f\\x84 [...] ë°\\x98ë\\x8f\\x84ì²´ ì\\x8b\\x9cì\\x9e¥ì\\x97\\x90ì\\x84\\x9c ì\\x82¼ì\\x84±ì\\xa0\\x84ì\\x9e\\x90ì\\x9d\\x98 1ë¶\\x84ê¸° ì\\x8b¤ì\\xa0\\x81ì\\x9d´ í\\x95\\x98ë\\x9d½ì\\x84¸ì\\x9d¸ ê°\\x80ì\\x9a´ë\\x8d°, ê´\\x80ì\\x84¸ ë¶\\x80ê³¼ ë\\x93± ì\\x99¸ë¶\\x80ì\\xa0\\x81 ì\\x9a\\x94ì\\x9d¸ì\\x9c¼ë¡\\x9c ì\\x9d¸í\\x95´ ë\\x8d\\x94 í\\x81° ì\\x95\\x85ì\\x9e¬ê°\\x80 ë\\x82\\x98í\\x83\\x80ë\\x82\\xa0 ê°\\x80ë\\x8a¥ì\\x84±ì\\x9d´ í\\x81½ë\\x8b\\x88ë\\x8b¤. ì\\xa0\\x84ë¬¸ê°\\x80ë\\x93¤ì\\x9d\\x80 ì\\x98¬í\\x95´ 1ë¶\\x84ê¸° ì\\x82¼ì\\x84±ì\\xa0\\x84ì\\x9e\\x90ì\\x9d\\x98 ì\\x98\\x81ì\\x97\\x85ì\\x9d´ì\\x9dµì\\x9d´ ì\\xa0\\x84ë\\x85\\x84 ë\\x8f\\x99ê¸° ë\\x8c\\x80ë¹\\x84 22% ê°\\x90ì\\x86\\x8cí\\x95\\xa0 ê²\\x83ì\\x9d´ë\\x9d¼ê³\\xa0 ì\\xa0\\x84ë§\\x9dí\\x95\\x98ê³\\xa0 ì\\x9e\\x88ì\\x9c¼ë©°, ì\\x9d´ë\\x8a\\x94 ë°\\x98ë\\x8f\\x84ì²´ ì\\x8b\\x9cì\\x9e¥ì\\x9d\\x98 ê°\\x80ê²© í\\x95\\x98ë\\x9d½ê³¼ ì\\xa0\\x9cí\\x92\\x88 ì¶\\x9cí\\x95\\x98ë\\x9f\\x89 ê°\\x90ì\\x86\\x8cì\\x97\\x90ì\\x84\\x9c ê¸°ì\\x9d¸í\\x95©ë\\x8b\\x88ë\\x8b¤. [...] ## 2. í\\x95µì\\x8b¬ ì\\x9d¸ì\\x82¬ì\\x9d´í\\x8a¸\\n\\në¯¸êµ\\xadì\\x9d\\x98 25% ì\\x83\\x81í\\x98¸ê´\\x80ì\\x84¸ ë¶\\x80ê³¼ë¡\\x9c ì\\x9d¸í\\x95´ ì\\x82¼ì\\x84±ì\\xa0\\x84ì\\x9e\\x90ì\\x9d\\x98 ì\\x8a¤ë§\\x88í\\x8a¸í\\x8f°ê³¼ ë°\\x98ë\\x8f\\x84ì²´ ê°\\x80ê²© ì\\x83\\x81ì\\x8a¹ ê°\\x80ë\\x8a¥ì\\x84±ì\\x9d´ ì\\xa0\\x9cê¸°ë\\x90\\x98ì\\x97\\x88ì\\x9c¼ë©°, ì\\x9d´ë\\x8a\\x94 í\\x9a\\x8cì\\x82¬ì\\x9d\\x98 ì\\x88\\x98ì\\x9dµì\\x84±ì\\x97\\x90 ë¶\\x80ì\\xa0\\x95ì\\xa0\\x81 ì\\x98\\x81í\\x96¥ì\\x9d\\x84 ë¯¸ì¹\\xa0 ê²\\x83ì\\x9c¼ë¡\\x9c ì\\x98\\x88ì\\x83\\x81ë\\x90©ë\\x8b\\x88ë\\x8b¤.\\n\\nê´\\x80ì\\x84¸ ë°\\x9cí\\x91\\x9c ì\\x9d´í\\x9b\\x84 ì\\x82¼ì\\x84±ì\\xa0\\x84ì\\x9e\\x90 ì£¼ê°\\x80ë\\x8a\\x94 2.38% í\\x95\\x98ë\\x9d½í\\x95\\x98ë©° ì\\x8b\\x9cì\\x9e¥ì\\x9d\\x98 ì\\xa0\\x84ë°\\x98ì\\xa0\\x81ì\\x9d¸ ë¶\\x88ì\\x95\\x88ì\\xa0\\x95ì\\x84±ì\\x9d\\x84 ë°\\x98ì\\x98\\x81í\\x95\\x98ê³\\xa0 ì\\x9e\\x88ì\\x8aµë\\x8b\\x88ë\\x8b¤. ì\\x99¸êµ\\xadì\\x9d¸ê³¼ ê¸°ê´\\x80ì\\x9d\\x98 ë§¤ë\\x8f\\x84ì\\x84¸ê°\\x80 ì£¼ê°\\x80 ë³\\x80ë\\x8f\\x99ì\\x84±ì\\x9d\\x84 ë\\x86\\x92ì\\x9d´ê³\\xa0 ì\\x9e\\x88ì\\x8aµë\\x8b\\x88ë\\x8b¤.',\n",
       "  'score': 0.7724109},\n",
       " {'title': '세계 최대 시장 접수했다 \"역시 삼성·LG가 최고\"... 뜻밖의 반응에 \\'활짝\\'',\n",
       "  'url': 'https://econmingle.com/economy/k-home-appliances/',\n",
       "  'content': '한국 가전업체가 세계 최대 프리미엄 시장인 미국에서 또다시 경쟁력을 입증했다.\\n\\n삼성전자와 LG전자가 미국 소비자 전문 매체 컨슈머리포트의 세탁기·건조기 평가에서 주요 부문 1위를 휩쓸었다.\\n\\n컨슈머리포트는 미국에서 가장 신뢰받는 소비자 매체로, 가전제품의 성능, 가격, 전력 효율 등을 종합 평가한다.\\n\\n10일 업계에 따르면 LG전자는 드럼 세탁기·건조기 세트와 통돌이 세탁기·건조기 세트 부문에서 최고 점수를 받았다.\\n\\n![삼성](https://econmingle.com/wp-content/uploads/2025/03/가전제품-5-1024x608.jpg)\\n\\n삼성전자는 교반식 세탁기·건조기 부문에서 1위를 차지하며 강세를 보였다.\\n\\n이번 조사는 미국 유통업체에서 판매되는 약 70개의 세탁기·건조기 세트를 대상으로 진행됐다.\\n\\nLG전자의 드럼 세탁기·건조기 세트는 가장 높은 점수인 88점을 기록하며 평가 대상 제품 중 최고 성적을 거뒀다.\\n\\n## 미국 시장에서의 지속적인 성장 [...] 삼성전자와 LG전자는 미국에서 프리미엄 제품 전략을 강화하며 중국의 저가 제품과 차별화를 꾀하고 있다.\\n\\n삼성전자는 지난해 AI TV 시대를 선언하며 CES 2025에서 “비전 AI”를 공개했다. LG전자는 OLED TV 시장에서의 1위 자리를 굳히는 전략을 펼치고 있다.\\n\\n한국 기업들은 디자인 경쟁력에서도 인정받고 있다. 삼성전자와 LG전자는 최근 독일의 ‘iF 디자인 어워드 2025’에서 각각 58개와 36개의 상을 받으며 가전 디자인에서도 세계적 수준을 입증했다.\\n\\n삼성전자는 홈 AI 로봇 ‘볼리’와 소형 포터블 프로젝터 ‘보자기’로 금상을 수상했고, LG전자는 세계 최초 무선·투명 TV ‘LG 시그니처 올레드 T’로 최고 평가를 받았다.\\n\\n![삼성](https://econmingle.com/wp-content/uploads/2025/03/가전제품-2-1024x683.jpg)\\n\\n삼성전자와 LG전자는 미국에서의 성장세를 이어가기 위해 현지 생산을 강화하는 전략을 추진 중이다.',\n",
       "  'score': 0.7625837},\n",
       " {'title': '美 가전시장 휩쓴 삼성전자…매출·판매 점유율 1위 - 네이트 뉴스',\n",
       "  'url': 'https://news.nate.com/view/20240411n06610',\n",
       "  'content': '미국 시장에서도 삼성전자는 AI 기반으로 연결성을 높인 신제품과 서비스를 선보이며 미국 가전 시장의 점유율을 지속 확대한다는 계획이다. 회사는 올해',\n",
       "  'score': 0.74652773},\n",
       " {'title': \"중국산 가뿐히 제쳤다… 미국서 반응 터졌다는 의외의 '한국 가전제품'\",\n",
       "  'url': 'https://www.wikitree.co.kr/articles/1022016',\n",
       "  'content': '나머지 한 자리 역시 삼성전자 제품이 이름을 올리며, 미국 시장 내 한국 가전 브랜드의 존재감을 다시 한번 입증했다. 특히 LG 트롬 세탁기는 114종 성능',\n",
       "  'score': 0.7382357},\n",
       " {'title': '美 관세폭탄 충격파... 삼성 스마트폰, LG TV 영향은? - 조선일보',\n",
       "  'url': 'https://www.chosun.com/economy/tech_it/2025/04/03/QPW73DA2PRAZFCIS46M3EJUCWA/',\n",
       "  'content': '우선 삼성전자는 당장 가격 인상보다는 미국 내 재고로 대응할 가능성이 크다. 올해 출시된 갤럭시S25 시리즈 등 주력 제품 물량은 이미 관세 발표 전',\n",
       "  'score': 0.7265231},\n",
       " {'title': \"삼성 생활가전, 각종 유럽 소비자 매체서 '최고 평가' - 조선비즈\",\n",
       "  'url': 'https://biz.chosun.com/it-science/ict/2022/05/22/P347QE7M6ZGHLPAKGRHUMVBURQ/',\n",
       "  'content': '스웨덴과 덴마크 등 유럽 매체의 소비자 평가에서도 삼성전자 냉장고가 1위에 올랐다. 1도어 냉장 전용고는 스웨덴과 덴마크에서 40% 이상을 차지하는',\n",
       "  'score': 0.85995835},\n",
       " {'title': \"삼성전자, 유럽에서 '최고 브랜드' 연속 수상 - 이코노미21\",\n",
       "  'url': 'http://www.economy21.co.kr/news/articleView.html?idxno=1009401',\n",
       "  'content': '![이코노미21](/image/logo/toplogo_20180305043411.png)\\n![이코노미21](/image/logo/printlogo_20180305043923.png)\\n\\n[이코노미21 이상훈] 삼성전자 생활가전이 유럽 소비자 매체 평가에서 연이어 최고 브랜드로 선정됐다.\\n\\n삼성전자는 영국 최고 권위 소비자연맹지 \\'위치(Which)\\'지가 주관하는 \\'위치 어워드(Which Awards) 2022\\'에서 올해 최고 대형가전 브랜드(Large Appliance Brand of the Year)로 선정됐다.\\n\\n\\'위치\\'는 영국 소비자연맹지로 2007년부터 매년 전문가들의 평가와 소비자들의 다양한 의견을 바탕으로 자동차, IT(컴퓨터·모바일), 가전 등 총 11개 부문별로 뛰어난 제품과 서비스를 선보인 브랜드를 선정해 \\'올해 최고의 브랜드\\'를 수여한다. [...] 앞서 삼성전자는 최근 생활가전 제품(Consumer Electronics products)으로 유일하게 영국 왕실로부터 가장 권위가 높은 \\'퀸 로열 워런트(Queen Royal Warrant)\\' 인증을 받았다.\\n\\n스웨덴과 덴마크 소비자 매체 평가에서도 삼성전자 냉장고가 1위로 선정됐다.\\n\\n최고의 제품으로 선정된 삼성 냉장고(모델명 RR40M7165WW)는 1도어 냉장 전용고다. 1도어 냉장 전용고는 스웨덴과 덴마크에서 40% 이상을 차지하는 가장 대중적인 형태의 제품이다.\\n\\n스웨덴 소비자 매체 \\'라드앤론(Rad&Ron)\\'은 1도어 냉장 전용고 평가에서 47개 모델 중 삼성 냉장고에 80점을 부여하고 1위로 선정했다. 이로써 삼성 냉장고는 이 부문에서 2018년부터 5년 연속 최고의 자리에 올랐다. [...] 라드앤론은 \"내부 공간 어느 위치에서도 편차 없이 사용자가 설정한 온도를 일정하게 유지하며 다른 제품들과 비교해 온도 변화가 발생하기 쉬운 도어 상단 보관 공간까지 정온성이 뛰어나다\"고 평가했다.\\n\\n삼성 냉장고는 특히 냉장 성능, 에너지 소비 효율, 소음 등의 항목에서 우수한 점수를 받았다.\\n\\n덴마크 소비자 매체 \\'탱크(Taenk)\\' 역시 삼성 냉장고에 최고 점수인 79점을 부여하며 1위로 선정했다. 탱크는 이 제품이 거의 모든 항목에서 뛰어나다면서 특히 에너지 소비 효율과 정온 기술, 냉장 성능에 높은 점수를 줬다.\\n\\n1위에 선정된 삼성 냉장고는 ∆냉기를 유지해 식재료를 더욱 신선하게 보관해 주는 \\'메탈쿨링\\' ∆강력한 냉기로 빠르게 온도를 낮춰 주는 \\'파워 쿨\\' 등 차별화된 기술이 적용됐다.',\n",
       "  'score': 0.85538095},\n",
       " {'title': '삼성전자, 영국 등 유럽 소비자 매체 생활가전 제품 최고 평가 - 직썰',\n",
       "  'url': 'https://www.ziksir.com/news/articleView.html?idxno=25155',\n",
       "  'content': '스웨덴과 덴마크 소비자 매체 평가에서는 삼성전자 냉장고가 1위를 차지했다. 최고의 제품으로 선정된 삼성 냉장고(모델명 RR40M7165WW)는 1도어 냉장',\n",
       "  'score': 0.84858394},\n",
       " {'title': '삼성 생활가전, 유럽 소비자 매체 평가서 연이어 최고 평가 받아',\n",
       "  'url': 'https://news.samsung.com/kr/%EC%82%BC%EC%84%B1-%EC%83%9D%ED%99%9C%EA%B0%80%EC%A0%84-%EC%9C%A0%EB%9F%BD-%EC%86%8C%EB%B9%84%EC%9E%90-%EB%A7%A4%EC%B2%B4-%ED%8F%89%EA%B0%80%EC%84%9C-%EC%97%B0%EC%9D%B4%EC%96%B4-%EC%B5%9C%EA%B3%A0',\n",
       "  'content': '스웨덴과 덴마크 소비자 매체 평가에서는 삼성전자 냉장고가 1위로 선정됐다. 최고의 제품으로 선정된 삼성 냉장고(모델명 RR40M7165WW)는 1도어 냉장',\n",
       "  'score': 0.8351749},\n",
       " {'title': '삼성전자 \"생활가전, 유럽 소비자 매체 평가서 잇단 \\'최고\\' 평가받아\"',\n",
       "  'url': 'https://www.thebigdata.co.kr/view.php?ud=202205220909407731d0a8833aad_23',\n",
       "  'content': '스웨덴과 덴마크 소비자 매체 평가에서는 삼성전자 냉장고가 1위로 선정됐다. 최고의 제품으로 선정된 삼성 냉장고(모델명 RR40M7165WW)는 1도어 냉장',\n",
       "  'score': 0.8312667},\n",
       " {'title': '삼성전자, 아시아에서 브랜드 가치 1위 - 네이트 뉴스',\n",
       "  'url': 'https://news.nate.com/view/20241021n36265',\n",
       "  'content': '삼성전자의 브랜드 가치가 아시아 주요 국가에서 글로벌 기업 가운데 가장 큰 것으로 조사됐다는 결과가 나왔다. 20일 일본 니혼게이자이신문(닛케이)',\n",
       "  'score': 0.82694983},\n",
       " {'title': \"삼성전자 '아시아 브랜드 영향력' 7위…1위는 도요타 - 뉴스1\",\n",
       "  'url': 'https://www.news1.kr/industry/electronics/4832781',\n",
       "  'content': '중국 기업이 약진한 반면 아시아 지역에서 삼성전자의 영향력이 이전보다 하락했다는 평가다. 올해 6위는 일본의 혼다로 삼성전자를 제치고 지난해(8위)',\n",
       "  'score': 0.7785319},\n",
       " {'title': \"아시아 브랜드 1위는 'SAMSUNG'... 日 닛케이리서치 조사 - 조선일보\",\n",
       "  'url': 'https://www.chosun.com/international/japan/2024/10/18/GA3VIKSZSVCBFI3M5RXIXPIPX4/',\n",
       "  'content': \"삼성전자가 일본 시장조사기관이 아시아 각국을 대상으로 조사한 '브랜드 평가'에서 1위를 차지했다. 18일 니혼게이자이신문에 따르면 일본 시장조사\",\n",
       "  'score': 0.758958},\n",
       " {'title': \"삼성전자, 아시아 국가 대상 조사에서 '브랜드 가치 1위' - 데일리한국\",\n",
       "  'url': 'https://daily.hankooki.com/news/articleView.html?idxno=1137861',\n",
       "  'content': '삼성전자는 베트남에서 1위, 태국·인도에서 2위에 올랐고 나머지 국가에서도 대부분 상위에 위치했다. 전체',\n",
       "  'score': 0.7244226},\n",
       " {'title': '\"삼성전자 브랜드 가치 아시아 1위\"…100위 내 韓기업 4곳',\n",
       "  'url': 'https://www.goodnews1.com/news/articleView.html?idxno=440216',\n",
       "  'content': '삼성전자는 베트남에서 1위, 태국·인도에서는 2위였으며 필리핀과 인도네시아, 말레이시아에서도 상위권에 올랐다. 2위는 독일 아디다스',\n",
       "  'score': 0.7197191},\n",
       " {'title': '삼성전자, 2023년형 TV 신제품으로 중동 소비자 눈길 사로잡는다',\n",
       "  'url': 'https://news.samsung.com/kr/%EC%82%BC%EC%84%B1%EC%A0%84%EC%9E%90-2023%EB%85%84%ED%98%95-tv-%EC%8B%A0%EC%A0%9C%ED%92%88%EC%9C%BC%EB%A1%9C-%EC%A4%91%EB%8F%99-%EC%86%8C%EB%B9%84%EC%9E%90-%EB%88%88%EA%B8%B8-%EC%82%AC%EB%A1%9C',\n",
       "  'content': '삼성전자 중동총괄 임성택 부사장은 “2023년형 Neo QLED는 화질·사운드는 물론 사용자 경험 중심의 혁신을 거듭해온 제품”이라며 “중동 소비자들의 라이프',\n",
       "  'score': 0.6301622},\n",
       " {'title': '삼성·LG 전자 중동·아프리카 공략 : 네이버 블로그',\n",
       "  'url': 'https://blog.naver.com/cornpower/223117226436',\n",
       "  'content': '제품 성장세도 두드러지고 특히 중동 지역은. 유독 전자 제품에 대한 관심이. 높다고 합니다. 세계경제포럼의 글로벌 경쟁력 보고서에. 따르면 UAE는 ICT',\n",
       "  'score': 0.60694176},\n",
       " {'title': \"삼성전자, '에어솔루션 데이' 개최…중동 HVAC 시장 공략 - 이투데이\",\n",
       "  'url': 'https://www.etoday.co.kr/news/view/2470586',\n",
       "  'content': '참석자들은 세미나 이후 삼성전자 에어컨 공장과 삼성전자 공조 제품이 설치된 최고급 주상복합센터인 ‘동방지문’과 ‘소주 국제금융센터’ 등 소주·상해 시내 주요 프로젝트 현장을 방문했다. 또한, 참석자들은 삼성전자 공조 제품 외에도 기업간 거래(B2B) 대상 솔루션인 ‘스마트싱스 프로’와 ‘빌딩IoT’ 등을 체험했다.\\n\\n삼성전자는 최근 중동 지역에서 대규모 주택 단지, 종합의료센터, 고급 리조트 등 대규모 시설 중심으로 B2B 수주를 활발하게 이어가고 있다. 고효율 히트펌프 제품 기반으로 원격 유지 보수, 통합 에너지 관리, 자동화 운영 등을 통합 지원하는 스마트 솔루션을 통해 중동의 가정용·상업용 시장을 모두 공략하겠다는 전략이다. [...] ![▲삼성전자가 중국에서 개최한 ‘2025 삼성 중동 에어솔루션 데이’ 행사 현장 (사진-삼성전자 뉴스룸)](https://img.etoday.co.kr/pto_db/2025/05/20250515090949_2172890_1000_750.jpg)\\n\\n최근 유럽 최대 공조기기 업체 플랙트를 인수한 삼성전자가 중동 냉난방공조(HVAC) 시장 공략에 나섰다.\\n\\n삼성전자는 15일 뉴스룸을 통해 8~10일 중국 소주와 상해에서 ‘2025 삼성 중동 에어솔루션 데이’를 개최했다고 밝혔다.\\n\\n에어솔루션 데이는 매년 해외 주요 공조 전문 거래선과 컨설턴트를 대상으로 시장 트렌드와 업계 현황을 공유하고 삼성만의 차별화된 공조 솔루션을 제안하는 세미나 방식의 행사다.\\n\\n이번 행사는 삼성전자 에어컨의 주요 생산 거점이자 다양한 공조 제품 설비 인프라를 갖추고 있는 중국 소주와 상해에서 진행됐다. 튀르키예, 사우디, 아랍에미리트 등 8개 국가 40여 명의 공조 전문 인력도 참석했다.\\n\\n관련 뉴스 [...] ![이투데이 컬피 유튜브 채널](https://www.etoday.co.kr/images/banner/e_pc_etoday_sub_CULPI.png)',\n",
       "  'score': 0.6063825},\n",
       " {'title': \"중국 없으면 중동…'고급 가전' 삼성·LG, 이슬람 맞춤 전략 통했다 - 뉴스1\",\n",
       "  'url': 'https://www.news1.kr/industry/company/5067925',\n",
       "  'content': \"이슬람 문화에 맞춘 현지화 전략도 돋보인다. 삼성전자의 가전 관리 앱 스마트싱스엔 하루 5번 기도하는 이슬람 문화에 고려한 '기도 모드'가 담겼다.\",\n",
       "  'score': 0.5062259},\n",
       " {'title': '삼성, 3Q 중동·아프리카 스마트폰 1위…중저가 줄고 프리미엄 증가',\n",
       "  'url': 'https://m.ddaily.co.kr/page/view/2024112610223768012',\n",
       "  'content': '올해 3분기 중동·아프리카 지역 스마트폰 시장에서 두드러진 특징은 프리미엄 모델의 성장이다. 400달러 이상의 프리미엄 모델 수요가 증가하면서 스마트',\n",
       "  'score': 0.43712714},\n",
       " {'title': '삼성전자, 3Q 중남미 스마트폰 점유율 1위···전년比 4%p 상승',\n",
       "  'url': 'https://www.sisajournal-e.com/news/articleView.html?idxno=295277',\n",
       "  'content': '17일 시장조사업체 카운터포인트리서치에 따르면 삼성전자의 3분기 중남미 스마트폰 시장 점유율은 전년 동기(36%) 대비 4%포인트 상승했다. 2분기(43.5%)',\n",
       "  'score': 0.7940821},\n",
       " {'title': '삼성전자, 중남미 시장에서도 1등 신화 이어간다 - Samsung Newsroom',\n",
       "  'url': 'https://news.samsung.com/kr/%EC%82%BC%EC%84%B1%EC%A0%84%EC%9E%90-%EC%A4%91%EB%82%A8%EB%AF%B8-%EC%8B%9C%EC%9E%A5%EC%97%90%EC%84%9C%EB%8F%84-1%EB%93%B1-%EC%8B%A0%ED%99%94-%EC%9D%B4%EC%96%B4%EA%B0%84%EB%8B%A4',\n",
       "  'content': '삼성전자는 2011년 브라질, 아르헨티나, 칠레, 페루 등 중남미 주요 4개국에서 평판 TV 28.7%, LCD 28.2%, LED TV 32.5% 등의 점유율로 1위를 차지했다.',\n",
       "  'score': 0.780947},\n",
       " {'title': '삼성전자 갤럭시 S25, 국내 판매량 130만대 돌파…중 - 위키리크스한국',\n",
       "  'url': 'http://www.wikileaks-kr.org/news/articleView.html?idxno=164869',\n",
       "  'content': \"![위키리크스한국](/image/logo/toplogo_20190219030159.png)\\n![위키리크스한국](/image/logo/printlogo_20190219030159.png)\\n![[삼성 갤럭시 시리즈. / 출처=삼성전자 뉴스룸]](/news/photo/202503/164869_164685_3419.png)\\n\\n삼성전자가 국내 판매량 130만대를 돌파한 가운데 중남미 시장에서 선전하고 있는 것으로 드러났다.\\n\\n7일 삼성전자에 따르면, 삼성전자 갤럭시 S25 시리즈는 중남미 지역에서 전작 대비 31% 판매량이 증가했다. 최근 회사의 이번 시리즈가 국내에서도 사전 판매 기간에만 130만대가 판매된 데 이어 해외 시장에서도 흥행하고 있는 것이다. [...] 삼성전자는 이번 갤럭시 S25 시리즈 출시 이전부터 중남미 시장에 집중해 왔다. 회사는 자사 스마트폰 인공지능 '갤럭시 AI'를 지난 2024년 선보이며 중남미 지역에서 점유율을 늘려나갔다. 지난해 1월 세계 최초 AI 스마트폰 갤럭시 S24가 출시된 후 중남미 40개국에서 '갤럭시 AI'\\xa0사용 건수는 약 11억6000만회에 달한다. 최근 5개월간 중남미 지역의 갤럭시 AI 사용량은 250% 증가했다고 한다.\\n\\n브라질과 맥시코는 지난해 갤럭시 AI 이용 평균 기기 수 중 각각 6위와 8위를 기록했다. 브라질 스마트폰 시장은 세계 5위, 맥시코 스마트폰 시장은 중남미에서 2위로 최근 몇 년간 경쟁이 과열되고 있는 지역이다. [...] 회사가 중남미 시장을 공략해 온 데는 중남미 지역에서 기대할 수 있는 높은 성장성에 있다. 이 지역은 글로벌 스마트폰 시장 수요를 이끌 주요 시장으로 손꼽히고 있다. 현재 중국 제조사들이 저가 공세로 점유율을 빠르게 늘려가고 있지만 삼성전자는 갤럭시 S25를 이용해 1위를 사수하겠다는 전략이다.\\n\\n![[삼성 갤럭시 S25 시리즈. / 출처=연합뉴스]](/news/photo/202503/164869_164686_3445.png)\\n\\n앞서 삼성전자 갤럭시 S25 시리즈는 국내에서 사전 예약 기간에만 130만대가 판매됐다. 회사의 이번 신작은 역대 갤럭시 시리즈 중 가장 빠른 속도로 판매량 100만대를 돌파했다.\",\n",
       "  'score': 0.69795954},\n",
       " {'title': '중남미 1위 지킨 삼성, 갤럭시 A36으로 韓 시장 방어 나선다 : 네이트 뉴스',\n",
       "  'url': 'https://news.nate.com/view/20250602n23780',\n",
       "  'content': '삼성전자가 올해 1·4분기 중남미 스마트폰 시장에서 1위 자리를 지킨 가운데 국내 시장에서는 갤럭시 A36를 선보이며 점유율 방어에 나선다.',\n",
       "  'score': 0.68697983},\n",
       " {'title': 'AI 폰 인기 이 정도 일줄은…삼성제품 불티나게 팔린 이 나라 - 한국경제',\n",
       "  'url': 'https://www.hankyung.com/article/202503052975g',\n",
       "  'content': '\"AI 이렇게 많이 쓴다고?\" 중·남미서 30% 더 팔린 갤럭시 갤S25 시리즈, 중남미서 \\'인기\\' 사전 판매량, 전작보다 30%↑ 갤럭시 AI, 사용횟수 11억 넘어.',\n",
       "  'score': 0.65173227}]"
      ]
     },
     "execution_count": 85,
     "metadata": {},
     "output_type": "execute_result"
    }
   ],
   "source": [
    "search_results"
   ]
  },
  {
   "cell_type": "code",
   "execution_count": 87,
   "id": "a3c93da6",
   "metadata": {},
   "outputs": [
    {
     "data": {
      "text/plain": [
       "137"
      ]
     },
     "execution_count": 87,
     "metadata": {},
     "output_type": "execute_result"
    }
   ],
   "source": [
    "len(search_results)"
   ]
  },
  {
   "cell_type": "code",
   "execution_count": 89,
   "id": "7687f4f4",
   "metadata": {},
   "outputs": [],
   "source": [
    "search_results_df = pd.DataFrame(search_results)"
   ]
  },
  {
   "cell_type": "code",
   "execution_count": 91,
   "id": "8c1a600c",
   "metadata": {},
   "outputs": [],
   "source": [
    "search_results_df.to_csv(\"./data/search_results.csv\", index=False)"
   ]
  },
  {
   "cell_type": "code",
   "execution_count": 95,
   "id": "f2400b81",
   "metadata": {},
   "outputs": [
    {
     "data": {
      "text/plain": [
       "0            https://www.youtube.com/watch?v=esEE4tFquF4\n",
       "1            https://www.youtube.com/watch?v=Ks6TZmu5Ys4\n",
       "2            https://www.youtube.com/watch?v=5hwbFgvitys\n",
       "3            https://www.youtube.com/watch?v=_U9_a2_mCzg\n",
       "4      https://m.blog.naver.com/PostView.naver?blogId...\n",
       "                             ...                        \n",
       "132    https://www.sisajournal-e.com/news/articleView...\n",
       "133    https://news.samsung.com/kr/%EC%82%BC%EC%84%B1...\n",
       "134    http://www.wikileaks-kr.org/news/articleView.h...\n",
       "135            https://news.nate.com/view/20250602n23780\n",
       "136       https://www.hankyung.com/article/202503052975g\n",
       "Name: url, Length: 137, dtype: object"
      ]
     },
     "execution_count": 95,
     "metadata": {},
     "output_type": "execute_result"
    }
   ],
   "source": [
    "search_results_df[\"url\"]"
   ]
  },
  {
   "cell_type": "code",
   "execution_count": null,
   "id": "130c9a5d",
   "metadata": {},
   "outputs": [],
   "source": []
  }
 ],
 "metadata": {
  "kernelspec": {
   "display_name": "company_breif_pjt",
   "language": "python",
   "name": "python3"
  },
  "language_info": {
   "codemirror_mode": {
    "name": "ipython",
    "version": 3
   },
   "file_extension": ".py",
   "mimetype": "text/x-python",
   "name": "python",
   "nbconvert_exporter": "python",
   "pygments_lexer": "ipython3",
   "version": "3.10.13"
  }
 },
 "nbformat": 4,
 "nbformat_minor": 5
}
