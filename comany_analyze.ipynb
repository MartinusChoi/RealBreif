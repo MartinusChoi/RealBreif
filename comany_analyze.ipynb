{
 "cells": [
  {
   "cell_type": "markdown",
   "id": "a4cf514a",
   "metadata": {},
   "source": [
    "# 기업 주요 분석 과제 구현"
   ]
  },
  {
   "cell_type": "markdown",
   "id": "e8eeab59",
   "metadata": {},
   "source": [
    "## 0. Import"
   ]
  },
  {
   "cell_type": "code",
   "execution_count": 85,
   "id": "b37b44f2",
   "metadata": {},
   "outputs": [],
   "source": [
    "import os\n",
    "from dotenv import load_dotenv\n",
    "\n",
    "import pandas as pd\n",
    "\n",
    "from selenium import webdriver\n",
    "from selenium.webdriver.common.by import By"
   ]
  },
  {
   "cell_type": "code",
   "execution_count": 2,
   "id": "a1a50946",
   "metadata": {},
   "outputs": [
    {
     "data": {
      "text/plain": [
       "True"
      ]
     },
     "execution_count": 2,
     "metadata": {},
     "output_type": "execute_result"
    }
   ],
   "source": [
    "load_dotenv()"
   ]
  },
  {
   "cell_type": "markdown",
   "id": "ae7f4bbb",
   "metadata": {},
   "source": [
    "## 1. 경쟁 기업 개요/현황"
   ]
  },
  {
   "cell_type": "markdown",
   "id": "9c599c60",
   "metadata": {},
   "source": [
    "### 1-1. 기본 정보/규모\n",
    "\n",
    "> 설립 연도, 위치, 조직 규모, 대표 이사, 주 사업 분야 등"
   ]
  },
  {
   "cell_type": "markdown",
   "id": "8864ce94",
   "metadata": {},
   "source": [
    "- 잡코리아"
   ]
  },
  {
   "cell_type": "code",
   "execution_count": 105,
   "id": "8c23fcd6",
   "metadata": {},
   "outputs": [],
   "source": [
    "class BaseInfoLoader:\n",
    "    def __init__(self, url):\n",
    "        self.url = url\n",
    "        self.contents = []\n",
    "    \n",
    "    def load(self, in_pandas=False):\n",
    "        # search url\n",
    "        driver = webdriver.Chrome()\n",
    "        driver.get(self.url)\n",
    "\n",
    "        # find element with xpath\n",
    "        elements = driver.find_elements(By.XPATH, '//*[@id=\"company-body\"]/div[1]/div[1]/div/table')\n",
    "        for element in elements:\n",
    "            self.contents.append(element.text)\n",
    "        \n",
    "        # create base info dict\n",
    "        keys = []\n",
    "        values = []        \n",
    "        for idx, text in enumerate(self.contents[0].split('\\n')[1:]):\n",
    "            keys.append(text) if idx%2==0 else values.append(text)\n",
    "        self.info_dict = {\n",
    "            key : value\n",
    "            for key, value in zip(keys, values)\n",
    "        }\n",
    "\n",
    "        if in_pandas:\n",
    "            info_df = pd.DataFrame([self.info_dict])\n",
    "            return info_df\n",
    "        else:\n",
    "            return self.info_dict\n"
   ]
  },
  {
   "cell_type": "code",
   "execution_count": null,
   "id": "30db97e0",
   "metadata": {},
   "outputs": [],
   "source": [
    "url = \"https://www.jobkorea.co.kr/Company/1696583\"\n",
    "\n",
    "loader = BaseInfoLoader(url)"
   ]
  },
  {
   "cell_type": "code",
   "execution_count": 107,
   "id": "67ea176a",
   "metadata": {},
   "outputs": [
    {
     "data": {
      "text/html": [
       "<div>\n",
       "<style scoped>\n",
       "    .dataframe tbody tr th:only-of-type {\n",
       "        vertical-align: middle;\n",
       "    }\n",
       "\n",
       "    .dataframe tbody tr th {\n",
       "        vertical-align: top;\n",
       "    }\n",
       "\n",
       "    .dataframe thead th {\n",
       "        text-align: right;\n",
       "    }\n",
       "</style>\n",
       "<table border=\"1\" class=\"dataframe\">\n",
       "  <thead>\n",
       "    <tr style=\"text-align: right;\">\n",
       "      <th></th>\n",
       "      <th>산업</th>\n",
       "      <th>사원수</th>\n",
       "      <th>기업구분</th>\n",
       "      <th>설립일</th>\n",
       "      <th>자본금</th>\n",
       "      <th>매출액</th>\n",
       "      <th>대표자</th>\n",
       "      <th>대졸초임</th>\n",
       "      <th>주요사업</th>\n",
       "      <th>4대보험</th>\n",
       "      <th>홈페이지</th>\n",
       "      <th>주소</th>\n",
       "      <th>계열사</th>\n",
       "    </tr>\n",
       "  </thead>\n",
       "  <tbody>\n",
       "    <tr>\n",
       "      <th>0</th>\n",
       "      <td>이동전화기 제조업</td>\n",
       "      <td>129,095명 (2024.12.31)</td>\n",
       "      <td>대기업</td>\n",
       "      <td>1969.12.01 (57년차)</td>\n",
       "      <td>8,975억 1천만원 (2024.12.31)</td>\n",
       "      <td>209조 5백억원 (2024.12.31)</td>\n",
       "      <td>전영현</td>\n",
       "      <td>5,163만원 상세보기</td>\n",
       "      <td>휴대폰,컴퓨터,네트워크시스템,핵심칩,반도체부품,디스플레이패널,가전제품,의료기기,프린...</td>\n",
       "      <td>국민연금, 건강보험, 고용보험, 산재보험</td>\n",
       "      <td>http://www.samsung.com/sec</td>\n",
       "      <td>경기 수원시 영통구 삼성로 129 (매탄동, 삼성전자)</td>\n",
       "      <td>삼성그룹 스테코(주) 삼성전자판매(주) 삼성벤처투자(주) 삼성전자로지텍(주) (주)...</td>\n",
       "    </tr>\n",
       "  </tbody>\n",
       "</table>\n",
       "</div>"
      ],
      "text/plain": [
       "          산업                    사원수 기업구분                설립일  \\\n",
       "0  이동전화기 제조업  129,095명 (2024.12.31)  대기업  1969.12.01 (57년차)   \n",
       "\n",
       "                        자본금                     매출액  대표자          대졸초임  \\\n",
       "0  8,975억 1천만원 (2024.12.31)  209조 5백억원 (2024.12.31)  전영현  5,163만원 상세보기   \n",
       "\n",
       "                                                주요사업                    4대보험  \\\n",
       "0  휴대폰,컴퓨터,네트워크시스템,핵심칩,반도체부품,디스플레이패널,가전제품,의료기기,프린...  국민연금, 건강보험, 고용보험, 산재보험   \n",
       "\n",
       "                         홈페이지                              주소  \\\n",
       "0  http://www.samsung.com/sec  경기 수원시 영통구 삼성로 129 (매탄동, 삼성전자)   \n",
       "\n",
       "                                                 계열사  \n",
       "0  삼성그룹 스테코(주) 삼성전자판매(주) 삼성벤처투자(주) 삼성전자로지텍(주) (주)...  "
      ]
     },
     "execution_count": 107,
     "metadata": {},
     "output_type": "execute_result"
    }
   ],
   "source": [
    "info_df = loader.load(in_pandas=True)\n",
    "\n",
    "info_df"
   ]
  },
  {
   "cell_type": "code",
   "execution_count": 108,
   "id": "b1788448",
   "metadata": {},
   "outputs": [
    {
     "data": {
      "text/plain": [
       "{'산업': '이동전화기 제조업',\n",
       " '사원수': '129,095명 (2024.12.31)',\n",
       " '기업구분': '대기업',\n",
       " '설립일': '1969.12.01 (57년차)',\n",
       " '자본금': '8,975억 1천만원 (2024.12.31)',\n",
       " '매출액': '209조 5백억원 (2024.12.31)',\n",
       " '대표자': '전영현',\n",
       " '대졸초임': '5,163만원 상세보기',\n",
       " '주요사업': '휴대폰,컴퓨터,네트워크시스템,핵심칩,반도체부품,디스플레이패널,가전제품,의료기기,프린터 제조',\n",
       " '4대보험': '국민연금, 건강보험, 고용보험, 산재보험',\n",
       " '홈페이지': 'http://www.samsung.com/sec',\n",
       " '주소': '경기 수원시 영통구 삼성로 129 (매탄동, 삼성전자)',\n",
       " '계열사': '삼성그룹 스테코(주) 삼성전자판매(주) 삼성벤처투자(주) 삼성전자로지텍(주) (주)시큐아이 (주)씨브이네트 (주)멀티캠퍼스 삼성생명서비스손해사정(주) (주)미라콤아이앤씨 세메스(주) 에스디플렉스(주) 삼성중공업(주) 삼성SDI(주) 삼성전기(주) 삼성메디슨(주) (주)하만인터내셔널코리아 더보기'}"
      ]
     },
     "execution_count": 108,
     "metadata": {},
     "output_type": "execute_result"
    }
   ],
   "source": [
    "loader.info_dict"
   ]
  },
  {
   "cell_type": "markdown",
   "id": "a782b64e",
   "metadata": {},
   "source": [
    "### 1-2. 비즈니스 모델"
   ]
  },
  {
   "cell_type": "markdown",
   "id": "e1ed4a76",
   "metadata": {},
   "source": []
  }
 ],
 "metadata": {
  "kernelspec": {
   "display_name": "company_breif_pjt",
   "language": "python",
   "name": "python3"
  },
  "language_info": {
   "codemirror_mode": {
    "name": "ipython",
    "version": 3
   },
   "file_extension": ".py",
   "mimetype": "text/x-python",
   "name": "python",
   "nbconvert_exporter": "python",
   "pygments_lexer": "ipython3",
   "version": "3.10.16"
  }
 },
 "nbformat": 4,
 "nbformat_minor": 5
}
